{
 "cells": [
  {
   "cell_type": "markdown",
   "id": "709efb98",
   "metadata": {},
   "source": [
    "### Project Name -  \" Laptop Price Prediction \" "
   ]
  },
  {
   "cell_type": "markdown",
   "id": "22ba3b33",
   "metadata": {},
   "source": [
    "# 1. Problem Statement"
   ]
  },
  {
   "cell_type": "raw",
   "id": "710bf7ed",
   "metadata": {},
   "source": [
    "\n",
    "Problem  >> \n",
    "Costomer unable to compare Laptop Price on Basis of Diff Company name at one place.\n",
    "\n",
    "Solution >> Easily Compare Price on the Basis of Different Comany Name And Laptop Specification\n",
    "\n",
    "End User >> those costomer who wants to buy New Laptop by comparing price with all Laptops. \n",
    "            those who already have Laptops and wants to know Todays Price of their Laptop. \n",
    "            Here user can understand Which Factors affect the Laptop Price.\n",
    "\n",
    "\n",
    "The Project laptop price Prediction Based on Various Features: \n",
    "    \n",
    "    1. Brand Name\n",
    "    2. Processor Name\n",
    "    3. Generation\n",
    "    4. OS\n",
    "    5. Hard Disk\n",
    "    6. RAM\n",
    "    7. SSD\n",
    "    8. Touchscreen\n",
    "    9. Graphic Card\n",
    "    10. Processor Brand\n",
    "    \n",
    "Requirements >> The User must be very clear about his Laptop Specification. \n",
    "    "
   ]
  },
  {
   "cell_type": "markdown",
   "id": "293dc44c",
   "metadata": {},
   "source": [
    "### # Libraries Required in whole Project"
   ]
  },
  {
   "cell_type": "code",
   "execution_count": 1,
   "id": "414e858f",
   "metadata": {},
   "outputs": [],
   "source": [
    "import numpy as np  \n",
    "import pandas as pd \n",
    "\n",
    "\"Warnings\"\n",
    "import warnings\n",
    "warnings.filterwarnings(\"ignore\")\n",
    "\n",
    "\"Visualisation\"\n",
    "import seaborn as sns\n",
    "import matplotlib.pyplot as plt\n",
    "\n",
    "\"Loading Data\"\n",
    "import pickle\n",
    "import json\n",
    "\n",
    "\"Scalling\"\n",
    "from sklearn.preprocessing import StandardScaler, MinMaxScaler\n",
    "\n",
    "\"VIF\"\n",
    "from statsmodels.stats.outliers_influence import variance_inflation_factor\n",
    "\n",
    "\n",
    "\"Split Data\"\n",
    "from sklearn.model_selection import train_test_split\n",
    "\n",
    "\"ML - Algorithm\"\n",
    "from sklearn.linear_model import LinearRegression\n",
    "from sklearn.neighbors import KNeighborsRegressor\n",
    "from sklearn.tree import DecisionTreeRegressor\n",
    "from sklearn.ensemble import RandomForestRegressor\n",
    "\n",
    "\"Model Evalution\"\n",
    "from sklearn.metrics import r2_score ,mean_absolute_error\n",
    "\n",
    "\"Hyperparameter Tunning\"\n",
    "from sklearn.model_selection import RandomizedSearchCV, GridSearchCV\n",
    "\n"
   ]
  },
  {
   "cell_type": "markdown",
   "id": "c613cd95",
   "metadata": {},
   "source": [
    "# 2. Data Gathering"
   ]
  },
  {
   "cell_type": "markdown",
   "id": "6199735f",
   "metadata": {},
   "source": [
    "Kaggle Link to Download this csv file   :___  [Link csv_link](https://www.kaggle.com/datasets/saadmo/laptop-price) "
   ]
  },
  {
   "cell_type": "code",
   "execution_count": 2,
   "id": "d3f63d03",
   "metadata": {},
   "outputs": [
    {
     "data": {
      "text/html": [
       "<div>\n",
       "<style scoped>\n",
       "    .dataframe tbody tr th:only-of-type {\n",
       "        vertical-align: middle;\n",
       "    }\n",
       "\n",
       "    .dataframe tbody tr th {\n",
       "        vertical-align: top;\n",
       "    }\n",
       "\n",
       "    .dataframe thead th {\n",
       "        text-align: right;\n",
       "    }\n",
       "</style>\n",
       "<table border=\"1\" class=\"dataframe\">\n",
       "  <thead>\n",
       "    <tr style=\"text-align: right;\">\n",
       "      <th></th>\n",
       "      <th>brand</th>\n",
       "      <th>processor_brand</th>\n",
       "      <th>processor_name</th>\n",
       "      <th>processor_gnrtn</th>\n",
       "      <th>ram_gb</th>\n",
       "      <th>ssd</th>\n",
       "      <th>hdd</th>\n",
       "      <th>os</th>\n",
       "      <th>os_bit</th>\n",
       "      <th>graphic_card_gb</th>\n",
       "      <th>Touchscreen</th>\n",
       "      <th>msoffice</th>\n",
       "      <th>Price</th>\n",
       "    </tr>\n",
       "  </thead>\n",
       "  <tbody>\n",
       "    <tr>\n",
       "      <th>213</th>\n",
       "      <td>ASUS</td>\n",
       "      <td>Intel</td>\n",
       "      <td>Core i5</td>\n",
       "      <td>11th</td>\n",
       "      <td>8 GB</td>\n",
       "      <td>256 GB</td>\n",
       "      <td>0 GB</td>\n",
       "      <td>Windows</td>\n",
       "      <td>64-bit</td>\n",
       "      <td>0 GB</td>\n",
       "      <td>No</td>\n",
       "      <td>No</td>\n",
       "      <td>49800</td>\n",
       "    </tr>\n",
       "    <tr>\n",
       "      <th>10</th>\n",
       "      <td>acer</td>\n",
       "      <td>AMD</td>\n",
       "      <td>Ryzen 5</td>\n",
       "      <td>10th</td>\n",
       "      <td>4 GB</td>\n",
       "      <td>0 GB</td>\n",
       "      <td>512 GB</td>\n",
       "      <td>Windows</td>\n",
       "      <td>32-bit</td>\n",
       "      <td>6 GB</td>\n",
       "      <td>No</td>\n",
       "      <td>No</td>\n",
       "      <td>93700</td>\n",
       "    </tr>\n",
       "    <tr>\n",
       "      <th>469</th>\n",
       "      <td>DELL</td>\n",
       "      <td>Intel</td>\n",
       "      <td>Core i5</td>\n",
       "      <td>11th</td>\n",
       "      <td>8 GB</td>\n",
       "      <td>256 GB</td>\n",
       "      <td>1024 GB</td>\n",
       "      <td>Windows</td>\n",
       "      <td>64-bit</td>\n",
       "      <td>2 GB</td>\n",
       "      <td>No</td>\n",
       "      <td>No</td>\n",
       "      <td>67490</td>\n",
       "    </tr>\n",
       "    <tr>\n",
       "      <th>129</th>\n",
       "      <td>HP</td>\n",
       "      <td>Intel</td>\n",
       "      <td>Core i3</td>\n",
       "      <td>11th</td>\n",
       "      <td>8 GB</td>\n",
       "      <td>512 GB</td>\n",
       "      <td>0 GB</td>\n",
       "      <td>Windows</td>\n",
       "      <td>64-bit</td>\n",
       "      <td>0 GB</td>\n",
       "      <td>Yes</td>\n",
       "      <td>Yes</td>\n",
       "      <td>55490</td>\n",
       "    </tr>\n",
       "    <tr>\n",
       "      <th>615</th>\n",
       "      <td>APPLE</td>\n",
       "      <td>M1</td>\n",
       "      <td>M1</td>\n",
       "      <td>10th</td>\n",
       "      <td>4 GB</td>\n",
       "      <td>512 GB</td>\n",
       "      <td>0 GB</td>\n",
       "      <td>Mac</td>\n",
       "      <td>64-bit</td>\n",
       "      <td>0 GB</td>\n",
       "      <td>No</td>\n",
       "      <td>No</td>\n",
       "      <td>124990</td>\n",
       "    </tr>\n",
       "  </tbody>\n",
       "</table>\n",
       "</div>"
      ],
      "text/plain": [
       "     brand processor_brand processor_name processor_gnrtn ram_gb     ssd  \\\n",
       "213   ASUS           Intel        Core i5            11th   8 GB  256 GB   \n",
       "10    acer             AMD        Ryzen 5            10th   4 GB    0 GB   \n",
       "469   DELL           Intel        Core i5            11th   8 GB  256 GB   \n",
       "129     HP           Intel        Core i3            11th   8 GB  512 GB   \n",
       "615  APPLE              M1             M1            10th   4 GB  512 GB   \n",
       "\n",
       "         hdd       os  os_bit graphic_card_gb Touchscreen msoffice   Price  \n",
       "213     0 GB  Windows  64-bit            0 GB          No       No   49800  \n",
       "10    512 GB  Windows  32-bit            6 GB          No       No   93700  \n",
       "469  1024 GB  Windows  64-bit            2 GB          No       No   67490  \n",
       "129     0 GB  Windows  64-bit            0 GB         Yes      Yes   55490  \n",
       "615     0 GB      Mac  64-bit            0 GB          No       No  124990  "
      ]
     },
     "execution_count": 2,
     "metadata": {},
     "output_type": "execute_result"
    }
   ],
   "source": [
    "\"CSV file >> DF\"\n",
    "\n",
    "df = pd.read_csv(\"Laptop_Price.csv\",index_col=[\"Unnamed: 0\"])\n",
    "df.sample(5)"
   ]
  },
  {
   "cell_type": "markdown",
   "id": "61717860",
   "metadata": {},
   "source": [
    "## Data Understandig"
   ]
  },
  {
   "cell_type": "raw",
   "id": "6ec1e6c4",
   "metadata": {},
   "source": [
    "Input col : Laptop Specifications\n",
    "Target Col : Laptop Price\n",
    "\n",
    "Labelled Data\n",
    "Supervised ML \n",
    "\n",
    "Numeric Data in Target Col\n",
    "Regression Problem"
   ]
  },
  {
   "cell_type": "code",
   "execution_count": 3,
   "id": "ec011c20",
   "metadata": {},
   "outputs": [
    {
     "data": {
      "text/plain": [
       "(823, 13)"
      ]
     },
     "execution_count": 3,
     "metadata": {},
     "output_type": "execute_result"
    }
   ],
   "source": [
    "df.sample(5)            # How data Looks\n",
    "df.isna().sum()         # 18 NaN\n",
    "df.T.duplicated().sum() # col\n",
    "df.duplicated().sum()   # 46 duplicate rows \n",
    "df.shape  "
   ]
  },
  {
   "cell_type": "code",
   "execution_count": 4,
   "id": "f7483508",
   "metadata": {},
   "outputs": [
    {
     "data": {
      "text/plain": [
       "(777, 13)"
      ]
     },
     "execution_count": 4,
     "metadata": {},
     "output_type": "execute_result"
    }
   ],
   "source": [
    "# Remove duplicate Rows\n",
    "\n",
    "df = df.drop_duplicates()\n",
    "df.shape"
   ]
  },
  {
   "cell_type": "markdown",
   "id": "c0cce1aa",
   "metadata": {},
   "source": [
    "# 3. EDA ( Exploratory Data Analysis )"
   ]
  },
  {
   "cell_type": "markdown",
   "id": "aa522271",
   "metadata": {},
   "source": [
    "#### Relation Of Independent col with Target col "
   ]
  },
  {
   "cell_type": "code",
   "execution_count": 6,
   "id": "76ed0663",
   "metadata": {},
   "outputs": [
    {
     "data": {
      "text/plain": [
       "<Axes: xlabel='ram_gb'>"
      ]
     },
     "execution_count": 6,
     "metadata": {},
     "output_type": "execute_result"
    },
    {
     "data": {
      "image/png": "[encoded data removed]",
      "text/plain": [
       "<Figure size 640x480 with 1 Axes>"
      ]
     },
     "metadata": {},
     "output_type": "display_data"
    }
   ],
   "source": [
    "df[\"ram_gb\"].value_counts().plot(kind=\"bar\")"
   ]
  },
  {
   "cell_type": "code",
   "execution_count": 21,
   "id": "4e1b10bd",
   "metadata": {},
   "outputs": [
    {
     "data": {
      "text/plain": [
       "<Axes: xlabel='os_bit'>"
      ]
     },
     "execution_count": 21,
     "metadata": {},
     "output_type": "execute_result"
    },
    {
     "data": {
      "image/png": "[encoded data removed]",
      "text/plain": [
       "<Figure size 640x480 with 1 Axes>"
      ]
     },
     "metadata": {},
     "output_type": "display_data"
    }
   ],
   "source": [
    "# df[\"graphic_card_gb\"].value_counts().plot(kind=\"bar\")\n",
    "df[\"os_bit\"].value_counts().plot(kind=\"bar\")"
   ]
  },
  {
   "cell_type": "code",
   "execution_count": 5,
   "id": "76571f8b",
   "metadata": {},
   "outputs": [
    {
     "data": {
      "text/plain": [
       "<Axes: xlabel='brand', ylabel='Price'>"
      ]
     },
     "execution_count": 5,
     "metadata": {},
     "output_type": "execute_result"
    },
    {
     "data": {
      "image/png": "[encoded data removed]",
      "text/plain": [
       "<Figure size 640x480 with 1 Axes>"
      ]
     },
     "metadata": {},
     "output_type": "display_data"
    }
   ],
   "source": [
    "sns.barplot(x = df[\"brand\"] ,y =df[\"Price\"])"
   ]
  },
  {
   "cell_type": "code",
   "execution_count": 7,
   "id": "43e32861",
   "metadata": {},
   "outputs": [
    {
     "data": {
      "text/plain": [
       "<Axes: xlabel='os', ylabel='Price'>"
      ]
     },
     "execution_count": 7,
     "metadata": {},
     "output_type": "execute_result"
    },
    {
     "data": {
      "image/png": "[encoded data removed]",
      "text/plain": [
       "<Figure size 640x480 with 1 Axes>"
      ]
     },
     "metadata": {},
     "output_type": "display_data"
    }
   ],
   "source": [
    "sns.barplot(x = df[\"os\"] ,y =df[\"Price\"])"
   ]
  },
  {
   "cell_type": "code",
   "execution_count": 8,
   "id": "f31fa8ce",
   "metadata": {},
   "outputs": [
    {
     "data": {
      "text/plain": [
       "<Axes: xlabel='brand'>"
      ]
     },
     "execution_count": 8,
     "metadata": {},
     "output_type": "execute_result"
    },
    {
     "data": {
      "image/png": "[encoded data removed]",
      "text/plain": [
       "<Figure size 640x480 with 1 Axes>"
      ]
     },
     "metadata": {},
     "output_type": "display_data"
    }
   ],
   "source": [
    "# Brand wise No of Laptops in Data\n",
    "df[\"brand\"].value_counts().plot(kind=\"bar\")"
   ]
  },
  {
   "cell_type": "code",
   "execution_count": 9,
   "id": "e462b338",
   "metadata": {},
   "outputs": [
    {
     "data": {
      "text/plain": [
       "<Axes: xlabel='Touchscreen', ylabel='Price'>"
      ]
     },
     "execution_count": 9,
     "metadata": {},
     "output_type": "execute_result"
    },
    {
     "data": {
      "image/png": "[encoded data removed]",
      "text/plain": [
       "<Figure size 640x480 with 1 Axes>"
      ]
     },
     "metadata": {},
     "output_type": "display_data"
    }
   ],
   "source": [
    "sns.barplot(x = df[\"Touchscreen\"] ,y =df[\"Price\"])"
   ]
  },
  {
   "cell_type": "code",
   "execution_count": 3,
   "id": "41092ccd",
   "metadata": {},
   "outputs": [
    {
     "data": {
      "text/plain": [
       "<Axes: xlabel='Touchscreen', ylabel='count'>"
      ]
     },
     "execution_count": 3,
     "metadata": {},
     "output_type": "execute_result"
    },
    {
     "data": {
      "image/png": "[encoded data removed]",
      "text/plain": [
       "<Figure size 640x480 with 1 Axes>"
      ]
     },
     "metadata": {},
     "output_type": "display_data"
    }
   ],
   "source": [
    "# Touchsreen Laptops Counts\n",
    "sns.countplot(x = df[\"Touchscreen\"])"
   ]
  },
  {
   "cell_type": "code",
   "execution_count": 4,
   "id": "df84245d",
   "metadata": {},
   "outputs": [
    {
     "data": {
      "text/plain": [
       "<Axes: xlabel='Price', ylabel='Density'>"
      ]
     },
     "execution_count": 4,
     "metadata": {},
     "output_type": "execute_result"
    },
    {
     "data": {
      "image/png": "[encoded data removed]",
      "text/plain": [
       "<Figure size 640x480 with 1 Axes>"
      ]
     },
     "metadata": {},
     "output_type": "display_data"
    }
   ],
   "source": [
    "sns.kdeplot(df[\"Price\"],fill=True)"
   ]
  },
  {
   "cell_type": "code",
   "execution_count": 215,
   "id": "da429573",
   "metadata": {},
   "outputs": [
    {
     "data": {
      "text/plain": [
       "<Axes: xlabel='processor_brand', ylabel='Price'>"
      ]
     },
     "execution_count": 215,
     "metadata": {},
     "output_type": "execute_result"
    },
    {
     "data": {
      "image/png": "[encoded data removed]",
      "text/plain": [
       "<Figure size 640x480 with 1 Axes>"
      ]
     },
     "metadata": {},
     "output_type": "display_data"
    }
   ],
   "source": [
    "sns.barplot(x = df[\"processor_brand\"] ,y =df[\"Price\"])"
   ]
  },
  {
   "cell_type": "code",
   "execution_count": 21,
   "id": "ce62589d",
   "metadata": {},
   "outputs": [
    {
     "data": {
      "image/png": "[encoded data removed]",
      "text/plain": [
       "<Figure size 640x480 with 1 Axes>"
      ]
     },
     "metadata": {},
     "output_type": "display_data"
    }
   ],
   "source": [
    "sns.barplot(x = df[\"processor_name\"] ,y =df[\"Price\"])\n",
    "plt.xticks(rotation = \"vertical\")\n",
    "plt.show()"
   ]
  },
  {
   "cell_type": "code",
   "execution_count": 5,
   "id": "ce4cd41f",
   "metadata": {},
   "outputs": [
    {
     "data": {
      "image/png": "[encoded data removed]",
      "text/plain": [
       "<Figure size 640x480 with 1 Axes>"
      ]
     },
     "metadata": {},
     "output_type": "display_data"
    }
   ],
   "source": [
    "sns.barplot(x = df[\"processor_gnrtn\"] ,y =df[\"Price\"])\n",
    "plt.xticks(rotation = \"vertical\")\n",
    "plt.show()"
   ]
  },
  {
   "cell_type": "code",
   "execution_count": 8,
   "id": "cdfe01bd",
   "metadata": {},
   "outputs": [
    {
     "data": {
      "text/plain": [
       "<Axes: xlabel='msoffice', ylabel='Price'>"
      ]
     },
     "execution_count": 8,
     "metadata": {},
     "output_type": "execute_result"
    },
    {
     "data": {
      "image/png": "[encoded data removed]",
      "text/plain": [
       "<Figure size 640x480 with 1 Axes>"
      ]
     },
     "metadata": {},
     "output_type": "display_data"
    }
   ],
   "source": [
    "sns.barplot(x = df[\"msoffice\"] ,y =df[\"Price\"])"
   ]
  },
  {
   "cell_type": "markdown",
   "id": "8a1bfd2f",
   "metadata": {},
   "source": [
    "# 4. Feature Engineering"
   ]
  },
  {
   "cell_type": "markdown",
   "id": "26d398c6",
   "metadata": {},
   "source": [
    "#### Convert Object Type  >  Numeric DataType"
   ]
  },
  {
   "cell_type": "markdown",
   "id": "6d1732b9",
   "metadata": {},
   "source": [
    "### 1. Label Encoding"
   ]
  },
  {
   "cell_type": "code",
   "execution_count": 22,
   "id": "bd543dd7",
   "metadata": {},
   "outputs": [
    {
     "data": {
      "text/plain": [
       "processor_gnrtn\n",
       "11th             311\n",
       "Not Available    218\n",
       "10th             196\n",
       "8th               35\n",
       "7th                7\n",
       "9th                6\n",
       "12th               3\n",
       "4th                1\n",
       "Name: count, dtype: int64"
      ]
     },
     "execution_count": 22,
     "metadata": {},
     "output_type": "execute_result"
    }
   ],
   "source": [
    "df[\"processor_gnrtn\"].value_counts()"
   ]
  },
  {
   "cell_type": "code",
   "execution_count": 23,
   "id": "0f161c93",
   "metadata": {},
   "outputs": [
    {
     "data": {
      "text/plain": [
       "processor_gnrtn\n",
       "11th    529\n",
       "10th    196\n",
       "8th      35\n",
       "7th       7\n",
       "9th       6\n",
       "12th      3\n",
       "4th       1\n",
       "Name: count, dtype: int64"
      ]
     },
     "execution_count": 23,
     "metadata": {},
     "output_type": "execute_result"
    }
   ],
   "source": [
    "df[\"processor_gnrtn\"].mode()[0]\n",
    "df[\"processor_gnrtn\"].replace({\"Not Available\":df[\"processor_gnrtn\"].mode()[0]},inplace=True)\n",
    "df[\"processor_gnrtn\"].value_counts()"
   ]
  },
  {
   "cell_type": "code",
   "execution_count": 24,
   "id": "3b1b7813",
   "metadata": {},
   "outputs": [
    {
     "name": "stdout",
     "output_type": "stream",
     "text": [
      "<class 'pandas.core.frame.DataFrame'>\n",
      "Index: 777 entries, 0 to 822\n",
      "Data columns (total 13 columns):\n",
      " #   Column           Non-Null Count  Dtype \n",
      "---  ------           --------------  ----- \n",
      " 0   brand            777 non-null    object\n",
      " 1   processor_brand  777 non-null    object\n",
      " 2   processor_name   777 non-null    object\n",
      " 3   processor_gnrtn  777 non-null    object\n",
      " 4   ram_gb           777 non-null    object\n",
      " 5   ssd              777 non-null    object\n",
      " 6   hdd              777 non-null    object\n",
      " 7   os               777 non-null    object\n",
      " 8   os_bit           777 non-null    object\n",
      " 9   graphic_card_gb  777 non-null    object\n",
      " 10  Touchscreen      777 non-null    object\n",
      " 11  msoffice         777 non-null    object\n",
      " 12  Price            777 non-null    int64 \n",
      "dtypes: int64(1), object(12)\n",
      "memory usage: 85.0+ KB\n"
     ]
    }
   ],
   "source": [
    "df.info()"
   ]
  },
  {
   "cell_type": "code",
   "execution_count": 474,
   "id": "e08a20d6",
   "metadata": {},
   "outputs": [],
   "source": [
    "D = df \n",
    "\n",
    "# graphic_card_gb\n",
    "D[\"graphic_card_gb\"].value_counts()\n",
    "D[\"graphic_card_gb\"].replace({\"0 GB\":0, \"4 GB\":4, \"2 GB\":2,\"6 GB\":6,\"8 GB\":8},inplace=True)\n",
    "\n",
    "# ram_gb\n",
    "D[\"ram_gb\"].value_counts()\n",
    "D[\"ram_gb\"].replace({\"4 GB\":4, \"16 GB\":16,\"32 GB\":32,\"8 GB\":8},inplace=True)\n",
    "\n",
    "# hdd\n",
    "D[\"hdd\"].value_counts()\n",
    "D[\"hdd\"].replace({\"0 GB\":0,\"1024 GB\":1024,\"512 GB\":512,\"2048 GB\":2048},inplace=True)\n",
    "\n",
    "# Touchscreen\n",
    "D[\"Touchscreen\"].value_counts()\n",
    "D[\"Touchscreen\"].replace({\"Yes\":1,\"No\":0},inplace=True)\n",
    "\n",
    "#Processor Brand\n",
    "D[\"processor_brand\"].value_counts()\n",
    "D[\"processor_brand\"].replace({\"Intel\":1,\"AMD\":1,\"M1\":1.7},inplace= True)\n",
    "\n",
    "# ssd\n",
    "D[\"ssd\"].value_counts()\n",
    "D[\"ssd\"].replace({\"512 GB\":512,\"256 GB\":256,\"0 GB\":0,\"1024 GB\":1024,\"128 GB \":128,\n",
    "                  \"2048 GB\":2048,\"3072 GB\":2048,\"128 GB\":128},inplace=True)\n",
    "\n",
    "# Processor Name\n",
    "D[\"processor_name\"].value_counts()\n",
    "D[\"processor_name\"].replace({\"Core i5\":5,\"Core i3\":3,\"Core i9\":12,\n",
    "                            \"Ryzen 9\":8,\"Ryzen 3\":3,\"Ryzen 7\":7,\n",
    "                            \"Core i7\":7,\"Ryzen 5\":5,\"M1\":9,\"Celeron Dual\":2,\n",
    "                            \"Pentium Quad\":3},inplace= True)\n",
    "# OS\n",
    "D[\"os\"].replace({\"Windows\":1,\"DOS\":1,\"Mac\":2},inplace=True)\n",
    "\n",
    "\n",
    "# OS - Bit\n",
    "D[\"os_bit\"].value_counts()\n",
    "D[\"os_bit\"].replace({\"64-bit\":1, \"32-bit\":0},inplace=True)\n",
    "\n",
    "\n",
    "#msoffice\n",
    "D[\"msoffice\"].value_counts()\n",
    "D[\"msoffice\"].replace({\"Yes\":1,\"No\":0},inplace=True)\n",
    "\n"
   ]
  },
  {
   "cell_type": "markdown",
   "id": "129a3e33",
   "metadata": {},
   "source": [
    "### 2. One Hot Encoding"
   ]
  },
  {
   "cell_type": "code",
   "execution_count": 475,
   "id": "67ef39e5",
   "metadata": {},
   "outputs": [],
   "source": [
    "D= pd.get_dummies(D,columns=[\"brand\",\"processor_gnrtn\"],dtype=int)"
   ]
  },
  {
   "cell_type": "code",
   "execution_count": 478,
   "id": "d202b732",
   "metadata": {},
   "outputs": [
    {
     "data": {
      "text/plain": [
       "Index(['processor_brand', 'processor_name', 'ram_gb', 'ssd', 'hdd', 'os',\n",
       "       'os_bit', 'graphic_card_gb', 'Touchscreen', 'msoffice', 'Price',\n",
       "       'brand_APPLE', 'brand_ASUS', 'brand_Avita', 'brand_DELL', 'brand_HP',\n",
       "       'brand_Lenovo', 'brand_MSI', 'brand_acer', 'processor_gnrtn_10th',\n",
       "       'processor_gnrtn_11th', 'processor_gnrtn_12th', 'processor_gnrtn_4th',\n",
       "       'processor_gnrtn_7th', 'processor_gnrtn_8th', 'processor_gnrtn_9th'],\n",
       "      dtype='object')"
      ]
     },
     "execution_count": 478,
     "metadata": {},
     "output_type": "execute_result"
    }
   ],
   "source": [
    "D.sample(5)\n",
    "D.columns"
   ]
  },
  {
   "cell_type": "code",
   "execution_count": 325,
   "id": "8ef5d27d",
   "metadata": {},
   "outputs": [],
   "source": [
    "# D.skew()\n",
    "# df[\"processor_brand\"]"
   ]
  },
  {
   "cell_type": "code",
   "execution_count": 329,
   "id": "8fd9541c",
   "metadata": {},
   "outputs": [
    {
     "data": {
      "text/html": [
       "<div>\n",
       "<style scoped>\n",
       "    .dataframe tbody tr th:only-of-type {\n",
       "        vertical-align: middle;\n",
       "    }\n",
       "\n",
       "    .dataframe tbody tr th {\n",
       "        vertical-align: top;\n",
       "    }\n",
       "\n",
       "    .dataframe thead th {\n",
       "        text-align: right;\n",
       "    }\n",
       "</style>\n",
       "<table border=\"1\" class=\"dataframe\">\n",
       "  <thead>\n",
       "    <tr style=\"text-align: right;\">\n",
       "      <th></th>\n",
       "      <th>processor_brand</th>\n",
       "      <th>processor_name</th>\n",
       "      <th>ram_gb</th>\n",
       "      <th>ssd</th>\n",
       "      <th>hdd</th>\n",
       "      <th>os</th>\n",
       "      <th>os_bit</th>\n",
       "      <th>graphic_card_gb</th>\n",
       "      <th>Touchscreen</th>\n",
       "      <th>msoffice</th>\n",
       "      <th>Price</th>\n",
       "    </tr>\n",
       "  </thead>\n",
       "  <tbody>\n",
       "    <tr>\n",
       "      <th>count</th>\n",
       "      <td>777.000000</td>\n",
       "      <td>777.000000</td>\n",
       "      <td>777.000000</td>\n",
       "      <td>777.000000</td>\n",
       "      <td>777.000000</td>\n",
       "      <td>777.000000</td>\n",
       "      <td>777.000000</td>\n",
       "      <td>777.000000</td>\n",
       "      <td>777.000000</td>\n",
       "      <td>777.00000</td>\n",
       "      <td>777.000000</td>\n",
       "    </tr>\n",
       "    <tr>\n",
       "      <th>mean</th>\n",
       "      <td>1.017117</td>\n",
       "      <td>5.087516</td>\n",
       "      <td>8.684685</td>\n",
       "      <td>451.212355</td>\n",
       "      <td>234.584299</td>\n",
       "      <td>1.028314</td>\n",
       "      <td>0.861004</td>\n",
       "      <td>1.238095</td>\n",
       "      <td>0.118404</td>\n",
       "      <td>0.34749</td>\n",
       "      <td>76910.471042</td>\n",
       "    </tr>\n",
       "    <tr>\n",
       "      <th>std</th>\n",
       "      <td>0.108185</td>\n",
       "      <td>1.807077</td>\n",
       "      <td>4.421676</td>\n",
       "      <td>313.122316</td>\n",
       "      <td>417.867331</td>\n",
       "      <td>0.165975</td>\n",
       "      <td>0.346165</td>\n",
       "      <td>2.057471</td>\n",
       "      <td>0.323294</td>\n",
       "      <td>0.47648</td>\n",
       "      <td>45585.801769</td>\n",
       "    </tr>\n",
       "    <tr>\n",
       "      <th>min</th>\n",
       "      <td>1.000000</td>\n",
       "      <td>2.000000</td>\n",
       "      <td>4.000000</td>\n",
       "      <td>0.000000</td>\n",
       "      <td>0.000000</td>\n",
       "      <td>1.000000</td>\n",
       "      <td>0.000000</td>\n",
       "      <td>0.000000</td>\n",
       "      <td>0.000000</td>\n",
       "      <td>0.00000</td>\n",
       "      <td>16990.000000</td>\n",
       "    </tr>\n",
       "    <tr>\n",
       "      <th>25%</th>\n",
       "      <td>1.000000</td>\n",
       "      <td>3.000000</td>\n",
       "      <td>4.000000</td>\n",
       "      <td>256.000000</td>\n",
       "      <td>0.000000</td>\n",
       "      <td>1.000000</td>\n",
       "      <td>1.000000</td>\n",
       "      <td>0.000000</td>\n",
       "      <td>0.000000</td>\n",
       "      <td>0.00000</td>\n",
       "      <td>45990.000000</td>\n",
       "    </tr>\n",
       "    <tr>\n",
       "      <th>50%</th>\n",
       "      <td>1.000000</td>\n",
       "      <td>5.000000</td>\n",
       "      <td>8.000000</td>\n",
       "      <td>512.000000</td>\n",
       "      <td>0.000000</td>\n",
       "      <td>1.000000</td>\n",
       "      <td>1.000000</td>\n",
       "      <td>0.000000</td>\n",
       "      <td>0.000000</td>\n",
       "      <td>0.00000</td>\n",
       "      <td>64190.000000</td>\n",
       "    </tr>\n",
       "    <tr>\n",
       "      <th>75%</th>\n",
       "      <td>1.000000</td>\n",
       "      <td>7.000000</td>\n",
       "      <td>8.000000</td>\n",
       "      <td>512.000000</td>\n",
       "      <td>512.000000</td>\n",
       "      <td>1.000000</td>\n",
       "      <td>1.000000</td>\n",
       "      <td>2.000000</td>\n",
       "      <td>0.000000</td>\n",
       "      <td>1.00000</td>\n",
       "      <td>89990.000000</td>\n",
       "    </tr>\n",
       "    <tr>\n",
       "      <th>max</th>\n",
       "      <td>1.700000</td>\n",
       "      <td>12.000000</td>\n",
       "      <td>32.000000</td>\n",
       "      <td>2048.000000</td>\n",
       "      <td>2048.000000</td>\n",
       "      <td>2.000000</td>\n",
       "      <td>1.000000</td>\n",
       "      <td>8.000000</td>\n",
       "      <td>1.000000</td>\n",
       "      <td>1.00000</td>\n",
       "      <td>441990.000000</td>\n",
       "    </tr>\n",
       "  </tbody>\n",
       "</table>\n",
       "</div>"
      ],
      "text/plain": [
       "       processor_brand  processor_name      ram_gb          ssd          hdd  \\\n",
       "count       777.000000      777.000000  777.000000   777.000000   777.000000   \n",
       "mean          1.017117        5.087516    8.684685   451.212355   234.584299   \n",
       "std           0.108185        1.807077    4.421676   313.122316   417.867331   \n",
       "min           1.000000        2.000000    4.000000     0.000000     0.000000   \n",
       "25%           1.000000        3.000000    4.000000   256.000000     0.000000   \n",
       "50%           1.000000        5.000000    8.000000   512.000000     0.000000   \n",
       "75%           1.000000        7.000000    8.000000   512.000000   512.000000   \n",
       "max           1.700000       12.000000   32.000000  2048.000000  2048.000000   \n",
       "\n",
       "               os      os_bit  graphic_card_gb  Touchscreen   msoffice  \\\n",
       "count  777.000000  777.000000       777.000000   777.000000  777.00000   \n",
       "mean     1.028314    0.861004         1.238095     0.118404    0.34749   \n",
       "std      0.165975    0.346165         2.057471     0.323294    0.47648   \n",
       "min      1.000000    0.000000         0.000000     0.000000    0.00000   \n",
       "25%      1.000000    1.000000         0.000000     0.000000    0.00000   \n",
       "50%      1.000000    1.000000         0.000000     0.000000    0.00000   \n",
       "75%      1.000000    1.000000         2.000000     0.000000    1.00000   \n",
       "max      2.000000    1.000000         8.000000     1.000000    1.00000   \n",
       "\n",
       "               Price  \n",
       "count     777.000000  \n",
       "mean    76910.471042  \n",
       "std     45585.801769  \n",
       "min     16990.000000  \n",
       "25%     45990.000000  \n",
       "50%     64190.000000  \n",
       "75%     89990.000000  \n",
       "max    441990.000000  "
      ]
     },
     "execution_count": 329,
     "metadata": {},
     "output_type": "execute_result"
    }
   ],
   "source": [
    "U = df[\"processor_brand\"].quantile(0.98)\n",
    "L = df[\"processor_brand\"].quantile(0.02)\n",
    "df.describe()"
   ]
  },
  {
   "cell_type": "code",
   "execution_count": 39,
   "id": "e6abbb3e",
   "metadata": {},
   "outputs": [
    {
     "name": "stdout",
     "output_type": "stream",
     "text": [
      "<class 'pandas.core.frame.DataFrame'>\n",
      "Index: 777 entries, 0 to 822\n",
      "Data columns (total 26 columns):\n",
      " #   Column                Non-Null Count  Dtype  \n",
      "---  ------                --------------  -----  \n",
      " 0   processor_brand       777 non-null    float64\n",
      " 1   processor_name        777 non-null    int64  \n",
      " 2   ram_gb                777 non-null    int64  \n",
      " 3   ssd                   777 non-null    int64  \n",
      " 4   hdd                   777 non-null    int64  \n",
      " 5   os                    777 non-null    int64  \n",
      " 6   os_bit                777 non-null    int64  \n",
      " 7   graphic_card_gb       777 non-null    int64  \n",
      " 8   Touchscreen           777 non-null    int64  \n",
      " 9   msoffice              777 non-null    int64  \n",
      " 10  Price                 777 non-null    int64  \n",
      " 11  brand_APPLE           777 non-null    int32  \n",
      " 12  brand_ASUS            777 non-null    int32  \n",
      " 13  brand_Avita           777 non-null    int32  \n",
      " 14  brand_DELL            777 non-null    int32  \n",
      " 15  brand_HP              777 non-null    int32  \n",
      " 16  brand_Lenovo          777 non-null    int32  \n",
      " 17  brand_MSI             777 non-null    int32  \n",
      " 18  brand_acer            777 non-null    int32  \n",
      " 19  processor_gnrtn_10th  777 non-null    int32  \n",
      " 20  processor_gnrtn_11th  777 non-null    int32  \n",
      " 21  processor_gnrtn_12th  777 non-null    int32  \n",
      " 22  processor_gnrtn_4th   777 non-null    int32  \n",
      " 23  processor_gnrtn_7th   777 non-null    int32  \n",
      " 24  processor_gnrtn_8th   777 non-null    int32  \n",
      " 25  processor_gnrtn_9th   777 non-null    int32  \n",
      "dtypes: float64(1), int32(15), int64(10)\n",
      "memory usage: 118.4 KB\n"
     ]
    }
   ],
   "source": [
    "D.info()"
   ]
  },
  {
   "cell_type": "markdown",
   "id": "d41d6ab9",
   "metadata": {},
   "source": [
    "# 5. Feature Selection"
   ]
  },
  {
   "cell_type": "markdown",
   "id": "47e68e0e",
   "metadata": {},
   "source": [
    "### 1. Linearity"
   ]
  },
  {
   "cell_type": "code",
   "execution_count": 47,
   "id": "5fe857a7",
   "metadata": {},
   "outputs": [
    {
     "data": {
      "text/plain": [
       "<Axes: >"
      ]
     },
     "execution_count": 47,
     "metadata": {},
     "output_type": "execute_result"
    },
    {
     "data": {
      "image/png": "[encoded data removed]",
      "text/plain": [
       "<Figure size 200x600 with 2 Axes>"
      ]
     },
     "metadata": {},
     "output_type": "display_data"
    }
   ],
   "source": [
    "\"Coefficient Of Correlation\"\n",
    "\n",
    "D.corr(numeric_only=True)[[\"Price\"]]\n",
    "#sns.heatmap(D.corr(),annot=True)\n",
    "\n",
    "plt.figure(figsize = (2,6))\n",
    "sns.heatmap(D.corr()[[\"Price\"]], annot = True)"
   ]
  },
  {
   "cell_type": "markdown",
   "id": "9035c764",
   "metadata": {},
   "source": [
    "### 2. VIF ( Varience Inflution Factor)"
   ]
  },
  {
   "cell_type": "code",
   "execution_count": 48,
   "id": "d2daf3f0",
   "metadata": {},
   "outputs": [
    {
     "data": {
      "text/plain": [
       "(777, 25)"
      ]
     },
     "execution_count": 48,
     "metadata": {},
     "output_type": "execute_result"
    }
   ],
   "source": [
    "x = D.drop([\"Price\"],axis = True)\n",
    "x.shape"
   ]
  },
  {
   "cell_type": "code",
   "execution_count": 473,
   "id": "915e3e7f",
   "metadata": {},
   "outputs": [
    {
     "data": {
      "text/html": [
       "<div>\n",
       "<style scoped>\n",
       "    .dataframe tbody tr th:only-of-type {\n",
       "        vertical-align: middle;\n",
       "    }\n",
       "\n",
       "    .dataframe tbody tr th {\n",
       "        vertical-align: top;\n",
       "    }\n",
       "\n",
       "    .dataframe thead th {\n",
       "        text-align: right;\n",
       "    }\n",
       "</style>\n",
       "<table border=\"1\" class=\"dataframe\">\n",
       "  <thead>\n",
       "    <tr style=\"text-align: right;\">\n",
       "      <th></th>\n",
       "      <th>brand</th>\n",
       "      <th>processor_brand</th>\n",
       "      <th>processor_name</th>\n",
       "      <th>processor_gnrtn</th>\n",
       "      <th>ram_gb</th>\n",
       "      <th>ssd</th>\n",
       "      <th>hdd</th>\n",
       "      <th>os</th>\n",
       "      <th>os_bit</th>\n",
       "      <th>graphic_card_gb</th>\n",
       "      <th>Touchscreen</th>\n",
       "      <th>msoffice</th>\n",
       "      <th>Price</th>\n",
       "    </tr>\n",
       "  </thead>\n",
       "  <tbody>\n",
       "    <tr>\n",
       "      <th>0</th>\n",
       "      <td>ASUS</td>\n",
       "      <td>1.0</td>\n",
       "      <td>3</td>\n",
       "      <td>10th</td>\n",
       "      <td>4</td>\n",
       "      <td>0</td>\n",
       "      <td>1024</td>\n",
       "      <td>1</td>\n",
       "      <td>1</td>\n",
       "      <td>0</td>\n",
       "      <td>0</td>\n",
       "      <td>0</td>\n",
       "      <td>34649</td>\n",
       "    </tr>\n",
       "    <tr>\n",
       "      <th>1</th>\n",
       "      <td>Lenovo</td>\n",
       "      <td>1.0</td>\n",
       "      <td>3</td>\n",
       "      <td>10th</td>\n",
       "      <td>4</td>\n",
       "      <td>0</td>\n",
       "      <td>1024</td>\n",
       "      <td>1</td>\n",
       "      <td>1</td>\n",
       "      <td>0</td>\n",
       "      <td>0</td>\n",
       "      <td>0</td>\n",
       "      <td>38999</td>\n",
       "    </tr>\n",
       "    <tr>\n",
       "      <th>2</th>\n",
       "      <td>Lenovo</td>\n",
       "      <td>1.0</td>\n",
       "      <td>3</td>\n",
       "      <td>10th</td>\n",
       "      <td>4</td>\n",
       "      <td>0</td>\n",
       "      <td>1024</td>\n",
       "      <td>1</td>\n",
       "      <td>1</td>\n",
       "      <td>0</td>\n",
       "      <td>0</td>\n",
       "      <td>0</td>\n",
       "      <td>39999</td>\n",
       "    </tr>\n",
       "    <tr>\n",
       "      <th>3</th>\n",
       "      <td>ASUS</td>\n",
       "      <td>1.0</td>\n",
       "      <td>5</td>\n",
       "      <td>10th</td>\n",
       "      <td>8</td>\n",
       "      <td>512</td>\n",
       "      <td>0</td>\n",
       "      <td>1</td>\n",
       "      <td>0</td>\n",
       "      <td>2</td>\n",
       "      <td>0</td>\n",
       "      <td>0</td>\n",
       "      <td>69990</td>\n",
       "    </tr>\n",
       "    <tr>\n",
       "      <th>4</th>\n",
       "      <td>ASUS</td>\n",
       "      <td>1.0</td>\n",
       "      <td>2</td>\n",
       "      <td>11th</td>\n",
       "      <td>4</td>\n",
       "      <td>0</td>\n",
       "      <td>512</td>\n",
       "      <td>1</td>\n",
       "      <td>1</td>\n",
       "      <td>0</td>\n",
       "      <td>0</td>\n",
       "      <td>0</td>\n",
       "      <td>26990</td>\n",
       "    </tr>\n",
       "    <tr>\n",
       "      <th>...</th>\n",
       "      <td>...</td>\n",
       "      <td>...</td>\n",
       "      <td>...</td>\n",
       "      <td>...</td>\n",
       "      <td>...</td>\n",
       "      <td>...</td>\n",
       "      <td>...</td>\n",
       "      <td>...</td>\n",
       "      <td>...</td>\n",
       "      <td>...</td>\n",
       "      <td>...</td>\n",
       "      <td>...</td>\n",
       "      <td>...</td>\n",
       "    </tr>\n",
       "    <tr>\n",
       "      <th>818</th>\n",
       "      <td>ASUS</td>\n",
       "      <td>1.0</td>\n",
       "      <td>8</td>\n",
       "      <td>11th</td>\n",
       "      <td>4</td>\n",
       "      <td>1024</td>\n",
       "      <td>0</td>\n",
       "      <td>1</td>\n",
       "      <td>1</td>\n",
       "      <td>0</td>\n",
       "      <td>0</td>\n",
       "      <td>0</td>\n",
       "      <td>135990</td>\n",
       "    </tr>\n",
       "    <tr>\n",
       "      <th>819</th>\n",
       "      <td>ASUS</td>\n",
       "      <td>1.0</td>\n",
       "      <td>8</td>\n",
       "      <td>11th</td>\n",
       "      <td>4</td>\n",
       "      <td>1024</td>\n",
       "      <td>0</td>\n",
       "      <td>1</td>\n",
       "      <td>1</td>\n",
       "      <td>0</td>\n",
       "      <td>0</td>\n",
       "      <td>0</td>\n",
       "      <td>144990</td>\n",
       "    </tr>\n",
       "    <tr>\n",
       "      <th>820</th>\n",
       "      <td>ASUS</td>\n",
       "      <td>1.0</td>\n",
       "      <td>8</td>\n",
       "      <td>11th</td>\n",
       "      <td>4</td>\n",
       "      <td>1024</td>\n",
       "      <td>0</td>\n",
       "      <td>1</td>\n",
       "      <td>1</td>\n",
       "      <td>4</td>\n",
       "      <td>0</td>\n",
       "      <td>0</td>\n",
       "      <td>149990</td>\n",
       "    </tr>\n",
       "    <tr>\n",
       "      <th>821</th>\n",
       "      <td>ASUS</td>\n",
       "      <td>1.0</td>\n",
       "      <td>8</td>\n",
       "      <td>11th</td>\n",
       "      <td>4</td>\n",
       "      <td>1024</td>\n",
       "      <td>0</td>\n",
       "      <td>1</td>\n",
       "      <td>1</td>\n",
       "      <td>4</td>\n",
       "      <td>0</td>\n",
       "      <td>0</td>\n",
       "      <td>142990</td>\n",
       "    </tr>\n",
       "    <tr>\n",
       "      <th>822</th>\n",
       "      <td>Lenovo</td>\n",
       "      <td>1.0</td>\n",
       "      <td>5</td>\n",
       "      <td>10th</td>\n",
       "      <td>8</td>\n",
       "      <td>512</td>\n",
       "      <td>0</td>\n",
       "      <td>1</td>\n",
       "      <td>1</td>\n",
       "      <td>0</td>\n",
       "      <td>0</td>\n",
       "      <td>0</td>\n",
       "      <td>57490</td>\n",
       "    </tr>\n",
       "  </tbody>\n",
       "</table>\n",
       "<p>777 rows × 13 columns</p>\n",
       "</div>"
      ],
      "text/plain": [
       "      brand  processor_brand  processor_name processor_gnrtn  ram_gb   ssd  \\\n",
       "0      ASUS              1.0               3            10th       4     0   \n",
       "1    Lenovo              1.0               3            10th       4     0   \n",
       "2    Lenovo              1.0               3            10th       4     0   \n",
       "3      ASUS              1.0               5            10th       8   512   \n",
       "4      ASUS              1.0               2            11th       4     0   \n",
       "..      ...              ...             ...             ...     ...   ...   \n",
       "818    ASUS              1.0               8            11th       4  1024   \n",
       "819    ASUS              1.0               8            11th       4  1024   \n",
       "820    ASUS              1.0               8            11th       4  1024   \n",
       "821    ASUS              1.0               8            11th       4  1024   \n",
       "822  Lenovo              1.0               5            10th       8   512   \n",
       "\n",
       "      hdd  os  os_bit  graphic_card_gb  Touchscreen  msoffice   Price  \n",
       "0    1024   1       1                0            0         0   34649  \n",
       "1    1024   1       1                0            0         0   38999  \n",
       "2    1024   1       1                0            0         0   39999  \n",
       "3       0   1       0                2            0         0   69990  \n",
       "4     512   1       1                0            0         0   26990  \n",
       "..    ...  ..     ...              ...          ...       ...     ...  \n",
       "818     0   1       1                0            0         0  135990  \n",
       "819     0   1       1                0            0         0  144990  \n",
       "820     0   1       1                4            0         0  149990  \n",
       "821     0   1       1                4            0         0  142990  \n",
       "822     0   1       1                0            0         0   57490  \n",
       "\n",
       "[777 rows x 13 columns]"
      ]
     },
     "execution_count": 473,
     "metadata": {},
     "output_type": "execute_result"
    }
   ],
   "source": [
    "vif = []\n",
    "\n",
    "for i in range(x.shape[1]):\n",
    "    vif.append(variance_inflation_factor(x,i))\n",
    "    \n",
    "    \n",
    "\"vif >> 1 to 5 \"\n",
    "\n",
    "vif  \n",
    "pd.DataFrame({\"Varience_IF\":vif},index = x.columns)"
   ]
  },
  {
   "cell_type": "markdown",
   "id": "d509a0e3",
   "metadata": {},
   "source": [
    "### Drop Columns"
   ]
  },
  {
   "cell_type": "code",
   "execution_count": 17,
   "id": "510effaa",
   "metadata": {},
   "outputs": [],
   "source": [
    "# Value of R is Low & VIF is High\n",
    "\n",
    "D.drop([\"msoffice\",\"os_bit\"],axis=1,inplace=True) "
   ]
  },
  {
   "cell_type": "markdown",
   "id": "1a62b011",
   "metadata": {},
   "source": [
    "### Final DF "
   ]
  },
  {
   "cell_type": "code",
   "execution_count": 18,
   "id": "f6806df7",
   "metadata": {},
   "outputs": [
    {
     "data": {
      "text/plain": [
       "(777, 24)"
      ]
     },
     "execution_count": 18,
     "metadata": {},
     "output_type": "execute_result"
    }
   ],
   "source": [
    "\n",
    "D = D.reset_index(drop = True)\n",
    "D.shape"
   ]
  },
  {
   "cell_type": "code",
   "execution_count": 472,
   "id": "ccb4e50a",
   "metadata": {},
   "outputs": [
    {
     "data": {
      "text/html": [
       "<div>\n",
       "<style scoped>\n",
       "    .dataframe tbody tr th:only-of-type {\n",
       "        vertical-align: middle;\n",
       "    }\n",
       "\n",
       "    .dataframe tbody tr th {\n",
       "        vertical-align: top;\n",
       "    }\n",
       "\n",
       "    .dataframe thead th {\n",
       "        text-align: right;\n",
       "    }\n",
       "</style>\n",
       "<table border=\"1\" class=\"dataframe\">\n",
       "  <thead>\n",
       "    <tr style=\"text-align: right;\">\n",
       "      <th></th>\n",
       "      <th>processor_brand</th>\n",
       "      <th>processor_name</th>\n",
       "      <th>ram_gb</th>\n",
       "      <th>ssd</th>\n",
       "      <th>hdd</th>\n",
       "      <th>os</th>\n",
       "      <th>os_bit</th>\n",
       "      <th>graphic_card_gb</th>\n",
       "      <th>Touchscreen</th>\n",
       "      <th>msoffice</th>\n",
       "      <th>...</th>\n",
       "      <th>brand_Lenovo</th>\n",
       "      <th>brand_MSI</th>\n",
       "      <th>brand_acer</th>\n",
       "      <th>processor_gnrtn_10th</th>\n",
       "      <th>processor_gnrtn_11th</th>\n",
       "      <th>processor_gnrtn_12th</th>\n",
       "      <th>processor_gnrtn_4th</th>\n",
       "      <th>processor_gnrtn_7th</th>\n",
       "      <th>processor_gnrtn_8th</th>\n",
       "      <th>processor_gnrtn_9th</th>\n",
       "    </tr>\n",
       "  </thead>\n",
       "  <tbody>\n",
       "    <tr>\n",
       "      <th>560</th>\n",
       "      <td>1.0</td>\n",
       "      <td>7</td>\n",
       "      <td>16</td>\n",
       "      <td>1024</td>\n",
       "      <td>0</td>\n",
       "      <td>1</td>\n",
       "      <td>1</td>\n",
       "      <td>0</td>\n",
       "      <td>1</td>\n",
       "      <td>0</td>\n",
       "      <td>...</td>\n",
       "      <td>0</td>\n",
       "      <td>0</td>\n",
       "      <td>0</td>\n",
       "      <td>0</td>\n",
       "      <td>1</td>\n",
       "      <td>0</td>\n",
       "      <td>0</td>\n",
       "      <td>0</td>\n",
       "      <td>0</td>\n",
       "      <td>0</td>\n",
       "    </tr>\n",
       "    <tr>\n",
       "      <th>95</th>\n",
       "      <td>1.0</td>\n",
       "      <td>3</td>\n",
       "      <td>8</td>\n",
       "      <td>512</td>\n",
       "      <td>0</td>\n",
       "      <td>1</td>\n",
       "      <td>1</td>\n",
       "      <td>0</td>\n",
       "      <td>0</td>\n",
       "      <td>0</td>\n",
       "      <td>...</td>\n",
       "      <td>0</td>\n",
       "      <td>0</td>\n",
       "      <td>0</td>\n",
       "      <td>0</td>\n",
       "      <td>1</td>\n",
       "      <td>0</td>\n",
       "      <td>0</td>\n",
       "      <td>0</td>\n",
       "      <td>0</td>\n",
       "      <td>0</td>\n",
       "    </tr>\n",
       "    <tr>\n",
       "      <th>174</th>\n",
       "      <td>1.0</td>\n",
       "      <td>3</td>\n",
       "      <td>8</td>\n",
       "      <td>256</td>\n",
       "      <td>1024</td>\n",
       "      <td>1</td>\n",
       "      <td>1</td>\n",
       "      <td>0</td>\n",
       "      <td>0</td>\n",
       "      <td>1</td>\n",
       "      <td>...</td>\n",
       "      <td>0</td>\n",
       "      <td>0</td>\n",
       "      <td>0</td>\n",
       "      <td>0</td>\n",
       "      <td>1</td>\n",
       "      <td>0</td>\n",
       "      <td>0</td>\n",
       "      <td>0</td>\n",
       "      <td>0</td>\n",
       "      <td>0</td>\n",
       "    </tr>\n",
       "    <tr>\n",
       "      <th>738</th>\n",
       "      <td>1.0</td>\n",
       "      <td>5</td>\n",
       "      <td>4</td>\n",
       "      <td>256</td>\n",
       "      <td>1024</td>\n",
       "      <td>1</td>\n",
       "      <td>1</td>\n",
       "      <td>0</td>\n",
       "      <td>0</td>\n",
       "      <td>0</td>\n",
       "      <td>...</td>\n",
       "      <td>0</td>\n",
       "      <td>0</td>\n",
       "      <td>0</td>\n",
       "      <td>0</td>\n",
       "      <td>1</td>\n",
       "      <td>0</td>\n",
       "      <td>0</td>\n",
       "      <td>0</td>\n",
       "      <td>0</td>\n",
       "      <td>0</td>\n",
       "    </tr>\n",
       "    <tr>\n",
       "      <th>256</th>\n",
       "      <td>1.0</td>\n",
       "      <td>5</td>\n",
       "      <td>16</td>\n",
       "      <td>512</td>\n",
       "      <td>0</td>\n",
       "      <td>1</td>\n",
       "      <td>1</td>\n",
       "      <td>0</td>\n",
       "      <td>0</td>\n",
       "      <td>1</td>\n",
       "      <td>...</td>\n",
       "      <td>0</td>\n",
       "      <td>0</td>\n",
       "      <td>0</td>\n",
       "      <td>0</td>\n",
       "      <td>1</td>\n",
       "      <td>0</td>\n",
       "      <td>0</td>\n",
       "      <td>0</td>\n",
       "      <td>0</td>\n",
       "      <td>0</td>\n",
       "    </tr>\n",
       "  </tbody>\n",
       "</table>\n",
       "<p>5 rows × 26 columns</p>\n",
       "</div>"
      ],
      "text/plain": [
       "     processor_brand  processor_name  ram_gb   ssd   hdd  os  os_bit  \\\n",
       "560              1.0               7      16  1024     0   1       1   \n",
       "95               1.0               3       8   512     0   1       1   \n",
       "174              1.0               3       8   256  1024   1       1   \n",
       "738              1.0               5       4   256  1024   1       1   \n",
       "256              1.0               5      16   512     0   1       1   \n",
       "\n",
       "     graphic_card_gb  Touchscreen  msoffice  ...  brand_Lenovo  brand_MSI  \\\n",
       "560                0            1         0  ...             0          0   \n",
       "95                 0            0         0  ...             0          0   \n",
       "174                0            0         1  ...             0          0   \n",
       "738                0            0         0  ...             0          0   \n",
       "256                0            0         1  ...             0          0   \n",
       "\n",
       "     brand_acer  processor_gnrtn_10th  processor_gnrtn_11th  \\\n",
       "560           0                     0                     1   \n",
       "95            0                     0                     1   \n",
       "174           0                     0                     1   \n",
       "738           0                     0                     1   \n",
       "256           0                     0                     1   \n",
       "\n",
       "     processor_gnrtn_12th  processor_gnrtn_4th  processor_gnrtn_7th  \\\n",
       "560                     0                    0                    0   \n",
       "95                      0                    0                    0   \n",
       "174                     0                    0                    0   \n",
       "738                     0                    0                    0   \n",
       "256                     0                    0                    0   \n",
       "\n",
       "     processor_gnrtn_8th  processor_gnrtn_9th  \n",
       "560                    0                    0  \n",
       "95                     0                    0  \n",
       "174                    0                    0  \n",
       "738                    0                    0  \n",
       "256                    0                    0  \n",
       "\n",
       "[5 rows x 26 columns]"
      ]
     },
     "execution_count": 472,
     "metadata": {},
     "output_type": "execute_result"
    }
   ],
   "source": [
    "D.sample(5)\n"
   ]
  },
  {
   "cell_type": "markdown",
   "id": "689c91a6",
   "metadata": {},
   "source": [
    "# 6. Model Training"
   ]
  },
  {
   "cell_type": "markdown",
   "id": "186974d5",
   "metadata": {},
   "source": [
    "## Split Data"
   ]
  },
  {
   "cell_type": "code",
   "execution_count": 233,
   "id": "0d11e8b8",
   "metadata": {},
   "outputs": [],
   "source": [
    "\" Seperate Input & Output Col\"\n",
    "\n",
    "x = D.drop([\"Price\"],axis=1)  # Input\n",
    "y = D.loc[:,\"Price\"]          # Output\n"
   ]
  },
  {
   "cell_type": "code",
   "execution_count": 234,
   "id": "86fc789e",
   "metadata": {},
   "outputs": [],
   "source": [
    "from sklearn.model_selection import train_test_split"
   ]
  },
  {
   "cell_type": "code",
   "execution_count": 235,
   "id": "c4972632",
   "metadata": {},
   "outputs": [],
   "source": [
    "x_train, x_test, y_train, y_test = train_test_split(x,y,test_size=0.2,random_state=5)"
   ]
  },
  {
   "cell_type": "markdown",
   "id": "8167df2d",
   "metadata": {},
   "source": [
    "### Scalling"
   ]
  },
  {
   "cell_type": "code",
   "execution_count": 239,
   "id": "0e408c22",
   "metadata": {},
   "outputs": [],
   "source": [
    "sc = MinMaxScaler()\n",
    "sc.fit(x)\n",
    "\n",
    "x_train_scale = sc.transform(x_train)\n",
    "x_test_scale = sc.transform(x_test)"
   ]
  },
  {
   "cell_type": "code",
   "execution_count": 445,
   "id": "af93c593",
   "metadata": {},
   "outputs": [
    {
     "data": {
      "text/html": [
       "<div>\n",
       "<style scoped>\n",
       "    .dataframe tbody tr th:only-of-type {\n",
       "        vertical-align: middle;\n",
       "    }\n",
       "\n",
       "    .dataframe tbody tr th {\n",
       "        vertical-align: top;\n",
       "    }\n",
       "\n",
       "    .dataframe thead th {\n",
       "        text-align: right;\n",
       "    }\n",
       "</style>\n",
       "<table border=\"1\" class=\"dataframe\">\n",
       "  <thead>\n",
       "    <tr style=\"text-align: right;\">\n",
       "      <th></th>\n",
       "      <th>processor_brand</th>\n",
       "      <th>processor_name</th>\n",
       "      <th>ram_gb</th>\n",
       "      <th>ssd</th>\n",
       "      <th>hdd</th>\n",
       "      <th>os</th>\n",
       "      <th>os_bit</th>\n",
       "      <th>graphic_card_gb</th>\n",
       "      <th>Touchscreen</th>\n",
       "      <th>msoffice</th>\n",
       "      <th>...</th>\n",
       "      <th>brand_Lenovo</th>\n",
       "      <th>brand_MSI</th>\n",
       "      <th>brand_acer</th>\n",
       "      <th>processor_gnrtn_10th</th>\n",
       "      <th>processor_gnrtn_11th</th>\n",
       "      <th>processor_gnrtn_12th</th>\n",
       "      <th>processor_gnrtn_4th</th>\n",
       "      <th>processor_gnrtn_7th</th>\n",
       "      <th>processor_gnrtn_8th</th>\n",
       "      <th>processor_gnrtn_9th</th>\n",
       "    </tr>\n",
       "  </thead>\n",
       "  <tbody>\n",
       "    <tr>\n",
       "      <th>503</th>\n",
       "      <td>0.0</td>\n",
       "      <td>0.1</td>\n",
       "      <td>0.142857</td>\n",
       "      <td>0.125</td>\n",
       "      <td>0.5</td>\n",
       "      <td>0.0</td>\n",
       "      <td>1.0</td>\n",
       "      <td>0.0</td>\n",
       "      <td>0.0</td>\n",
       "      <td>0.0</td>\n",
       "      <td>...</td>\n",
       "      <td>0.0</td>\n",
       "      <td>0.0</td>\n",
       "      <td>0.0</td>\n",
       "      <td>0.0</td>\n",
       "      <td>1.0</td>\n",
       "      <td>0.0</td>\n",
       "      <td>0.0</td>\n",
       "      <td>0.0</td>\n",
       "      <td>0.0</td>\n",
       "      <td>0.0</td>\n",
       "    </tr>\n",
       "    <tr>\n",
       "      <th>515</th>\n",
       "      <td>0.0</td>\n",
       "      <td>0.1</td>\n",
       "      <td>0.000000</td>\n",
       "      <td>0.125</td>\n",
       "      <td>0.0</td>\n",
       "      <td>0.0</td>\n",
       "      <td>1.0</td>\n",
       "      <td>0.0</td>\n",
       "      <td>0.0</td>\n",
       "      <td>0.0</td>\n",
       "      <td>...</td>\n",
       "      <td>0.0</td>\n",
       "      <td>0.0</td>\n",
       "      <td>0.0</td>\n",
       "      <td>0.0</td>\n",
       "      <td>1.0</td>\n",
       "      <td>0.0</td>\n",
       "      <td>0.0</td>\n",
       "      <td>0.0</td>\n",
       "      <td>0.0</td>\n",
       "      <td>0.0</td>\n",
       "    </tr>\n",
       "    <tr>\n",
       "      <th>74</th>\n",
       "      <td>0.0</td>\n",
       "      <td>0.3</td>\n",
       "      <td>0.000000</td>\n",
       "      <td>0.250</td>\n",
       "      <td>0.0</td>\n",
       "      <td>0.0</td>\n",
       "      <td>1.0</td>\n",
       "      <td>0.0</td>\n",
       "      <td>0.0</td>\n",
       "      <td>0.0</td>\n",
       "      <td>...</td>\n",
       "      <td>0.0</td>\n",
       "      <td>0.0</td>\n",
       "      <td>0.0</td>\n",
       "      <td>0.0</td>\n",
       "      <td>1.0</td>\n",
       "      <td>0.0</td>\n",
       "      <td>0.0</td>\n",
       "      <td>0.0</td>\n",
       "      <td>0.0</td>\n",
       "      <td>0.0</td>\n",
       "    </tr>\n",
       "    <tr>\n",
       "      <th>353</th>\n",
       "      <td>0.0</td>\n",
       "      <td>0.1</td>\n",
       "      <td>0.000000</td>\n",
       "      <td>0.250</td>\n",
       "      <td>0.0</td>\n",
       "      <td>0.0</td>\n",
       "      <td>1.0</td>\n",
       "      <td>0.0</td>\n",
       "      <td>0.0</td>\n",
       "      <td>1.0</td>\n",
       "      <td>...</td>\n",
       "      <td>0.0</td>\n",
       "      <td>0.0</td>\n",
       "      <td>0.0</td>\n",
       "      <td>1.0</td>\n",
       "      <td>0.0</td>\n",
       "      <td>0.0</td>\n",
       "      <td>0.0</td>\n",
       "      <td>0.0</td>\n",
       "      <td>0.0</td>\n",
       "      <td>0.0</td>\n",
       "    </tr>\n",
       "    <tr>\n",
       "      <th>60</th>\n",
       "      <td>0.0</td>\n",
       "      <td>0.3</td>\n",
       "      <td>0.142857</td>\n",
       "      <td>0.250</td>\n",
       "      <td>0.0</td>\n",
       "      <td>0.0</td>\n",
       "      <td>1.0</td>\n",
       "      <td>0.0</td>\n",
       "      <td>1.0</td>\n",
       "      <td>1.0</td>\n",
       "      <td>...</td>\n",
       "      <td>1.0</td>\n",
       "      <td>0.0</td>\n",
       "      <td>0.0</td>\n",
       "      <td>0.0</td>\n",
       "      <td>1.0</td>\n",
       "      <td>0.0</td>\n",
       "      <td>0.0</td>\n",
       "      <td>0.0</td>\n",
       "      <td>0.0</td>\n",
       "      <td>0.0</td>\n",
       "    </tr>\n",
       "  </tbody>\n",
       "</table>\n",
       "<p>5 rows × 25 columns</p>\n",
       "</div>"
      ],
      "text/plain": [
       "     processor_brand  processor_name    ram_gb    ssd  hdd   os  os_bit  \\\n",
       "503              0.0             0.1  0.142857  0.125  0.5  0.0     1.0   \n",
       "515              0.0             0.1  0.000000  0.125  0.0  0.0     1.0   \n",
       "74               0.0             0.3  0.000000  0.250  0.0  0.0     1.0   \n",
       "353              0.0             0.1  0.000000  0.250  0.0  0.0     1.0   \n",
       "60               0.0             0.3  0.142857  0.250  0.0  0.0     1.0   \n",
       "\n",
       "     graphic_card_gb  Touchscreen  msoffice  ...  brand_Lenovo  brand_MSI  \\\n",
       "503              0.0          0.0       0.0  ...           0.0        0.0   \n",
       "515              0.0          0.0       0.0  ...           0.0        0.0   \n",
       "74               0.0          0.0       0.0  ...           0.0        0.0   \n",
       "353              0.0          0.0       1.0  ...           0.0        0.0   \n",
       "60               0.0          1.0       1.0  ...           1.0        0.0   \n",
       "\n",
       "     brand_acer  processor_gnrtn_10th  processor_gnrtn_11th  \\\n",
       "503         0.0                   0.0                   1.0   \n",
       "515         0.0                   0.0                   1.0   \n",
       "74          0.0                   0.0                   1.0   \n",
       "353         0.0                   1.0                   0.0   \n",
       "60          0.0                   0.0                   1.0   \n",
       "\n",
       "     processor_gnrtn_12th  processor_gnrtn_4th  processor_gnrtn_7th  \\\n",
       "503                   0.0                  0.0                  0.0   \n",
       "515                   0.0                  0.0                  0.0   \n",
       "74                    0.0                  0.0                  0.0   \n",
       "353                   0.0                  0.0                  0.0   \n",
       "60                    0.0                  0.0                  0.0   \n",
       "\n",
       "     processor_gnrtn_8th  processor_gnrtn_9th  \n",
       "503                  0.0                  0.0  \n",
       "515                  0.0                  0.0  \n",
       "74                   0.0                  0.0  \n",
       "353                  0.0                  0.0  \n",
       "60                   0.0                  0.0  \n",
       "\n",
       "[5 rows x 25 columns]"
      ]
     },
     "execution_count": 445,
     "metadata": {},
     "output_type": "execute_result"
    }
   ],
   "source": [
    "x_train_scale = pd.DataFrame(x_train_scale,columns=x.columns)\n",
    "x_test_scale = pd.DataFrame(x_test_scale,columns=x.columns)\n",
    "x_train_scale.sample(5)"
   ]
  },
  {
   "cell_type": "markdown",
   "id": "96a7861b",
   "metadata": {},
   "source": [
    "80 % Data to Model | 20 % keep Aside for Testing Purpose"
   ]
  },
  {
   "cell_type": "code",
   "execution_count": 245,
   "id": "8c366f40",
   "metadata": {},
   "outputs": [
    {
     "data": {
      "text/plain": [
       "(621,)"
      ]
     },
     "execution_count": 245,
     "metadata": {},
     "output_type": "execute_result"
    }
   ],
   "source": [
    "x_train.shape\n",
    "y_train.shape"
   ]
  },
  {
   "cell_type": "code",
   "execution_count": 175,
   "id": "b9c8aa9b",
   "metadata": {},
   "outputs": [
    {
     "data": {
      "text/plain": [
       "(156,)"
      ]
     },
     "execution_count": 175,
     "metadata": {},
     "output_type": "execute_result"
    }
   ],
   "source": [
    "x_test.shape\n",
    "y_test.shape"
   ]
  },
  {
   "cell_type": "markdown",
   "id": "db2c545c",
   "metadata": {},
   "source": [
    "## Manual Testing"
   ]
  },
  {
   "cell_type": "code",
   "execution_count": 71,
   "id": "8b8619c8",
   "metadata": {},
   "outputs": [
    {
     "data": {
      "text/plain": [
       "232    73490\n",
       "416    57990\n",
       "366    70190\n",
       "Name: Price, dtype: int64"
      ]
     },
     "execution_count": 71,
     "metadata": {},
     "output_type": "execute_result"
    }
   ],
   "source": [
    "y_test[5:8] # Acual Laptop Price"
   ]
  },
  {
   "cell_type": "code",
   "execution_count": 70,
   "id": "5c113076",
   "metadata": {},
   "outputs": [
    {
     "data": {
      "text/plain": [
       "array([86523., 59471., 73182.])"
      ]
     },
     "execution_count": 70,
     "metadata": {},
     "output_type": "execute_result"
    }
   ],
   "source": [
    "y_pred[5:8].round()  # Model Predicted Price"
   ]
  },
  {
   "cell_type": "markdown",
   "id": "2d1f60a5",
   "metadata": {},
   "source": [
    "### Normality of Residual __ Assumption"
   ]
  },
  {
   "cell_type": "raw",
   "id": "d1bd5b4d",
   "metadata": {},
   "source": [
    "Errors should be Normally Distributed"
   ]
  },
  {
   "cell_type": "code",
   "execution_count": 28,
   "id": "59a66aab",
   "metadata": {},
   "outputs": [
    {
     "data": {
      "text/plain": [
       "7     -14241.222988\n",
       "726   -17027.324384\n",
       "40       208.659421\n",
       "140    -5937.547165\n",
       "753    47573.685376\n",
       "           ...     \n",
       "73     14630.427270\n",
       "400     2762.415475\n",
       "118   -13180.147163\n",
       "701   -13599.701673\n",
       "206    -9459.431428\n",
       "Name: Price, Length: 621, dtype: float64"
      ]
     },
     "execution_count": 28,
     "metadata": {},
     "output_type": "execute_result"
    }
   ],
   "source": [
    "# Error = Ya - Yp\n",
    "\n",
    "residual = y_train - y_pred_train\n",
    "residual"
   ]
  },
  {
   "cell_type": "markdown",
   "id": "6c9d7bf4",
   "metadata": {},
   "source": [
    "### 1 QQ Plot"
   ]
  },
  {
   "cell_type": "code",
   "execution_count": 29,
   "id": "e6b5f1e8",
   "metadata": {},
   "outputs": [
    {
     "data": {
      "image/png": "[encoded data removed]",
      "text/plain": [
       "<Figure size 640x480 with 1 Axes>"
      ]
     },
     "execution_count": 29,
     "metadata": {},
     "output_type": "execute_result"
    },
    {
     "data": {
      "image/png": "[encoded data removed]",
      "text/plain": [
       "<Figure size 640x480 with 1 Axes>"
      ]
     },
     "metadata": {},
     "output_type": "display_data"
    }
   ],
   "source": [
    "import statsmodels.api as sm\n",
    "sm.qqplot(residual, line='45', fit = True)"
   ]
  },
  {
   "cell_type": "markdown",
   "id": "9ff9b94f",
   "metadata": {},
   "source": [
    "### 2. Skewness"
   ]
  },
  {
   "cell_type": "code",
   "execution_count": 60,
   "id": "edb914e7",
   "metadata": {},
   "outputs": [
    {
     "data": {
      "text/plain": [
       "<Axes: xlabel='Price', ylabel='Density'>"
      ]
     },
     "execution_count": 60,
     "metadata": {},
     "output_type": "execute_result"
    },
    {
     "data": {
      "image/png": "[encoded data removed]",
      "text/plain": [
       "<Figure size 640x480 with 1 Axes>"
      ]
     },
     "metadata": {},
     "output_type": "display_data"
    }
   ],
   "source": [
    "sns.kdeplot(residual,fill=True)"
   ]
  },
  {
   "cell_type": "code",
   "execution_count": null,
   "id": "01007c33",
   "metadata": {},
   "outputs": [],
   "source": [
    "Positively Skewed Data | Distribution Longer towards Right Hand Side\n",
    "Mean > Median"
   ]
  },
  {
   "cell_type": "markdown",
   "id": "f6eb3371",
   "metadata": {},
   "source": [
    "### 3. shapiro Test"
   ]
  },
  {
   "cell_type": "code",
   "execution_count": 30,
   "id": "adee31a0",
   "metadata": {},
   "outputs": [],
   "source": [
    "\"P - Value\"\n",
    "from scipy.stats import shapiro"
   ]
  },
  {
   "cell_type": "code",
   "execution_count": 31,
   "id": "98b11e81",
   "metadata": {},
   "outputs": [
    {
     "name": "stdout",
     "output_type": "stream",
     "text": [
      "P Value is : 1.9904925087269403e-27\n",
      "Data is not normally distributed\n"
     ]
    }
   ],
   "source": [
    "aa, P_val = shapiro(residual)\n",
    "print(\"P Value is :\", P_val)\n",
    "\n",
    "if P_val >= 0.05:\n",
    "    print(\"Data is normally distributed\")\n",
    "\n",
    "else:\n",
    "    print(\"Data is not normally distributed\")"
   ]
  },
  {
   "cell_type": "markdown",
   "id": "ad90c5af",
   "metadata": {},
   "source": [
    "### Homoscedasticity"
   ]
  },
  {
   "cell_type": "code",
   "execution_count": 32,
   "id": "aa469623",
   "metadata": {},
   "outputs": [
    {
     "data": {
      "text/plain": [
       "Text(0.5, 1.0, 'Yactual Vs Residual ')"
      ]
     },
     "execution_count": 32,
     "metadata": {},
     "output_type": "execute_result"
    },
    {
     "data": {
      "image/png": "[encoded data removed]",
      "text/plain": [
       "<Figure size 700x500 with 1 Axes>"
      ]
     },
     "metadata": {},
     "output_type": "display_data"
    }
   ],
   "source": [
    "plt.figure(figsize = (7,5))\n",
    "sns.scatterplot(x = y_train, y = residual)\n",
    "plt.xlabel('Y Actual')\n",
    "plt.ylabel(\"Residal\")\n",
    "plt.title(\"Yactual Vs Residual \")\n",
    "\n",
    "# Spread of Residual should be Uniform"
   ]
  },
  {
   "cell_type": "markdown",
   "id": "e0700527",
   "metadata": {},
   "source": [
    "# 7. Model Evalution"
   ]
  },
  {
   "cell_type": "code",
   "execution_count": 249,
   "id": "bffec068",
   "metadata": {},
   "outputs": [],
   "source": [
    "from sklearn.metrics import r2_score ,mean_absolute_error"
   ]
  },
  {
   "cell_type": "code",
   "execution_count": 341,
   "id": "01510577",
   "metadata": {},
   "outputs": [],
   "source": [
    "lr = LinearRegression()\n",
    "knn = KNeighborsRegressor(n_neighbors=7,p=1)\n",
    "dt = DecisionTreeRegressor(max_depth=5,max_features=0.5,random_state=5,min_impurity_decrease=0.01)\n",
    "rf = RandomForestRegressor()"
   ]
  },
  {
   "cell_type": "code",
   "execution_count": 342,
   "id": "80c625ba",
   "metadata": {},
   "outputs": [
    {
     "data": {
      "text/html": [
       "<style>#sk-container-id-29 {color: black;}#sk-container-id-29 pre{padding: 0;}#sk-container-id-29 div.sk-toggleable {background-color: white;}#sk-container-id-29 label.sk-toggleable__label {cursor: pointer;display: block;width: 100%;margin-bottom: 0;padding: 0.3em;box-sizing: border-box;text-align: center;}#sk-container-id-29 label.sk-toggleable__label-arrow:before {content: \"▸\";float: left;margin-right: 0.25em;color: #696969;}#sk-container-id-29 label.sk-toggleable__label-arrow:hover:before {color: black;}#sk-container-id-29 div.sk-estimator:hover label.sk-toggleable__label-arrow:before {color: black;}#sk-container-id-29 div.sk-toggleable__content {max-height: 0;max-width: 0;overflow: hidden;text-align: left;background-color: #f0f8ff;}#sk-container-id-29 div.sk-toggleable__content pre {margin: 0.2em;color: black;border-radius: 0.25em;background-color: #f0f8ff;}#sk-container-id-29 input.sk-toggleable__control:checked~div.sk-toggleable__content {max-height: 200px;max-width: 100%;overflow: auto;}#sk-container-id-29 input.sk-toggleable__control:checked~label.sk-toggleable__label-arrow:before {content: \"▾\";}#sk-container-id-29 div.sk-estimator input.sk-toggleable__control:checked~label.sk-toggleable__label {background-color: #d4ebff;}#sk-container-id-29 div.sk-label input.sk-toggleable__control:checked~label.sk-toggleable__label {background-color: #d4ebff;}#sk-container-id-29 input.sk-hidden--visually {border: 0;clip: rect(1px 1px 1px 1px);clip: rect(1px, 1px, 1px, 1px);height: 1px;margin: -1px;overflow: hidden;padding: 0;position: absolute;width: 1px;}#sk-container-id-29 div.sk-estimator {font-family: monospace;background-color: #f0f8ff;border: 1px dotted black;border-radius: 0.25em;box-sizing: border-box;margin-bottom: 0.5em;}#sk-container-id-29 div.sk-estimator:hover {background-color: #d4ebff;}#sk-container-id-29 div.sk-parallel-item::after {content: \"\";width: 100%;border-bottom: 1px solid gray;flex-grow: 1;}#sk-container-id-29 div.sk-label:hover label.sk-toggleable__label {background-color: #d4ebff;}#sk-container-id-29 div.sk-serial::before {content: \"\";position: absolute;border-left: 1px solid gray;box-sizing: border-box;top: 0;bottom: 0;left: 50%;z-index: 0;}#sk-container-id-29 div.sk-serial {display: flex;flex-direction: column;align-items: center;background-color: white;padding-right: 0.2em;padding-left: 0.2em;position: relative;}#sk-container-id-29 div.sk-item {position: relative;z-index: 1;}#sk-container-id-29 div.sk-parallel {display: flex;align-items: stretch;justify-content: center;background-color: white;position: relative;}#sk-container-id-29 div.sk-item::before, #sk-container-id-29 div.sk-parallel-item::before {content: \"\";position: absolute;border-left: 1px solid gray;box-sizing: border-box;top: 0;bottom: 0;left: 50%;z-index: -1;}#sk-container-id-29 div.sk-parallel-item {display: flex;flex-direction: column;z-index: 1;position: relative;background-color: white;}#sk-container-id-29 div.sk-parallel-item:first-child::after {align-self: flex-end;width: 50%;}#sk-container-id-29 div.sk-parallel-item:last-child::after {align-self: flex-start;width: 50%;}#sk-container-id-29 div.sk-parallel-item:only-child::after {width: 0;}#sk-container-id-29 div.sk-dashed-wrapped {border: 1px dashed gray;margin: 0 0.4em 0.5em 0.4em;box-sizing: border-box;padding-bottom: 0.4em;background-color: white;}#sk-container-id-29 div.sk-label label {font-family: monospace;font-weight: bold;display: inline-block;line-height: 1.2em;}#sk-container-id-29 div.sk-label-container {text-align: center;}#sk-container-id-29 div.sk-container {/* jupyter's `normalize.less` sets `[hidden] { display: none; }` but bootstrap.min.css set `[hidden] { display: none !important; }` so we also need the `!important` here to be able to override the default hidden behavior on the sphinx rendered scikit-learn.org. See: https://github.com/scikit-learn/scikit-learn/issues/21755 */display: inline-block !important;position: relative;}#sk-container-id-29 div.sk-text-repr-fallback {display: none;}</style><div id=\"sk-container-id-29\" class=\"sk-top-container\"><div class=\"sk-text-repr-fallback\"><pre>RandomForestRegressor()</pre><b>In a Jupyter environment, please rerun this cell to show the HTML representation or trust the notebook. <br />On GitHub, the HTML representation is unable to render, please try loading this page with nbviewer.org.</b></div><div class=\"sk-container\" hidden><div class=\"sk-item\"><div class=\"sk-estimator sk-toggleable\"><input class=\"sk-toggleable__control sk-hidden--visually\" id=\"sk-estimator-id-39\" type=\"checkbox\" checked><label for=\"sk-estimator-id-39\" class=\"sk-toggleable__label sk-toggleable__label-arrow\">RandomForestRegressor</label><div class=\"sk-toggleable__content\"><pre>RandomForestRegressor()</pre></div></div></div></div></div>"
      ],
      "text/plain": [
       "RandomForestRegressor()"
      ]
     },
     "execution_count": 342,
     "metadata": {},
     "output_type": "execute_result"
    }
   ],
   "source": [
    "lr.fit(x_train,y_train)\n",
    "knn.fit(x_train,y_train)\n",
    "dt.fit(x_train,y_train)\n",
    "rf.fit(x_train,y_train)"
   ]
  },
  {
   "cell_type": "markdown",
   "id": "768a68a9",
   "metadata": {},
   "source": [
    "### LR"
   ]
  },
  {
   "cell_type": "code",
   "execution_count": 281,
   "id": "9fc0438d",
   "metadata": {},
   "outputs": [
    {
     "name": "stdout",
     "output_type": "stream",
     "text": [
      "Acuracy Using Linear Regression\n",
      "\n",
      "MAE  testing: 17701.556\n",
      "MAE training : 15375.336\n",
      "*********************************************\n",
      "R-Squared Testing : 0.709\n",
      "R-Squared trainng : 0.712\n",
      "Adjusted R-Squared Value: 69.71 %\n"
     ]
    }
   ],
   "source": [
    "print(\"Acuracy Using Linear Regression\")\n",
    "print()\n",
    "y_pred = lr.predict(x_test)\n",
    "y_pred_train = lr.predict(x_train)\n",
    "\n",
    "\n",
    "print(\"MAE  testing:\",mean_absolute_error(y_test,y_pred).round(3))\n",
    "print(\"MAE training :\",mean_absolute_error(y_train,y_pred_train).round(3))\n",
    "print(\"*\"*45)\n",
    "r2 = r2_score(y_test,y_pred)\n",
    "print(\"R-Squared Testing :\",(r2_score(y_test,y_pred)).round(3) )\n",
    "print(\"R-Squared trainng :\",r2_score(y_train,y_pred_train).round(3))\n",
    "\n",
    "n = x_train.shape[0]\n",
    "k = x_train.shape[1]\n",
    "\n",
    "Radj = 1 - ((1 - r2) * (n-1))/(n-k-1)\n",
    "print(\"Adjusted R-Squared Value:\",(Radj*100).round(2),\"%\")"
   ]
  },
  {
   "cell_type": "markdown",
   "id": "0f071e87",
   "metadata": {},
   "source": [
    "### with Scalling"
   ]
  },
  {
   "cell_type": "code",
   "execution_count": 353,
   "id": "acc628f5",
   "metadata": {},
   "outputs": [
    {
     "name": "stdout",
     "output_type": "stream",
     "text": [
      "Acuracy Using Linear Regression\n",
      "\n",
      "MAE  testing: 17620.135\n",
      "MAE training : 15356.646\n",
      "*********************************************\n",
      "R-Squared Testing : 0.707\n",
      "R-Squared trainng : 0.711\n",
      "Adjusted R-Squared Value: 69.44 %\n"
     ]
    }
   ],
   "source": [
    "print(\"Acuracy Using Linear Regression\")\n",
    "print()\n",
    "lr.fit(x_train_scale,y_train)\n",
    "y_pred = lr.predict(x_test_scale)\n",
    "y_pred_train = lr.predict(x_train_scale)\n",
    "\n",
    "\n",
    "print(\"MAE  testing:\",mean_absolute_error(y_test,y_pred).round(3))\n",
    "print(\"MAE training :\",mean_absolute_error(y_train,y_pred_train).round(3))\n",
    "print(\"*\"*45)\n",
    "r2 = r2_score(y_test,y_pred)\n",
    "print(\"R-Squared Testing :\",(r2_score(y_test,y_pred)).round(3) )\n",
    "print(\"R-Squared trainng :\",r2_score(y_train,y_pred_train).round(3))\n",
    "\n",
    "n = x_train.shape[0]\n",
    "k = x_train.shape[1]\n",
    "\n",
    "Radj = 1 - ((1 - r2) * (n-1))/(n-k-1)\n",
    "print(\"Adjusted R-Squared Value:\",(Radj*100).round(2),\"%\")"
   ]
  },
  {
   "cell_type": "markdown",
   "id": "21beb50c",
   "metadata": {},
   "source": [
    "### KNN"
   ]
  },
  {
   "cell_type": "markdown",
   "id": "7f7e87b9",
   "metadata": {},
   "source": [
    "#### without Scalling"
   ]
  },
  {
   "cell_type": "code",
   "execution_count": 295,
   "id": "c0c90343",
   "metadata": {},
   "outputs": [
    {
     "name": "stdout",
     "output_type": "stream",
     "text": [
      "Acuracy Using KNN Regressor\n",
      "\n",
      "MAE testing : 15355.22\n",
      "MAE training : 12172.28\n",
      "*********************************************\n",
      "R-Squared Testing : 0.682\n",
      "R-Squared trainng : 0.7596\n"
     ]
    }
   ],
   "source": [
    "print(\"Acuracy Using KNN Regressor\")\n",
    "print()\n",
    "y_pred = knn.predict(x_test)\n",
    "y_pred_train = knn.predict(x_train)\n",
    "\n",
    "\n",
    "print(\"MAE testing :\",mean_absolute_error(y_test,y_pred).round(2))\n",
    "print(\"MAE training :\",mean_absolute_error(y_train,y_pred_train).round(2))\n",
    "print(\"*\"*45)\n",
    "print(\"R-Squared Testing :\",r2_score(y_test,y_pred).round(3))\n",
    "print(\"R-Squared trainng :\",r2_score(y_train,y_pred_train).round(4))"
   ]
  },
  {
   "cell_type": "markdown",
   "id": "9874daae",
   "metadata": {},
   "source": [
    "#### with Scalling"
   ]
  },
  {
   "cell_type": "code",
   "execution_count": null,
   "id": "9d91e425",
   "metadata": {},
   "outputs": [],
   "source": [
    "x_trains, x_tests, y_train, y_test = train_test_split(x,y,test_size=0.2,random_state=5)"
   ]
  },
  {
   "cell_type": "code",
   "execution_count": 447,
   "id": "a7015dbe",
   "metadata": {},
   "outputs": [
    {
     "name": "stdout",
     "output_type": "stream",
     "text": [
      "Acuracy Using Linear Regression\n",
      "\n",
      "MAE testing : 18602.95\n",
      "MAE training : 13004.75\n",
      "*********************************************\n",
      "R-Squared Testing : 0.542\n",
      "R-Squared trainng : 0.721\n"
     ]
    }
   ],
   "source": [
    "print(\"Acuracy Using Linear Regression\")\n",
    "print()\n",
    "\n",
    "knns = KNeighborsRegressor(n_neighbors=5,p=1)\n",
    "knns.fit(x_train_scale,y_train)\n",
    "y_pred_train = knns.predict(x_train_scale)\n",
    "y_pred = knns.predict(x_test_scale)\n",
    "\n",
    "print(\"MAE testing :\",mean_absolute_error(y_pred,y_test).round(2))\n",
    "print(\"MAE training :\",mean_absolute_error(y_train,y_pred_train).round(2))\n",
    "print(\"*\"*45)\n",
    "print(\"R-Squared Testing :\",r2_score(y_test,y_pred).round(3))\n",
    "print(\"R-Squared trainng :\",r2_score(y_train,y_pred_train).round(3))"
   ]
  },
  {
   "cell_type": "markdown",
   "id": "94b1d0e5",
   "metadata": {},
   "source": [
    "### DT"
   ]
  },
  {
   "cell_type": "code",
   "execution_count": 469,
   "id": "52917803",
   "metadata": {},
   "outputs": [
    {
     "name": "stdout",
     "output_type": "stream",
     "text": [
      "*** DT Regressor ***\n",
      "MAE testing : 17938.86\n",
      "MAE training : 6527.63\n",
      "*********************************************\n",
      "R-Squared Testing : 0.443\n",
      "R-Squared trainng : 0.943\n"
     ]
    }
   ],
   "source": [
    "dt = DecisionTreeRegressor(max_depth= 9)\n",
    "dt.fit(x_train,y_train)\n",
    "\n",
    "y_pred = dt.predict(x_test)\n",
    "y_pred_train = dt.predict(x_train)\n",
    "\n",
    "print(\"*** DT Regressor ***\")\n",
    "\n",
    "print(\"MAE testing :\",mean_absolute_error(y_test,y_pred).round(2))\n",
    "print(\"MAE training :\",mean_absolute_error(y_train,y_pred_train).round(2))\n",
    "print(\"*\"*45)\n",
    "\n",
    "print(\"R-Squared Testing :\",r2_score(y_test,y_pred).round(3))\n",
    "print(\"R-Squared trainng :\",r2_score(y_train,y_pred_train).round(3))"
   ]
  },
  {
   "cell_type": "code",
   "execution_count": 456,
   "id": "f5376c28",
   "metadata": {},
   "outputs": [],
   "source": [
    "hyp_grid = {\"max_depth\":np.arange(5,50),\n",
    "            \"max_features\":[0.4,0.6],\n",
    "            \"max_leaf_nodes\" : np.arange(1,8)\n",
    "            \n",
    "           }\n",
    "gscv_dt = RandomizedSearchCV(dt,hyp_grid)"
   ]
  },
  {
   "cell_type": "code",
   "execution_count": 457,
   "id": "14430d49",
   "metadata": {},
   "outputs": [
    {
     "data": {
      "text/html": [
       "<style>#sk-container-id-37 {color: black;}#sk-container-id-37 pre{padding: 0;}#sk-container-id-37 div.sk-toggleable {background-color: white;}#sk-container-id-37 label.sk-toggleable__label {cursor: pointer;display: block;width: 100%;margin-bottom: 0;padding: 0.3em;box-sizing: border-box;text-align: center;}#sk-container-id-37 label.sk-toggleable__label-arrow:before {content: \"▸\";float: left;margin-right: 0.25em;color: #696969;}#sk-container-id-37 label.sk-toggleable__label-arrow:hover:before {color: black;}#sk-container-id-37 div.sk-estimator:hover label.sk-toggleable__label-arrow:before {color: black;}#sk-container-id-37 div.sk-toggleable__content {max-height: 0;max-width: 0;overflow: hidden;text-align: left;background-color: #f0f8ff;}#sk-container-id-37 div.sk-toggleable__content pre {margin: 0.2em;color: black;border-radius: 0.25em;background-color: #f0f8ff;}#sk-container-id-37 input.sk-toggleable__control:checked~div.sk-toggleable__content {max-height: 200px;max-width: 100%;overflow: auto;}#sk-container-id-37 input.sk-toggleable__control:checked~label.sk-toggleable__label-arrow:before {content: \"▾\";}#sk-container-id-37 div.sk-estimator input.sk-toggleable__control:checked~label.sk-toggleable__label {background-color: #d4ebff;}#sk-container-id-37 div.sk-label input.sk-toggleable__control:checked~label.sk-toggleable__label {background-color: #d4ebff;}#sk-container-id-37 input.sk-hidden--visually {border: 0;clip: rect(1px 1px 1px 1px);clip: rect(1px, 1px, 1px, 1px);height: 1px;margin: -1px;overflow: hidden;padding: 0;position: absolute;width: 1px;}#sk-container-id-37 div.sk-estimator {font-family: monospace;background-color: #f0f8ff;border: 1px dotted black;border-radius: 0.25em;box-sizing: border-box;margin-bottom: 0.5em;}#sk-container-id-37 div.sk-estimator:hover {background-color: #d4ebff;}#sk-container-id-37 div.sk-parallel-item::after {content: \"\";width: 100%;border-bottom: 1px solid gray;flex-grow: 1;}#sk-container-id-37 div.sk-label:hover label.sk-toggleable__label {background-color: #d4ebff;}#sk-container-id-37 div.sk-serial::before {content: \"\";position: absolute;border-left: 1px solid gray;box-sizing: border-box;top: 0;bottom: 0;left: 50%;z-index: 0;}#sk-container-id-37 div.sk-serial {display: flex;flex-direction: column;align-items: center;background-color: white;padding-right: 0.2em;padding-left: 0.2em;position: relative;}#sk-container-id-37 div.sk-item {position: relative;z-index: 1;}#sk-container-id-37 div.sk-parallel {display: flex;align-items: stretch;justify-content: center;background-color: white;position: relative;}#sk-container-id-37 div.sk-item::before, #sk-container-id-37 div.sk-parallel-item::before {content: \"\";position: absolute;border-left: 1px solid gray;box-sizing: border-box;top: 0;bottom: 0;left: 50%;z-index: -1;}#sk-container-id-37 div.sk-parallel-item {display: flex;flex-direction: column;z-index: 1;position: relative;background-color: white;}#sk-container-id-37 div.sk-parallel-item:first-child::after {align-self: flex-end;width: 50%;}#sk-container-id-37 div.sk-parallel-item:last-child::after {align-self: flex-start;width: 50%;}#sk-container-id-37 div.sk-parallel-item:only-child::after {width: 0;}#sk-container-id-37 div.sk-dashed-wrapped {border: 1px dashed gray;margin: 0 0.4em 0.5em 0.4em;box-sizing: border-box;padding-bottom: 0.4em;background-color: white;}#sk-container-id-37 div.sk-label label {font-family: monospace;font-weight: bold;display: inline-block;line-height: 1.2em;}#sk-container-id-37 div.sk-label-container {text-align: center;}#sk-container-id-37 div.sk-container {/* jupyter's `normalize.less` sets `[hidden] { display: none; }` but bootstrap.min.css set `[hidden] { display: none !important; }` so we also need the `!important` here to be able to override the default hidden behavior on the sphinx rendered scikit-learn.org. See: https://github.com/scikit-learn/scikit-learn/issues/21755 */display: inline-block !important;position: relative;}#sk-container-id-37 div.sk-text-repr-fallback {display: none;}</style><div id=\"sk-container-id-37\" class=\"sk-top-container\"><div class=\"sk-text-repr-fallback\"><pre>RandomizedSearchCV(estimator=DecisionTreeRegressor(max_depth=45),\n",
       "                   param_distributions={&#x27;max_depth&#x27;: array([ 5,  6,  7,  8,  9, 10, 11, 12, 13, 14, 15, 16, 17, 18, 19, 20, 21,\n",
       "       22, 23, 24, 25, 26, 27, 28, 29, 30, 31, 32, 33, 34, 35, 36, 37, 38,\n",
       "       39, 40, 41, 42, 43, 44, 45, 46, 47, 48, 49]),\n",
       "                                        &#x27;max_features&#x27;: [0.4, 0.6],\n",
       "                                        &#x27;max_leaf_nodes&#x27;: array([1, 2, 3, 4, 5, 6, 7])})</pre><b>In a Jupyter environment, please rerun this cell to show the HTML representation or trust the notebook. <br />On GitHub, the HTML representation is unable to render, please try loading this page with nbviewer.org.</b></div><div class=\"sk-container\" hidden><div class=\"sk-item sk-dashed-wrapped\"><div class=\"sk-label-container\"><div class=\"sk-label sk-toggleable\"><input class=\"sk-toggleable__control sk-hidden--visually\" id=\"sk-estimator-id-55\" type=\"checkbox\" ><label for=\"sk-estimator-id-55\" class=\"sk-toggleable__label sk-toggleable__label-arrow\">RandomizedSearchCV</label><div class=\"sk-toggleable__content\"><pre>RandomizedSearchCV(estimator=DecisionTreeRegressor(max_depth=45),\n",
       "                   param_distributions={&#x27;max_depth&#x27;: array([ 5,  6,  7,  8,  9, 10, 11, 12, 13, 14, 15, 16, 17, 18, 19, 20, 21,\n",
       "       22, 23, 24, 25, 26, 27, 28, 29, 30, 31, 32, 33, 34, 35, 36, 37, 38,\n",
       "       39, 40, 41, 42, 43, 44, 45, 46, 47, 48, 49]),\n",
       "                                        &#x27;max_features&#x27;: [0.4, 0.6],\n",
       "                                        &#x27;max_leaf_nodes&#x27;: array([1, 2, 3, 4, 5, 6, 7])})</pre></div></div></div><div class=\"sk-parallel\"><div class=\"sk-parallel-item\"><div class=\"sk-item\"><div class=\"sk-label-container\"><div class=\"sk-label sk-toggleable\"><input class=\"sk-toggleable__control sk-hidden--visually\" id=\"sk-estimator-id-56\" type=\"checkbox\" ><label for=\"sk-estimator-id-56\" class=\"sk-toggleable__label sk-toggleable__label-arrow\">estimator: DecisionTreeRegressor</label><div class=\"sk-toggleable__content\"><pre>DecisionTreeRegressor(max_depth=45)</pre></div></div></div><div class=\"sk-serial\"><div class=\"sk-item\"><div class=\"sk-estimator sk-toggleable\"><input class=\"sk-toggleable__control sk-hidden--visually\" id=\"sk-estimator-id-57\" type=\"checkbox\" ><label for=\"sk-estimator-id-57\" class=\"sk-toggleable__label sk-toggleable__label-arrow\">DecisionTreeRegressor</label><div class=\"sk-toggleable__content\"><pre>DecisionTreeRegressor(max_depth=45)</pre></div></div></div></div></div></div></div></div></div></div>"
      ],
      "text/plain": [
       "RandomizedSearchCV(estimator=DecisionTreeRegressor(max_depth=45),\n",
       "                   param_distributions={'max_depth': array([ 5,  6,  7,  8,  9, 10, 11, 12, 13, 14, 15, 16, 17, 18, 19, 20, 21,\n",
       "       22, 23, 24, 25, 26, 27, 28, 29, 30, 31, 32, 33, 34, 35, 36, 37, 38,\n",
       "       39, 40, 41, 42, 43, 44, 45, 46, 47, 48, 49]),\n",
       "                                        'max_features': [0.4, 0.6],\n",
       "                                        'max_leaf_nodes': array([1, 2, 3, 4, 5, 6, 7])})"
      ]
     },
     "execution_count": 457,
     "metadata": {},
     "output_type": "execute_result"
    }
   ],
   "source": [
    "gscv_dt.fit(x_train,y_train)"
   ]
  },
  {
   "cell_type": "code",
   "execution_count": 458,
   "id": "ad351a04",
   "metadata": {},
   "outputs": [
    {
     "data": {
      "text/plain": [
       "{'max_leaf_nodes': 6, 'max_features': 0.4, 'max_depth': 22}"
      ]
     },
     "execution_count": 458,
     "metadata": {},
     "output_type": "execute_result"
    }
   ],
   "source": [
    "gscv_dt.best_params_"
   ]
  },
  {
   "cell_type": "markdown",
   "id": "62eaa478",
   "metadata": {},
   "source": [
    "#### Hyperparameter Tunning"
   ]
  },
  {
   "cell_type": "code",
   "execution_count": null,
   "id": "b2d45c6b",
   "metadata": {},
   "outputs": [],
   "source": [
    "\n",
    "hyp_grid = {\"n_neighbors\" : np.arange(2,15),\"p\":[1,2]}\n",
    "rscv_dt = RandomizedSearchCV(dt,hyp_grid)"
   ]
  },
  {
   "cell_type": "code",
   "execution_count": 125,
   "id": "ff1e6bbd",
   "metadata": {},
   "outputs": [],
   "source": [
    "\n",
    "hyp_grid = {\"n_neighbors\" : np.arange(2,15),\"p\":[1,2]}\n",
    "rscv_dt = RandomizedSearchCV(knn,hyp_grid)"
   ]
  },
  {
   "cell_type": "code",
   "execution_count": 127,
   "id": "a26523f4",
   "metadata": {},
   "outputs": [
    {
     "data": {
      "text/html": [
       "<style>#sk-container-id-6 {color: black;}#sk-container-id-6 pre{padding: 0;}#sk-container-id-6 div.sk-toggleable {background-color: white;}#sk-container-id-6 label.sk-toggleable__label {cursor: pointer;display: block;width: 100%;margin-bottom: 0;padding: 0.3em;box-sizing: border-box;text-align: center;}#sk-container-id-6 label.sk-toggleable__label-arrow:before {content: \"▸\";float: left;margin-right: 0.25em;color: #696969;}#sk-container-id-6 label.sk-toggleable__label-arrow:hover:before {color: black;}#sk-container-id-6 div.sk-estimator:hover label.sk-toggleable__label-arrow:before {color: black;}#sk-container-id-6 div.sk-toggleable__content {max-height: 0;max-width: 0;overflow: hidden;text-align: left;background-color: #f0f8ff;}#sk-container-id-6 div.sk-toggleable__content pre {margin: 0.2em;color: black;border-radius: 0.25em;background-color: #f0f8ff;}#sk-container-id-6 input.sk-toggleable__control:checked~div.sk-toggleable__content {max-height: 200px;max-width: 100%;overflow: auto;}#sk-container-id-6 input.sk-toggleable__control:checked~label.sk-toggleable__label-arrow:before {content: \"▾\";}#sk-container-id-6 div.sk-estimator input.sk-toggleable__control:checked~label.sk-toggleable__label {background-color: #d4ebff;}#sk-container-id-6 div.sk-label input.sk-toggleable__control:checked~label.sk-toggleable__label {background-color: #d4ebff;}#sk-container-id-6 input.sk-hidden--visually {border: 0;clip: rect(1px 1px 1px 1px);clip: rect(1px, 1px, 1px, 1px);height: 1px;margin: -1px;overflow: hidden;padding: 0;position: absolute;width: 1px;}#sk-container-id-6 div.sk-estimator {font-family: monospace;background-color: #f0f8ff;border: 1px dotted black;border-radius: 0.25em;box-sizing: border-box;margin-bottom: 0.5em;}#sk-container-id-6 div.sk-estimator:hover {background-color: #d4ebff;}#sk-container-id-6 div.sk-parallel-item::after {content: \"\";width: 100%;border-bottom: 1px solid gray;flex-grow: 1;}#sk-container-id-6 div.sk-label:hover label.sk-toggleable__label {background-color: #d4ebff;}#sk-container-id-6 div.sk-serial::before {content: \"\";position: absolute;border-left: 1px solid gray;box-sizing: border-box;top: 0;bottom: 0;left: 50%;z-index: 0;}#sk-container-id-6 div.sk-serial {display: flex;flex-direction: column;align-items: center;background-color: white;padding-right: 0.2em;padding-left: 0.2em;position: relative;}#sk-container-id-6 div.sk-item {position: relative;z-index: 1;}#sk-container-id-6 div.sk-parallel {display: flex;align-items: stretch;justify-content: center;background-color: white;position: relative;}#sk-container-id-6 div.sk-item::before, #sk-container-id-6 div.sk-parallel-item::before {content: \"\";position: absolute;border-left: 1px solid gray;box-sizing: border-box;top: 0;bottom: 0;left: 50%;z-index: -1;}#sk-container-id-6 div.sk-parallel-item {display: flex;flex-direction: column;z-index: 1;position: relative;background-color: white;}#sk-container-id-6 div.sk-parallel-item:first-child::after {align-self: flex-end;width: 50%;}#sk-container-id-6 div.sk-parallel-item:last-child::after {align-self: flex-start;width: 50%;}#sk-container-id-6 div.sk-parallel-item:only-child::after {width: 0;}#sk-container-id-6 div.sk-dashed-wrapped {border: 1px dashed gray;margin: 0 0.4em 0.5em 0.4em;box-sizing: border-box;padding-bottom: 0.4em;background-color: white;}#sk-container-id-6 div.sk-label label {font-family: monospace;font-weight: bold;display: inline-block;line-height: 1.2em;}#sk-container-id-6 div.sk-label-container {text-align: center;}#sk-container-id-6 div.sk-container {/* jupyter's `normalize.less` sets `[hidden] { display: none; }` but bootstrap.min.css set `[hidden] { display: none !important; }` so we also need the `!important` here to be able to override the default hidden behavior on the sphinx rendered scikit-learn.org. See: https://github.com/scikit-learn/scikit-learn/issues/21755 */display: inline-block !important;position: relative;}#sk-container-id-6 div.sk-text-repr-fallback {display: none;}</style><div id=\"sk-container-id-6\" class=\"sk-top-container\"><div class=\"sk-text-repr-fallback\"><pre>RandomizedSearchCV(estimator=KNeighborsRegressor(),\n",
       "                   param_distributions={&#x27;n_neighbors&#x27;: array([ 2,  3,  4,  5,  6,  7,  8,  9, 10, 11, 12, 13, 14]),\n",
       "                                        &#x27;p&#x27;: [1, 2]})</pre><b>In a Jupyter environment, please rerun this cell to show the HTML representation or trust the notebook. <br />On GitHub, the HTML representation is unable to render, please try loading this page with nbviewer.org.</b></div><div class=\"sk-container\" hidden><div class=\"sk-item sk-dashed-wrapped\"><div class=\"sk-label-container\"><div class=\"sk-label sk-toggleable\"><input class=\"sk-toggleable__control sk-hidden--visually\" id=\"sk-estimator-id-8\" type=\"checkbox\" ><label for=\"sk-estimator-id-8\" class=\"sk-toggleable__label sk-toggleable__label-arrow\">RandomizedSearchCV</label><div class=\"sk-toggleable__content\"><pre>RandomizedSearchCV(estimator=KNeighborsRegressor(),\n",
       "                   param_distributions={&#x27;n_neighbors&#x27;: array([ 2,  3,  4,  5,  6,  7,  8,  9, 10, 11, 12, 13, 14]),\n",
       "                                        &#x27;p&#x27;: [1, 2]})</pre></div></div></div><div class=\"sk-parallel\"><div class=\"sk-parallel-item\"><div class=\"sk-item\"><div class=\"sk-label-container\"><div class=\"sk-label sk-toggleable\"><input class=\"sk-toggleable__control sk-hidden--visually\" id=\"sk-estimator-id-9\" type=\"checkbox\" ><label for=\"sk-estimator-id-9\" class=\"sk-toggleable__label sk-toggleable__label-arrow\">estimator: KNeighborsRegressor</label><div class=\"sk-toggleable__content\"><pre>KNeighborsRegressor()</pre></div></div></div><div class=\"sk-serial\"><div class=\"sk-item\"><div class=\"sk-estimator sk-toggleable\"><input class=\"sk-toggleable__control sk-hidden--visually\" id=\"sk-estimator-id-10\" type=\"checkbox\" ><label for=\"sk-estimator-id-10\" class=\"sk-toggleable__label sk-toggleable__label-arrow\">KNeighborsRegressor</label><div class=\"sk-toggleable__content\"><pre>KNeighborsRegressor()</pre></div></div></div></div></div></div></div></div></div></div>"
      ],
      "text/plain": [
       "RandomizedSearchCV(estimator=KNeighborsRegressor(),\n",
       "                   param_distributions={'n_neighbors': array([ 2,  3,  4,  5,  6,  7,  8,  9, 10, 11, 12, 13, 14]),\n",
       "                                        'p': [1, 2]})"
      ]
     },
     "execution_count": 127,
     "metadata": {},
     "output_type": "execute_result"
    }
   ],
   "source": [
    "rscv_dt.fit(x_train,y_train)"
   ]
  },
  {
   "cell_type": "code",
   "execution_count": 128,
   "id": "5fe4567d",
   "metadata": {},
   "outputs": [
    {
     "data": {
      "text/html": [
       "<style>#sk-container-id-7 {color: black;}#sk-container-id-7 pre{padding: 0;}#sk-container-id-7 div.sk-toggleable {background-color: white;}#sk-container-id-7 label.sk-toggleable__label {cursor: pointer;display: block;width: 100%;margin-bottom: 0;padding: 0.3em;box-sizing: border-box;text-align: center;}#sk-container-id-7 label.sk-toggleable__label-arrow:before {content: \"▸\";float: left;margin-right: 0.25em;color: #696969;}#sk-container-id-7 label.sk-toggleable__label-arrow:hover:before {color: black;}#sk-container-id-7 div.sk-estimator:hover label.sk-toggleable__label-arrow:before {color: black;}#sk-container-id-7 div.sk-toggleable__content {max-height: 0;max-width: 0;overflow: hidden;text-align: left;background-color: #f0f8ff;}#sk-container-id-7 div.sk-toggleable__content pre {margin: 0.2em;color: black;border-radius: 0.25em;background-color: #f0f8ff;}#sk-container-id-7 input.sk-toggleable__control:checked~div.sk-toggleable__content {max-height: 200px;max-width: 100%;overflow: auto;}#sk-container-id-7 input.sk-toggleable__control:checked~label.sk-toggleable__label-arrow:before {content: \"▾\";}#sk-container-id-7 div.sk-estimator input.sk-toggleable__control:checked~label.sk-toggleable__label {background-color: #d4ebff;}#sk-container-id-7 div.sk-label input.sk-toggleable__control:checked~label.sk-toggleable__label {background-color: #d4ebff;}#sk-container-id-7 input.sk-hidden--visually {border: 0;clip: rect(1px 1px 1px 1px);clip: rect(1px, 1px, 1px, 1px);height: 1px;margin: -1px;overflow: hidden;padding: 0;position: absolute;width: 1px;}#sk-container-id-7 div.sk-estimator {font-family: monospace;background-color: #f0f8ff;border: 1px dotted black;border-radius: 0.25em;box-sizing: border-box;margin-bottom: 0.5em;}#sk-container-id-7 div.sk-estimator:hover {background-color: #d4ebff;}#sk-container-id-7 div.sk-parallel-item::after {content: \"\";width: 100%;border-bottom: 1px solid gray;flex-grow: 1;}#sk-container-id-7 div.sk-label:hover label.sk-toggleable__label {background-color: #d4ebff;}#sk-container-id-7 div.sk-serial::before {content: \"\";position: absolute;border-left: 1px solid gray;box-sizing: border-box;top: 0;bottom: 0;left: 50%;z-index: 0;}#sk-container-id-7 div.sk-serial {display: flex;flex-direction: column;align-items: center;background-color: white;padding-right: 0.2em;padding-left: 0.2em;position: relative;}#sk-container-id-7 div.sk-item {position: relative;z-index: 1;}#sk-container-id-7 div.sk-parallel {display: flex;align-items: stretch;justify-content: center;background-color: white;position: relative;}#sk-container-id-7 div.sk-item::before, #sk-container-id-7 div.sk-parallel-item::before {content: \"\";position: absolute;border-left: 1px solid gray;box-sizing: border-box;top: 0;bottom: 0;left: 50%;z-index: -1;}#sk-container-id-7 div.sk-parallel-item {display: flex;flex-direction: column;z-index: 1;position: relative;background-color: white;}#sk-container-id-7 div.sk-parallel-item:first-child::after {align-self: flex-end;width: 50%;}#sk-container-id-7 div.sk-parallel-item:last-child::after {align-self: flex-start;width: 50%;}#sk-container-id-7 div.sk-parallel-item:only-child::after {width: 0;}#sk-container-id-7 div.sk-dashed-wrapped {border: 1px dashed gray;margin: 0 0.4em 0.5em 0.4em;box-sizing: border-box;padding-bottom: 0.4em;background-color: white;}#sk-container-id-7 div.sk-label label {font-family: monospace;font-weight: bold;display: inline-block;line-height: 1.2em;}#sk-container-id-7 div.sk-label-container {text-align: center;}#sk-container-id-7 div.sk-container {/* jupyter's `normalize.less` sets `[hidden] { display: none; }` but bootstrap.min.css set `[hidden] { display: none !important; }` so we also need the `!important` here to be able to override the default hidden behavior on the sphinx rendered scikit-learn.org. See: https://github.com/scikit-learn/scikit-learn/issues/21755 */display: inline-block !important;position: relative;}#sk-container-id-7 div.sk-text-repr-fallback {display: none;}</style><div id=\"sk-container-id-7\" class=\"sk-top-container\"><div class=\"sk-text-repr-fallback\"><pre>KNeighborsRegressor(n_neighbors=6, p=1)</pre><b>In a Jupyter environment, please rerun this cell to show the HTML representation or trust the notebook. <br />On GitHub, the HTML representation is unable to render, please try loading this page with nbviewer.org.</b></div><div class=\"sk-container\" hidden><div class=\"sk-item\"><div class=\"sk-estimator sk-toggleable\"><input class=\"sk-toggleable__control sk-hidden--visually\" id=\"sk-estimator-id-11\" type=\"checkbox\" checked><label for=\"sk-estimator-id-11\" class=\"sk-toggleable__label sk-toggleable__label-arrow\">KNeighborsRegressor</label><div class=\"sk-toggleable__content\"><pre>KNeighborsRegressor(n_neighbors=6, p=1)</pre></div></div></div></div></div>"
      ],
      "text/plain": [
       "KNeighborsRegressor(n_neighbors=6, p=1)"
      ]
     },
     "execution_count": 128,
     "metadata": {},
     "output_type": "execute_result"
    }
   ],
   "source": [
    "rscv_dt.best_estimator_"
   ]
  },
  {
   "cell_type": "code",
   "execution_count": 448,
   "id": "96303da5",
   "metadata": {},
   "outputs": [
    {
     "name": "stdout",
     "output_type": "stream",
     "text": [
      "\n",
      "*** Random Forest Regression ***\n",
      "\n",
      "Accuracy on Testing  :  58.96\n",
      "Accuracy on Training :  90.64\n"
     ]
    }
   ],
   "source": [
    "rf = RandomForestRegressor(max_depth=43, max_features=0.65, max_samples=0.79,criterion=\"squared_error\")\n",
    "rf.fit(x_train_scale,y_train)\n",
    "y_pred = rf.predict(x_test_scale)\n",
    "y_pred_train = rf.predict(x_train_scale)\n",
    "print()\n",
    "print(\"*** Random Forest Regression ***\")\n",
    "print()\n",
    "print(\"Accuracy on Testing  : \",r2_score(y_pred,y_test).round(4)*100)\n",
    "print(\"Accuracy on Training : \",r2_score(y_pred_train,y_train).round(4)*100)"
   ]
  },
  {
   "cell_type": "code",
   "execution_count": 415,
   "id": "81d43dd8",
   "metadata": {},
   "outputs": [
    {
     "name": "stdout",
     "output_type": "stream",
     "text": [
      "\n",
      "*** Random Forest Regression ***\n",
      "\n",
      "Accuracy on Testing  :  60.5\n",
      "Accuracy on Training :  90.19\n"
     ]
    }
   ],
   "source": [
    "rf = RandomForestRegressor(max_depth=43, max_features=0.65, max_samples=0.79,criterion=\"squared_error\")\n",
    "rf.fit(x_train,y_train)\n",
    "y_pred = rf.predict(x_test)\n",
    "y_pred_train = rf.predict(x_train)\n",
    "print()\n",
    "print(\"*** Random Forest Regression ***\")\n",
    "print()\n",
    "print(\"Accuracy on Testing  : \",r2_score(y_pred,y_test).round(4)*100)\n",
    "print(\"Accuracy on Training : \",r2_score(y_pred_train,y_train).round(4)*100)"
   ]
  },
  {
   "cell_type": "code",
   "execution_count": 366,
   "id": "69efa29e",
   "metadata": {},
   "outputs": [],
   "source": [
    "hyp_grid = {\"max_depth\":np.arange(5,50),\n",
    "            \"n_estimators\":[100],\n",
    "            \"max_features\":[0.4,0.6],\n",
    "            \"max_samples\":[0.5,0.75,0.9]\n",
    "           }\n",
    "gscv = RandomizedSearchCV(rf,hyp_grid)\n"
   ]
  },
  {
   "cell_type": "code",
   "execution_count": 398,
   "id": "e2d0f792",
   "metadata": {},
   "outputs": [
    {
     "data": {
      "text/html": [
       "<style>#sk-container-id-34 {color: black;}#sk-container-id-34 pre{padding: 0;}#sk-container-id-34 div.sk-toggleable {background-color: white;}#sk-container-id-34 label.sk-toggleable__label {cursor: pointer;display: block;width: 100%;margin-bottom: 0;padding: 0.3em;box-sizing: border-box;text-align: center;}#sk-container-id-34 label.sk-toggleable__label-arrow:before {content: \"▸\";float: left;margin-right: 0.25em;color: #696969;}#sk-container-id-34 label.sk-toggleable__label-arrow:hover:before {color: black;}#sk-container-id-34 div.sk-estimator:hover label.sk-toggleable__label-arrow:before {color: black;}#sk-container-id-34 div.sk-toggleable__content {max-height: 0;max-width: 0;overflow: hidden;text-align: left;background-color: #f0f8ff;}#sk-container-id-34 div.sk-toggleable__content pre {margin: 0.2em;color: black;border-radius: 0.25em;background-color: #f0f8ff;}#sk-container-id-34 input.sk-toggleable__control:checked~div.sk-toggleable__content {max-height: 200px;max-width: 100%;overflow: auto;}#sk-container-id-34 input.sk-toggleable__control:checked~label.sk-toggleable__label-arrow:before {content: \"▾\";}#sk-container-id-34 div.sk-estimator input.sk-toggleable__control:checked~label.sk-toggleable__label {background-color: #d4ebff;}#sk-container-id-34 div.sk-label input.sk-toggleable__control:checked~label.sk-toggleable__label {background-color: #d4ebff;}#sk-container-id-34 input.sk-hidden--visually {border: 0;clip: rect(1px 1px 1px 1px);clip: rect(1px, 1px, 1px, 1px);height: 1px;margin: -1px;overflow: hidden;padding: 0;position: absolute;width: 1px;}#sk-container-id-34 div.sk-estimator {font-family: monospace;background-color: #f0f8ff;border: 1px dotted black;border-radius: 0.25em;box-sizing: border-box;margin-bottom: 0.5em;}#sk-container-id-34 div.sk-estimator:hover {background-color: #d4ebff;}#sk-container-id-34 div.sk-parallel-item::after {content: \"\";width: 100%;border-bottom: 1px solid gray;flex-grow: 1;}#sk-container-id-34 div.sk-label:hover label.sk-toggleable__label {background-color: #d4ebff;}#sk-container-id-34 div.sk-serial::before {content: \"\";position: absolute;border-left: 1px solid gray;box-sizing: border-box;top: 0;bottom: 0;left: 50%;z-index: 0;}#sk-container-id-34 div.sk-serial {display: flex;flex-direction: column;align-items: center;background-color: white;padding-right: 0.2em;padding-left: 0.2em;position: relative;}#sk-container-id-34 div.sk-item {position: relative;z-index: 1;}#sk-container-id-34 div.sk-parallel {display: flex;align-items: stretch;justify-content: center;background-color: white;position: relative;}#sk-container-id-34 div.sk-item::before, #sk-container-id-34 div.sk-parallel-item::before {content: \"\";position: absolute;border-left: 1px solid gray;box-sizing: border-box;top: 0;bottom: 0;left: 50%;z-index: -1;}#sk-container-id-34 div.sk-parallel-item {display: flex;flex-direction: column;z-index: 1;position: relative;background-color: white;}#sk-container-id-34 div.sk-parallel-item:first-child::after {align-self: flex-end;width: 50%;}#sk-container-id-34 div.sk-parallel-item:last-child::after {align-self: flex-start;width: 50%;}#sk-container-id-34 div.sk-parallel-item:only-child::after {width: 0;}#sk-container-id-34 div.sk-dashed-wrapped {border: 1px dashed gray;margin: 0 0.4em 0.5em 0.4em;box-sizing: border-box;padding-bottom: 0.4em;background-color: white;}#sk-container-id-34 div.sk-label label {font-family: monospace;font-weight: bold;display: inline-block;line-height: 1.2em;}#sk-container-id-34 div.sk-label-container {text-align: center;}#sk-container-id-34 div.sk-container {/* jupyter's `normalize.less` sets `[hidden] { display: none; }` but bootstrap.min.css set `[hidden] { display: none !important; }` so we also need the `!important` here to be able to override the default hidden behavior on the sphinx rendered scikit-learn.org. See: https://github.com/scikit-learn/scikit-learn/issues/21755 */display: inline-block !important;position: relative;}#sk-container-id-34 div.sk-text-repr-fallback {display: none;}</style><div id=\"sk-container-id-34\" class=\"sk-top-container\"><div class=\"sk-text-repr-fallback\"><pre>RandomizedSearchCV(estimator=RandomForestRegressor(max_depth=48,\n",
       "                                                   max_features=0.4,\n",
       "                                                   max_samples=0.75),\n",
       "                   param_distributions={&#x27;max_depth&#x27;: array([ 5,  6,  7,  8,  9, 10, 11, 12, 13, 14, 15, 16, 17, 18, 19, 20, 21,\n",
       "       22, 23, 24, 25, 26, 27, 28, 29, 30, 31, 32, 33, 34, 35, 36, 37, 38,\n",
       "       39, 40, 41, 42, 43, 44, 45, 46, 47, 48, 49]),\n",
       "                                        &#x27;max_features&#x27;: [0.4, 0.6],\n",
       "                                        &#x27;max_samples&#x27;: [0.5, 0.75, 0.9],\n",
       "                                        &#x27;n_estimators&#x27;: [100]})</pre><b>In a Jupyter environment, please rerun this cell to show the HTML representation or trust the notebook. <br />On GitHub, the HTML representation is unable to render, please try loading this page with nbviewer.org.</b></div><div class=\"sk-container\" hidden><div class=\"sk-item sk-dashed-wrapped\"><div class=\"sk-label-container\"><div class=\"sk-label sk-toggleable\"><input class=\"sk-toggleable__control sk-hidden--visually\" id=\"sk-estimator-id-48\" type=\"checkbox\" ><label for=\"sk-estimator-id-48\" class=\"sk-toggleable__label sk-toggleable__label-arrow\">RandomizedSearchCV</label><div class=\"sk-toggleable__content\"><pre>RandomizedSearchCV(estimator=RandomForestRegressor(max_depth=48,\n",
       "                                                   max_features=0.4,\n",
       "                                                   max_samples=0.75),\n",
       "                   param_distributions={&#x27;max_depth&#x27;: array([ 5,  6,  7,  8,  9, 10, 11, 12, 13, 14, 15, 16, 17, 18, 19, 20, 21,\n",
       "       22, 23, 24, 25, 26, 27, 28, 29, 30, 31, 32, 33, 34, 35, 36, 37, 38,\n",
       "       39, 40, 41, 42, 43, 44, 45, 46, 47, 48, 49]),\n",
       "                                        &#x27;max_features&#x27;: [0.4, 0.6],\n",
       "                                        &#x27;max_samples&#x27;: [0.5, 0.75, 0.9],\n",
       "                                        &#x27;n_estimators&#x27;: [100]})</pre></div></div></div><div class=\"sk-parallel\"><div class=\"sk-parallel-item\"><div class=\"sk-item\"><div class=\"sk-label-container\"><div class=\"sk-label sk-toggleable\"><input class=\"sk-toggleable__control sk-hidden--visually\" id=\"sk-estimator-id-49\" type=\"checkbox\" ><label for=\"sk-estimator-id-49\" class=\"sk-toggleable__label sk-toggleable__label-arrow\">estimator: RandomForestRegressor</label><div class=\"sk-toggleable__content\"><pre>RandomForestRegressor(max_depth=48, max_features=0.4, max_samples=0.75)</pre></div></div></div><div class=\"sk-serial\"><div class=\"sk-item\"><div class=\"sk-estimator sk-toggleable\"><input class=\"sk-toggleable__control sk-hidden--visually\" id=\"sk-estimator-id-50\" type=\"checkbox\" ><label for=\"sk-estimator-id-50\" class=\"sk-toggleable__label sk-toggleable__label-arrow\">RandomForestRegressor</label><div class=\"sk-toggleable__content\"><pre>RandomForestRegressor(max_depth=48, max_features=0.4, max_samples=0.75)</pre></div></div></div></div></div></div></div></div></div></div>"
      ],
      "text/plain": [
       "RandomizedSearchCV(estimator=RandomForestRegressor(max_depth=48,\n",
       "                                                   max_features=0.4,\n",
       "                                                   max_samples=0.75),\n",
       "                   param_distributions={'max_depth': array([ 5,  6,  7,  8,  9, 10, 11, 12, 13, 14, 15, 16, 17, 18, 19, 20, 21,\n",
       "       22, 23, 24, 25, 26, 27, 28, 29, 30, 31, 32, 33, 34, 35, 36, 37, 38,\n",
       "       39, 40, 41, 42, 43, 44, 45, 46, 47, 48, 49]),\n",
       "                                        'max_features': [0.4, 0.6],\n",
       "                                        'max_samples': [0.5, 0.75, 0.9],\n",
       "                                        'n_estimators': [100]})"
      ]
     },
     "execution_count": 398,
     "metadata": {},
     "output_type": "execute_result"
    }
   ],
   "source": [
    "gscv.fit(x_train,y_train)"
   ]
  },
  {
   "cell_type": "code",
   "execution_count": 399,
   "id": "9f9bd174",
   "metadata": {},
   "outputs": [
    {
     "data": {
      "text/html": [
       "<style>#sk-container-id-35 {color: black;}#sk-container-id-35 pre{padding: 0;}#sk-container-id-35 div.sk-toggleable {background-color: white;}#sk-container-id-35 label.sk-toggleable__label {cursor: pointer;display: block;width: 100%;margin-bottom: 0;padding: 0.3em;box-sizing: border-box;text-align: center;}#sk-container-id-35 label.sk-toggleable__label-arrow:before {content: \"▸\";float: left;margin-right: 0.25em;color: #696969;}#sk-container-id-35 label.sk-toggleable__label-arrow:hover:before {color: black;}#sk-container-id-35 div.sk-estimator:hover label.sk-toggleable__label-arrow:before {color: black;}#sk-container-id-35 div.sk-toggleable__content {max-height: 0;max-width: 0;overflow: hidden;text-align: left;background-color: #f0f8ff;}#sk-container-id-35 div.sk-toggleable__content pre {margin: 0.2em;color: black;border-radius: 0.25em;background-color: #f0f8ff;}#sk-container-id-35 input.sk-toggleable__control:checked~div.sk-toggleable__content {max-height: 200px;max-width: 100%;overflow: auto;}#sk-container-id-35 input.sk-toggleable__control:checked~label.sk-toggleable__label-arrow:before {content: \"▾\";}#sk-container-id-35 div.sk-estimator input.sk-toggleable__control:checked~label.sk-toggleable__label {background-color: #d4ebff;}#sk-container-id-35 div.sk-label input.sk-toggleable__control:checked~label.sk-toggleable__label {background-color: #d4ebff;}#sk-container-id-35 input.sk-hidden--visually {border: 0;clip: rect(1px 1px 1px 1px);clip: rect(1px, 1px, 1px, 1px);height: 1px;margin: -1px;overflow: hidden;padding: 0;position: absolute;width: 1px;}#sk-container-id-35 div.sk-estimator {font-family: monospace;background-color: #f0f8ff;border: 1px dotted black;border-radius: 0.25em;box-sizing: border-box;margin-bottom: 0.5em;}#sk-container-id-35 div.sk-estimator:hover {background-color: #d4ebff;}#sk-container-id-35 div.sk-parallel-item::after {content: \"\";width: 100%;border-bottom: 1px solid gray;flex-grow: 1;}#sk-container-id-35 div.sk-label:hover label.sk-toggleable__label {background-color: #d4ebff;}#sk-container-id-35 div.sk-serial::before {content: \"\";position: absolute;border-left: 1px solid gray;box-sizing: border-box;top: 0;bottom: 0;left: 50%;z-index: 0;}#sk-container-id-35 div.sk-serial {display: flex;flex-direction: column;align-items: center;background-color: white;padding-right: 0.2em;padding-left: 0.2em;position: relative;}#sk-container-id-35 div.sk-item {position: relative;z-index: 1;}#sk-container-id-35 div.sk-parallel {display: flex;align-items: stretch;justify-content: center;background-color: white;position: relative;}#sk-container-id-35 div.sk-item::before, #sk-container-id-35 div.sk-parallel-item::before {content: \"\";position: absolute;border-left: 1px solid gray;box-sizing: border-box;top: 0;bottom: 0;left: 50%;z-index: -1;}#sk-container-id-35 div.sk-parallel-item {display: flex;flex-direction: column;z-index: 1;position: relative;background-color: white;}#sk-container-id-35 div.sk-parallel-item:first-child::after {align-self: flex-end;width: 50%;}#sk-container-id-35 div.sk-parallel-item:last-child::after {align-self: flex-start;width: 50%;}#sk-container-id-35 div.sk-parallel-item:only-child::after {width: 0;}#sk-container-id-35 div.sk-dashed-wrapped {border: 1px dashed gray;margin: 0 0.4em 0.5em 0.4em;box-sizing: border-box;padding-bottom: 0.4em;background-color: white;}#sk-container-id-35 div.sk-label label {font-family: monospace;font-weight: bold;display: inline-block;line-height: 1.2em;}#sk-container-id-35 div.sk-label-container {text-align: center;}#sk-container-id-35 div.sk-container {/* jupyter's `normalize.less` sets `[hidden] { display: none; }` but bootstrap.min.css set `[hidden] { display: none !important; }` so we also need the `!important` here to be able to override the default hidden behavior on the sphinx rendered scikit-learn.org. See: https://github.com/scikit-learn/scikit-learn/issues/21755 */display: inline-block !important;position: relative;}#sk-container-id-35 div.sk-text-repr-fallback {display: none;}</style><div id=\"sk-container-id-35\" class=\"sk-top-container\"><div class=\"sk-text-repr-fallback\"><pre>RandomForestRegressor(max_depth=43, max_features=0.4, max_samples=0.5)</pre><b>In a Jupyter environment, please rerun this cell to show the HTML representation or trust the notebook. <br />On GitHub, the HTML representation is unable to render, please try loading this page with nbviewer.org.</b></div><div class=\"sk-container\" hidden><div class=\"sk-item\"><div class=\"sk-estimator sk-toggleable\"><input class=\"sk-toggleable__control sk-hidden--visually\" id=\"sk-estimator-id-51\" type=\"checkbox\" checked><label for=\"sk-estimator-id-51\" class=\"sk-toggleable__label sk-toggleable__label-arrow\">RandomForestRegressor</label><div class=\"sk-toggleable__content\"><pre>RandomForestRegressor(max_depth=43, max_features=0.4, max_samples=0.5)</pre></div></div></div></div></div>"
      ],
      "text/plain": [
       "RandomForestRegressor(max_depth=43, max_features=0.4, max_samples=0.5)"
      ]
     },
     "execution_count": 399,
     "metadata": {},
     "output_type": "execute_result"
    }
   ],
   "source": [
    "gscv.best_estimator_"
   ]
  },
  {
   "cell_type": "markdown",
   "id": "8cbd0174",
   "metadata": {},
   "source": [
    "### Training Data"
   ]
  },
  {
   "cell_type": "markdown",
   "id": "d8936fa2",
   "metadata": {},
   "source": [
    "## Training Data : 69.97%      |      Testing Data : 71.18 %"
   ]
  },
  {
   "cell_type": "raw",
   "id": "051da43d",
   "metadata": {},
   "source": [
    " # High Bias >> Low Accuracy 70.41 % \n",
    " # No Varience >> Same Accuracy on Training & Testing Data.\n",
    " \n",
    "Our Model is UnderFitting :\n",
    " \n",
    "We can Improve Model Accuracy : \n",
    "        1. By adding some Other Features.\n",
    "        2. By Removing Outliers\n",
    "        2. Using other Algorithms."
   ]
  },
  {
   "cell_type": "markdown",
   "id": "6ef4cfb5",
   "metadata": {},
   "source": [
    "### Load Model"
   ]
  },
  {
   "cell_type": "code",
   "execution_count": 406,
   "id": "61576aba",
   "metadata": {},
   "outputs": [],
   "source": [
    "import pickle\n",
    "import json\n",
    "\n",
    "with open(\"model.pkl\",\"wb\") as s:\n",
    "    pickle.dump(lr,s)"
   ]
  },
  {
   "cell_type": "markdown",
   "id": "d0606696",
   "metadata": {},
   "source": [
    "### Load Data"
   ]
  },
  {
   "cell_type": "code",
   "execution_count": 125,
   "id": "b390eb31",
   "metadata": {},
   "outputs": [
    {
     "data": {
      "text/plain": [
       "23"
      ]
     },
     "execution_count": 125,
     "metadata": {},
     "output_type": "execute_result"
    }
   ],
   "source": [
    "col = lr.feature_names_in_.tolist()\n",
    "len(col)"
   ]
  },
  {
   "cell_type": "code",
   "execution_count": 44,
   "id": "98c35722",
   "metadata": {},
   "outputs": [],
   "source": [
    "# graphic_card_gb\n",
    "graphic_card_gb_data = {\"0 GB\":0,\"4 GB\":4,\"2 GB\":2,\"6 GB\":6,\"8 GB\":8}\n",
    "\n",
    "# ram_gb\n",
    "ram_gb_data = {\"4 GB\":4,\"16 GB\":16,\"32 GB\":32,\"8 GB\":8}\n",
    "\n",
    "# hdd\n",
    "hdd = {\"0 GB\":0,\"1024 GB\":1024,\"512 GB\":512,\"2048 GB\":2048}\n",
    "\n",
    "# ssd\n",
    "ssd_data = {\"512 GB\":512,\"256 GB\":256,\"0 GB\":0,\"1024 GB\":1024,\"128 GB \":128,\n",
    "                  \"2048 GB\":2048,\"3072 GB\":2048,\"128 GB\":128}\n",
    "\n",
    "# Processor Name\n",
    "\n",
    "processor_name_data = {\"Core i5\":5,\"Core i3\":3,\"Core i9\":12,\n",
    "                            \"Ryzen 9\":8,\"Ryzen 3\":3,\"Ryzen 7\":7,\n",
    "                            \"Core i7\":7,\"Ryzen 5\":5,\"M1\":9,\"Celeron Dual\":2,\n",
    "                            \"Pentium Quad\":3}\n",
    "\n",
    "# Touchscreen\n",
    "Touchscreen_data = {\"Yes\":1,\"No\":0}\n",
    "os_data = {\"Windows\":1,\"DOS\":1,\"Mac\":2}\n",
    "\n",
    "processor_brand = {\"Intel\":1,\"AMD\":1,\"M1\":1.7}"
   ]
  },
  {
   "cell_type": "code",
   "execution_count": 47,
   "id": "ec4ff877",
   "metadata": {},
   "outputs": [],
   "source": [
    "A = {\"Touchscreen\":Touchscreen_data,\"os\":os_data ,\n",
    "     \"processor_brand\":processor_brand,\"processor_name\":processor_name_data , \"col\":col}"
   ]
  },
  {
   "cell_type": "code",
   "execution_count": 430,
   "id": "ada14796",
   "metadata": {},
   "outputs": [],
   "source": [
    "import json\n",
    "\n",
    "with open(\"pro_data.json\",\"w\") as L:\n",
    "    json.dump(A,L)"
   ]
  },
  {
   "cell_type": "code",
   "execution_count": 420,
   "id": "29c51ff4",
   "metadata": {},
   "outputs": [
    {
     "data": {
      "text/plain": [
       "(777, 24)"
      ]
     },
     "execution_count": 420,
     "metadata": {},
     "output_type": "execute_result"
    }
   ],
   "source": [
    "D.shape"
   ]
  },
  {
   "cell_type": "markdown",
   "id": "cafba6e4",
   "metadata": {},
   "source": [
    "### User Input"
   ]
  },
  {
   "cell_type": "code",
   "execution_count": 73,
   "id": "9d07fe06",
   "metadata": {},
   "outputs": [],
   "source": [
    "processor_brand = \"Intel\"\n",
    "processor_name = \"Core i3\"\n",
    "ram_gb = 4\n",
    "ssd = 0\n",
    "hdd = 512\n",
    "os = \"Windows\"\n",
    "graphic_card_gb = 4 \n",
    "Touchscreen = \"No\"\n",
    "brand = \"acer\"\n",
    "processor_gnrtn = \"7th\""
   ]
  },
  {
   "cell_type": "markdown",
   "id": "2073ee63",
   "metadata": {},
   "source": [
    "### utils.py"
   ]
  },
  {
   "cell_type": "code",
   "execution_count": 356,
   "id": "9874d787",
   "metadata": {},
   "outputs": [
    {
     "name": "stdout",
     "output_type": "stream",
     "text": [
      "[[  1.   5.   8.   0. 500.   1.   2.   0.   0.   0.   0.   1.   0.   0.\n",
      "    0.   0.   0.   0.   0.   1.   0.   0.   0.]]\n"
     ]
    },
    {
     "data": {
      "text/plain": [
       "56022.0"
      ]
     },
     "execution_count": 356,
     "metadata": {},
     "output_type": "execute_result"
    }
   ],
   "source": [
    "\n",
    "import warnings\n",
    "warnings.filterwarnings(\"ignore\")\n",
    "import pickle\n",
    "import json\n",
    "import numpy as np\n",
    "import pandas as pd\n",
    "\n",
    "class Laptop_Price():\n",
    "    def __init__(self,processor_brand,processor_name,ram_gb,ssd,hdd,os,graphic_card_gb,Touchscreen,brand,\n",
    "                 processor_gnrtn):\n",
    "               \n",
    "        self.processor_brand =  processor_brand\n",
    "        self.processor_name =  processor_name\n",
    "        self.ram_gb = ram_gb\n",
    "        self.ssd = ssd\n",
    "        self.hdd = hdd \n",
    "        self.os = os\n",
    "        self.graphic_card_gb = graphic_card_gb\n",
    "        self.Touchscreen = Touchscreen\n",
    "        self.brand = \"brand_\" + brand\n",
    "        self.processor_gnrtn = \"processor_gnrtn_\" + processor_gnrtn\n",
    "        \n",
    "    def load_data(self):\n",
    "        with open(\"model.pkl\",\"rb\") as r:\n",
    "            self.model = pickle.load(r)\n",
    "            \n",
    "        with open(\"pro_data.json\",\"r\") as e:\n",
    "            self.data = json.load(e)\n",
    "            \n",
    "    def lap_price(self):\n",
    "        self.load_data()\n",
    "               \n",
    "         \n",
    "        processor_gnrtn_index = self.data[\"col\"].index(self.processor_gnrtn)\n",
    "        brand_index = self.data[\"col\"].index(self.brand)\n",
    "       \n",
    "\n",
    "        array = np.zeros([1,len(self.data[\"col\"])])\n",
    "        \n",
    "        array[0][0] = self.data[\"processor_brand\"][self.processor_brand]\n",
    "        array[0][1] = self.data[\"processor_name\"][self.processor_name]\n",
    "        array[0][2] = self.ram_gb\n",
    "        array[0][3] = self.ssd\n",
    "        array[0][4] = self.hdd\n",
    "        array[0][5] = self.data[\"os\"][self.os]\n",
    "        array[0][6] = self.graphic_card_gb\n",
    "        array[0][7] = self.data[\"Touchscreen\"][self.Touchscreen]\n",
    "        \n",
    "        array[0,brand_index] = 1\n",
    "        array[0,processor_gnrtn_index] = 1\n",
    "            \n",
    "        print(array)\n",
    "        price = self.model.predict(array)[0].round()\n",
    "        return price\n",
    "    \n",
    "obj = Laptop_Price(\"Intel\",\"Core i5\",8,0,500,\"Windows\",2,\"No\",\"DELL\",\"4th\")\n",
    "obj.lap_price()"
   ]
  }
 ],
 "metadata": {
  "kernelspec": {
   "display_name": "Python 3 (ipykernel)",
   "language": "python",
   "name": "python3"
  },
  "language_info": {
   "codemirror_mode": {
    "name": "ipython",
    "version": 3
   },
   "file_extension": ".py",
   "mimetype": "text/x-python",
   "name": "python",
   "nbconvert_exporter": "python",
   "pygments_lexer": "ipython3",
   "version": "3.11.4"
  }
 },
 "nbformat": 4,
 "nbformat_minor": 5
}
