{
 "cells": [
  {
   "cell_type": "code",
   "execution_count": 102,
   "id": "414e858f",
   "metadata": {},
   "outputs": [],
   "source": [
    "import numpy as np\n",
    "import pandas as pd\n",
    "\n",
    "import warnings\n",
    "warnings.filterwarnings(\"ignore\")\n",
    "\n",
    "import seaborn as sns"
   ]
  },
  {
   "cell_type": "markdown",
   "id": "69156082",
   "metadata": {},
   "source": [
    "### 1. Problem Statement"
   ]
  },
  {
   "cell_type": "raw",
   "id": "f1a20c29",
   "metadata": {},
   "source": [
    "# laptop price Prediction\n",
    "\n",
    "on the basis of Various features:\n",
    "Input colum = RAM,ROM, Processor,Brand,SSD,Graphics_Card,MsOffice,TouchScreen\n",
    "target col = Laptop Price\n",
    "\n",
    "Labelled Data\n",
    "Supervised ML problem\n",
    "Linear Regression Algorithm"
   ]
  },
  {
   "cell_type": "raw",
   "id": "cfc1bea5",
   "metadata": {},
   "source": [
    "# No Correlation Columns \n",
    "\n",
    "1. Wight\n",
    "2. os_bit\n",
    "3. msoffice\n",
    "4. rating\n",
    "5. Number of Ratings\n",
    "6. Number of Reviews\n",
    "7. warrenty"
   ]
  },
  {
   "cell_type": "markdown",
   "id": "6cefe590",
   "metadata": {},
   "source": [
    "### 2 .Data Gathering"
   ]
  },
  {
   "cell_type": "code",
   "execution_count": 112,
   "id": "c71544af",
   "metadata": {},
   "outputs": [
    {
     "data": {
      "text/html": [
       "<div>\n",
       "<style scoped>\n",
       "    .dataframe tbody tr th:only-of-type {\n",
       "        vertical-align: middle;\n",
       "    }\n",
       "\n",
       "    .dataframe tbody tr th {\n",
       "        vertical-align: top;\n",
       "    }\n",
       "\n",
       "    .dataframe thead th {\n",
       "        text-align: right;\n",
       "    }\n",
       "</style>\n",
       "<table border=\"1\" class=\"dataframe\">\n",
       "  <thead>\n",
       "    <tr style=\"text-align: right;\">\n",
       "      <th></th>\n",
       "      <th>brand</th>\n",
       "      <th>processor_brand</th>\n",
       "      <th>processor_name</th>\n",
       "      <th>processor_gnrtn</th>\n",
       "      <th>ram_gb</th>\n",
       "      <th>ram_type</th>\n",
       "      <th>ssd</th>\n",
       "      <th>hdd</th>\n",
       "      <th>os</th>\n",
       "      <th>os_bit</th>\n",
       "      <th>graphic_card_gb</th>\n",
       "      <th>weight</th>\n",
       "      <th>Touchscreen</th>\n",
       "      <th>msoffice</th>\n",
       "      <th>Price</th>\n",
       "    </tr>\n",
       "  </thead>\n",
       "  <tbody>\n",
       "    <tr>\n",
       "      <th>666</th>\n",
       "      <td>MSI</td>\n",
       "      <td>AMD</td>\n",
       "      <td>Ryzen 5</td>\n",
       "      <td>Not Available</td>\n",
       "      <td>4 GB</td>\n",
       "      <td>DDR4</td>\n",
       "      <td>256 GB</td>\n",
       "      <td>0 GB</td>\n",
       "      <td>Windows</td>\n",
       "      <td>64-bit</td>\n",
       "      <td>0 GB</td>\n",
       "      <td>Casual</td>\n",
       "      <td>No</td>\n",
       "      <td>No</td>\n",
       "      <td>49990</td>\n",
       "    </tr>\n",
       "    <tr>\n",
       "      <th>617</th>\n",
       "      <td>APPLE</td>\n",
       "      <td>M1</td>\n",
       "      <td>M1</td>\n",
       "      <td>10th</td>\n",
       "      <td>8 GB</td>\n",
       "      <td>DDR4</td>\n",
       "      <td>1024 GB</td>\n",
       "      <td>0 GB</td>\n",
       "      <td>Mac</td>\n",
       "      <td>64-bit</td>\n",
       "      <td>0 GB</td>\n",
       "      <td>Casual</td>\n",
       "      <td>No</td>\n",
       "      <td>No</td>\n",
       "      <td>149990</td>\n",
       "    </tr>\n",
       "    <tr>\n",
       "      <th>487</th>\n",
       "      <td>MSI</td>\n",
       "      <td>Intel</td>\n",
       "      <td>Core i7</td>\n",
       "      <td>10th</td>\n",
       "      <td>16 GB</td>\n",
       "      <td>DDR4</td>\n",
       "      <td>512 GB</td>\n",
       "      <td>0 GB</td>\n",
       "      <td>Windows</td>\n",
       "      <td>64-bit</td>\n",
       "      <td>4 GB</td>\n",
       "      <td>Casual</td>\n",
       "      <td>No</td>\n",
       "      <td>No</td>\n",
       "      <td>79990</td>\n",
       "    </tr>\n",
       "    <tr>\n",
       "      <th>700</th>\n",
       "      <td>Lenovo</td>\n",
       "      <td>AMD</td>\n",
       "      <td>Ryzen 5</td>\n",
       "      <td>Not Available</td>\n",
       "      <td>4 GB</td>\n",
       "      <td>LPDDR4X</td>\n",
       "      <td>512 GB</td>\n",
       "      <td>0 GB</td>\n",
       "      <td>Windows</td>\n",
       "      <td>64-bit</td>\n",
       "      <td>0 GB</td>\n",
       "      <td>ThinNlight</td>\n",
       "      <td>Yes</td>\n",
       "      <td>Yes</td>\n",
       "      <td>74798</td>\n",
       "    </tr>\n",
       "    <tr>\n",
       "      <th>621</th>\n",
       "      <td>APPLE</td>\n",
       "      <td>M1</td>\n",
       "      <td>M1</td>\n",
       "      <td>10th</td>\n",
       "      <td>32 GB</td>\n",
       "      <td>DDR4</td>\n",
       "      <td>1024 GB</td>\n",
       "      <td>0 GB</td>\n",
       "      <td>Mac</td>\n",
       "      <td>64-bit</td>\n",
       "      <td>0 GB</td>\n",
       "      <td>Casual</td>\n",
       "      <td>No</td>\n",
       "      <td>No</td>\n",
       "      <td>309990</td>\n",
       "    </tr>\n",
       "  </tbody>\n",
       "</table>\n",
       "</div>"
      ],
      "text/plain": [
       "      brand processor_brand processor_name processor_gnrtn ram_gb ram_type  \\\n",
       "666     MSI             AMD        Ryzen 5   Not Available   4 GB     DDR4   \n",
       "617   APPLE              M1             M1            10th   8 GB     DDR4   \n",
       "487     MSI           Intel        Core i7            10th  16 GB     DDR4   \n",
       "700  Lenovo             AMD        Ryzen 5   Not Available   4 GB  LPDDR4X   \n",
       "621   APPLE              M1             M1            10th  32 GB     DDR4   \n",
       "\n",
       "         ssd   hdd       os  os_bit graphic_card_gb      weight Touchscreen  \\\n",
       "666   256 GB  0 GB  Windows  64-bit            0 GB      Casual          No   \n",
       "617  1024 GB  0 GB      Mac  64-bit            0 GB      Casual          No   \n",
       "487   512 GB  0 GB  Windows  64-bit            4 GB      Casual          No   \n",
       "700   512 GB  0 GB  Windows  64-bit            0 GB  ThinNlight         Yes   \n",
       "621  1024 GB  0 GB      Mac  64-bit            0 GB      Casual          No   \n",
       "\n",
       "    msoffice   Price  \n",
       "666       No   49990  \n",
       "617       No  149990  \n",
       "487       No   79990  \n",
       "700      Yes   74798  \n",
       "621       No  309990  "
      ]
     },
     "execution_count": 112,
     "metadata": {},
     "output_type": "execute_result"
    }
   ],
   "source": [
    "# csv file\n",
    "\n",
    "df = pd.read_csv(\"Laptop.csv\",index_col=[\"Unnamed: 0\"],)\n",
    "df.reset_index(drop = True)\n",
    "df.sample(5)"
   ]
  },
  {
   "cell_type": "markdown",
   "id": "3c6518a6",
   "metadata": {},
   "source": [
    "### 3. Data Understanding"
   ]
  },
  {
   "cell_type": "code",
   "execution_count": 113,
   "id": "86f14e00",
   "metadata": {},
   "outputs": [
    {
     "data": {
      "text/plain": [
       "(823, 15)"
      ]
     },
     "execution_count": 113,
     "metadata": {},
     "output_type": "execute_result"
    }
   ],
   "source": [
    "df.sample(2)            # How data Looks\n",
    "df.isna().sum()         # NaN\n",
    "df.T.duplicated().sum() # col\n",
    "df.duplicated().sum()   #rows\n",
    "df.shape                "
   ]
  },
  {
   "cell_type": "code",
   "execution_count": 114,
   "id": "f7483508",
   "metadata": {},
   "outputs": [
    {
     "data": {
      "text/plain": [
       "(785, 15)"
      ]
     },
     "execution_count": 114,
     "metadata": {},
     "output_type": "execute_result"
    }
   ],
   "source": [
    "#Remove duplicate Rows\n",
    "\n",
    "df = df.drop_duplicates()\n",
    "df.shape"
   ]
  },
  {
   "cell_type": "markdown",
   "id": "c0cce1aa",
   "metadata": {},
   "source": [
    "### EDA"
   ]
  },
  {
   "cell_type": "markdown",
   "id": "aa522271",
   "metadata": {},
   "source": [
    "#### Relation Of Independent col with Target col"
   ]
  },
  {
   "cell_type": "code",
   "execution_count": 117,
   "id": "76571f8b",
   "metadata": {},
   "outputs": [],
   "source": [
    "#sns.barplot(x = df[\"ram_type\"] ,y =df[\"Price\"])\n",
    "#sns.barplot(x = df[\"os\"] ,y =df[\"Price\"])"
   ]
  },
  {
   "cell_type": "code",
   "execution_count": null,
   "id": "60895ae1",
   "metadata": {},
   "outputs": [],
   "source": []
  },
  {
   "cell_type": "code",
   "execution_count": 118,
   "id": "43e32861",
   "metadata": {},
   "outputs": [
    {
     "data": {
      "text/plain": [
       "<Axes: xlabel='brand', ylabel='Price'>"
      ]
     },
     "execution_count": 118,
     "metadata": {},
     "output_type": "execute_result"
    },
    {
     "data": {
      "image/png": "[encoded data removed]",
      "text/plain": [
       "<Figure size 640x480 with 1 Axes>"
      ]
     },
     "metadata": {},
     "output_type": "display_data"
    }
   ],
   "source": [
    "sns.barplot(x = df[\"brand\"] ,y =df[\"Price\"])"
   ]
  },
  {
   "cell_type": "code",
   "execution_count": 119,
   "id": "e462b338",
   "metadata": {},
   "outputs": [
    {
     "data": {
      "text/plain": [
       "<Axes: xlabel='Touchscreen', ylabel='Price'>"
      ]
     },
     "execution_count": 119,
     "metadata": {},
     "output_type": "execute_result"
    },
    {
     "data": {
      "image/png": "[encoded data removed]",
      "text/plain": [
       "<Figure size 640x480 with 1 Axes>"
      ]
     },
     "metadata": {},
     "output_type": "display_data"
    }
   ],
   "source": [
    "sns.barplot(x = df[\"Touchscreen\"] ,y =df[\"Price\"])"
   ]
  },
  {
   "cell_type": "code",
   "execution_count": 15,
   "id": "47cb3345",
   "metadata": {},
   "outputs": [],
   "source": [
    "# sns.barplot(x = df[\"warranty\"] ,y =df[\"Price\"])\n",
    "# df[\"warranty\"].value_counts()"
   ]
  },
  {
   "cell_type": "code",
   "execution_count": 120,
   "id": "ce62589d",
   "metadata": {},
   "outputs": [
    {
     "data": {
      "text/plain": [
       "<Axes: xlabel='processor_name', ylabel='Price'>"
      ]
     },
     "execution_count": 120,
     "metadata": {},
     "output_type": "execute_result"
    },
    {
     "data": {
      "image/png": "[encoded data removed]",
      "text/plain": [
       "<Figure size 640x480 with 1 Axes>"
      ]
     },
     "metadata": {},
     "output_type": "display_data"
    }
   ],
   "source": [
    "sns.barplot(x = df[\"processor_name\"] ,y =df[\"Price\"])"
   ]
  },
  {
   "cell_type": "code",
   "execution_count": 121,
   "id": "ce4cd41f",
   "metadata": {},
   "outputs": [
    {
     "data": {
      "text/plain": [
       "<Axes: xlabel='processor_gnrtn', ylabel='Price'>"
      ]
     },
     "execution_count": 121,
     "metadata": {},
     "output_type": "execute_result"
    },
    {
     "data": {
      "image/png": "[encoded data removed]",
      "text/plain": [
       "<Figure size 640x480 with 1 Axes>"
      ]
     },
     "metadata": {},
     "output_type": "display_data"
    }
   ],
   "source": [
    "sns.barplot(x = df[\"processor_gnrtn\"] ,y =df[\"Price\"])"
   ]
  },
  {
   "cell_type": "code",
   "execution_count": 122,
   "id": "4bc5da39",
   "metadata": {},
   "outputs": [
    {
     "data": {
      "text/plain": [
       "<Axes: xlabel='os_bit', ylabel='Price'>"
      ]
     },
     "execution_count": 122,
     "metadata": {},
     "output_type": "execute_result"
    },
    {
     "data": {
      "image/png": "[encoded data removed]",
      "text/plain": [
       "<Figure size 640x480 with 1 Axes>"
      ]
     },
     "metadata": {},
     "output_type": "display_data"
    }
   ],
   "source": [
    "sns.barplot(x = df[\"os_bit\"] ,y =df[\"Price\"])"
   ]
  },
  {
   "cell_type": "code",
   "execution_count": 123,
   "id": "cdfe01bd",
   "metadata": {},
   "outputs": [
    {
     "data": {
      "text/plain": [
       "<Axes: xlabel='weight', ylabel='Price'>"
      ]
     },
     "execution_count": 123,
     "metadata": {},
     "output_type": "execute_result"
    },
    {
     "data": {
      "image/png": "[encoded data removed]",
      "text/plain": [
       "<Figure size 640x480 with 1 Axes>"
      ]
     },
     "metadata": {},
     "output_type": "display_data"
    }
   ],
   "source": [
    "#sns.barplot(x = df[\"msoffice\"] ,y =df[\"Price\"])\n",
    "sns.barplot(x = df[\"weight\"] ,y =df[\"Price\"])"
   ]
  },
  {
   "cell_type": "code",
   "execution_count": 124,
   "id": "c49b90a8",
   "metadata": {},
   "outputs": [
    {
     "data": {
      "text/html": [
       "<div>\n",
       "<style scoped>\n",
       "    .dataframe tbody tr th:only-of-type {\n",
       "        vertical-align: middle;\n",
       "    }\n",
       "\n",
       "    .dataframe tbody tr th {\n",
       "        vertical-align: top;\n",
       "    }\n",
       "\n",
       "    .dataframe thead th {\n",
       "        text-align: right;\n",
       "    }\n",
       "</style>\n",
       "<table border=\"1\" class=\"dataframe\">\n",
       "  <thead>\n",
       "    <tr style=\"text-align: right;\">\n",
       "      <th></th>\n",
       "      <th>brand</th>\n",
       "      <th>processor_brand</th>\n",
       "      <th>processor_name</th>\n",
       "      <th>processor_gnrtn</th>\n",
       "      <th>ram_gb</th>\n",
       "      <th>ram_type</th>\n",
       "      <th>ssd</th>\n",
       "      <th>hdd</th>\n",
       "      <th>os</th>\n",
       "      <th>os_bit</th>\n",
       "      <th>graphic_card_gb</th>\n",
       "      <th>weight</th>\n",
       "      <th>Touchscreen</th>\n",
       "      <th>msoffice</th>\n",
       "      <th>Price</th>\n",
       "    </tr>\n",
       "  </thead>\n",
       "  <tbody>\n",
       "    <tr>\n",
       "      <th>7</th>\n",
       "      <td>ASUS</td>\n",
       "      <td>Intel</td>\n",
       "      <td>Core i5</td>\n",
       "      <td>10th</td>\n",
       "      <td>8 GB</td>\n",
       "      <td>DDR4</td>\n",
       "      <td>0 GB</td>\n",
       "      <td>1024 GB</td>\n",
       "      <td>Windows</td>\n",
       "      <td>32-bit</td>\n",
       "      <td>2 GB</td>\n",
       "      <td>Casual</td>\n",
       "      <td>No</td>\n",
       "      <td>No</td>\n",
       "      <td>58799</td>\n",
       "    </tr>\n",
       "    <tr>\n",
       "      <th>339</th>\n",
       "      <td>ASUS</td>\n",
       "      <td>Intel</td>\n",
       "      <td>Core i5</td>\n",
       "      <td>11th</td>\n",
       "      <td>8 GB</td>\n",
       "      <td>LPDDR4X</td>\n",
       "      <td>512 GB</td>\n",
       "      <td>0 GB</td>\n",
       "      <td>Windows</td>\n",
       "      <td>64-bit</td>\n",
       "      <td>0 GB</td>\n",
       "      <td>Casual</td>\n",
       "      <td>Yes</td>\n",
       "      <td>No</td>\n",
       "      <td>99990</td>\n",
       "    </tr>\n",
       "  </tbody>\n",
       "</table>\n",
       "</div>"
      ],
      "text/plain": [
       "    brand processor_brand processor_name processor_gnrtn ram_gb ram_type  \\\n",
       "7    ASUS           Intel        Core i5            10th   8 GB     DDR4   \n",
       "339  ASUS           Intel        Core i5            11th   8 GB  LPDDR4X   \n",
       "\n",
       "        ssd      hdd       os  os_bit graphic_card_gb  weight Touchscreen  \\\n",
       "7      0 GB  1024 GB  Windows  32-bit            2 GB  Casual          No   \n",
       "339  512 GB     0 GB  Windows  64-bit            0 GB  Casual         Yes   \n",
       "\n",
       "    msoffice  Price  \n",
       "7         No  58799  \n",
       "339       No  99990  "
      ]
     },
     "execution_count": 124,
     "metadata": {},
     "output_type": "execute_result"
    }
   ],
   "source": [
    "df.sample(2)"
   ]
  },
  {
   "cell_type": "markdown",
   "id": "8a1bfd2f",
   "metadata": {},
   "source": [
    "### Feature Engineering"
   ]
  },
  {
   "cell_type": "raw",
   "id": "592bc9b5",
   "metadata": {},
   "source": [
    "from EDA >> col which not strong correlation with Target col (Price)\n",
    "\n",
    "1. os_bit \n",
    "2. Warranty \n",
    "3. msoffice"
   ]
  },
  {
   "cell_type": "code",
   "execution_count": 134,
   "id": "510effaa",
   "metadata": {
    "scrolled": true
   },
   "outputs": [],
   "source": [
    "#Drop Columns\n",
    "\n",
    "df.drop([\"os_bit\",\"msoffice\"],axis=1,inplace=True)\n",
    "df.drop([\"weight\"],axis=1,inplace=True)\n",
    "df.drop([\"os\"],axis=1,inplace=True)\n",
    "df.drop([\"ram_type\"],axis=1,inplace=True)"
   ]
  },
  {
   "cell_type": "code",
   "execution_count": null,
   "id": "f6806df7",
   "metadata": {},
   "outputs": [],
   "source": []
  },
  {
   "cell_type": "code",
   "execution_count": 126,
   "id": "770ed54e",
   "metadata": {},
   "outputs": [
    {
     "data": {
      "text/plain": [
       "processor_gnrtn\n",
       "11th    537\n",
       "10th    196\n",
       "8th      35\n",
       "7th       7\n",
       "9th       6\n",
       "12th      3\n",
       "4th       1\n",
       "Name: count, dtype: int64"
      ]
     },
     "execution_count": 126,
     "metadata": {},
     "output_type": "execute_result"
    }
   ],
   "source": [
    "df[\"processor_gnrtn\"].mode()[0]\n",
    "df[\"processor_gnrtn\"].replace({\"Not Available\":df[\"processor_gnrtn\"].mode()[0]},inplace=True)\n",
    "df[\"processor_gnrtn\"].value_counts()\n",
    "df[\"processor_gnrtn\"].value_counts()"
   ]
  },
  {
   "cell_type": "code",
   "execution_count": 130,
   "id": "ccb4e50a",
   "metadata": {},
   "outputs": [
    {
     "data": {
      "text/html": [
       "<div>\n",
       "<style scoped>\n",
       "    .dataframe tbody tr th:only-of-type {\n",
       "        vertical-align: middle;\n",
       "    }\n",
       "\n",
       "    .dataframe tbody tr th {\n",
       "        vertical-align: top;\n",
       "    }\n",
       "\n",
       "    .dataframe thead th {\n",
       "        text-align: right;\n",
       "    }\n",
       "</style>\n",
       "<table border=\"1\" class=\"dataframe\">\n",
       "  <thead>\n",
       "    <tr style=\"text-align: right;\">\n",
       "      <th></th>\n",
       "      <th>brand</th>\n",
       "      <th>processor_brand</th>\n",
       "      <th>processor_name</th>\n",
       "      <th>processor_gnrtn</th>\n",
       "      <th>ram_gb</th>\n",
       "      <th>ram_type</th>\n",
       "      <th>ssd</th>\n",
       "      <th>hdd</th>\n",
       "      <th>graphic_card_gb</th>\n",
       "      <th>Touchscreen</th>\n",
       "      <th>Price</th>\n",
       "    </tr>\n",
       "  </thead>\n",
       "  <tbody>\n",
       "    <tr>\n",
       "      <th>25</th>\n",
       "      <td>Lenovo</td>\n",
       "      <td>Intel</td>\n",
       "      <td>Core i3</td>\n",
       "      <td>10th</td>\n",
       "      <td>8 GB</td>\n",
       "      <td>DDR4</td>\n",
       "      <td>256 GB</td>\n",
       "      <td>0 GB</td>\n",
       "      <td>0 GB</td>\n",
       "      <td>No</td>\n",
       "      <td>37990</td>\n",
       "    </tr>\n",
       "    <tr>\n",
       "      <th>164</th>\n",
       "      <td>DELL</td>\n",
       "      <td>Intel</td>\n",
       "      <td>Core i3</td>\n",
       "      <td>11th</td>\n",
       "      <td>8 GB</td>\n",
       "      <td>DDR4</td>\n",
       "      <td>0 GB</td>\n",
       "      <td>1024 GB</td>\n",
       "      <td>0 GB</td>\n",
       "      <td>No</td>\n",
       "      <td>41480</td>\n",
       "    </tr>\n",
       "    <tr>\n",
       "      <th>207</th>\n",
       "      <td>acer</td>\n",
       "      <td>Intel</td>\n",
       "      <td>Core i5</td>\n",
       "      <td>7th</td>\n",
       "      <td>8 GB</td>\n",
       "      <td>DDR3</td>\n",
       "      <td>256 GB</td>\n",
       "      <td>0 GB</td>\n",
       "      <td>0 GB</td>\n",
       "      <td>No</td>\n",
       "      <td>86867</td>\n",
       "    </tr>\n",
       "    <tr>\n",
       "      <th>16</th>\n",
       "      <td>HP</td>\n",
       "      <td>Intel</td>\n",
       "      <td>Core i5</td>\n",
       "      <td>11th</td>\n",
       "      <td>8 GB</td>\n",
       "      <td>DDR4</td>\n",
       "      <td>256 GB</td>\n",
       "      <td>0 GB</td>\n",
       "      <td>0 GB</td>\n",
       "      <td>No</td>\n",
       "      <td>65390</td>\n",
       "    </tr>\n",
       "    <tr>\n",
       "      <th>300</th>\n",
       "      <td>DELL</td>\n",
       "      <td>Intel</td>\n",
       "      <td>Core i5</td>\n",
       "      <td>11th</td>\n",
       "      <td>8 GB</td>\n",
       "      <td>DDR4</td>\n",
       "      <td>512 GB</td>\n",
       "      <td>0 GB</td>\n",
       "      <td>0 GB</td>\n",
       "      <td>No</td>\n",
       "      <td>71090</td>\n",
       "    </tr>\n",
       "  </tbody>\n",
       "</table>\n",
       "</div>"
      ],
      "text/plain": [
       "      brand processor_brand processor_name processor_gnrtn ram_gb ram_type  \\\n",
       "25   Lenovo           Intel        Core i3            10th   8 GB     DDR4   \n",
       "164    DELL           Intel        Core i3            11th   8 GB     DDR4   \n",
       "207    acer           Intel        Core i5             7th   8 GB     DDR3   \n",
       "16       HP           Intel        Core i5            11th   8 GB     DDR4   \n",
       "300    DELL           Intel        Core i5            11th   8 GB     DDR4   \n",
       "\n",
       "        ssd      hdd graphic_card_gb Touchscreen  Price  \n",
       "25   256 GB     0 GB            0 GB          No  37990  \n",
       "164    0 GB  1024 GB            0 GB          No  41480  \n",
       "207  256 GB     0 GB            0 GB          No  86867  \n",
       "16   256 GB     0 GB            0 GB          No  65390  \n",
       "300  512 GB     0 GB            0 GB          No  71090  "
      ]
     },
     "execution_count": 130,
     "metadata": {},
     "output_type": "execute_result"
    }
   ],
   "source": [
    "df.sample(5)"
   ]
  },
  {
   "cell_type": "code",
   "execution_count": 197,
   "id": "66779f07",
   "metadata": {},
   "outputs": [
    {
     "data": {
      "text/html": [
       "<div>\n",
       "<style scoped>\n",
       "    .dataframe tbody tr th:only-of-type {\n",
       "        vertical-align: middle;\n",
       "    }\n",
       "\n",
       "    .dataframe tbody tr th {\n",
       "        vertical-align: top;\n",
       "    }\n",
       "\n",
       "    .dataframe thead th {\n",
       "        text-align: right;\n",
       "    }\n",
       "</style>\n",
       "<table border=\"1\" class=\"dataframe\">\n",
       "  <thead>\n",
       "    <tr style=\"text-align: right;\">\n",
       "      <th></th>\n",
       "      <th>brand</th>\n",
       "      <th>processor_brand</th>\n",
       "      <th>processor_name</th>\n",
       "      <th>processor_gnrtn</th>\n",
       "      <th>ram_gb</th>\n",
       "      <th>ssd</th>\n",
       "      <th>hdd</th>\n",
       "      <th>graphic_card_gb</th>\n",
       "      <th>Touchscreen</th>\n",
       "      <th>Price</th>\n",
       "    </tr>\n",
       "  </thead>\n",
       "  <tbody>\n",
       "    <tr>\n",
       "      <th>550</th>\n",
       "      <td>Lenovo</td>\n",
       "      <td>Intel</td>\n",
       "      <td>Core i7</td>\n",
       "      <td>11th</td>\n",
       "      <td>16</td>\n",
       "      <td>1024</td>\n",
       "      <td>0</td>\n",
       "      <td>6</td>\n",
       "      <td>0</td>\n",
       "      <td>151098</td>\n",
       "    </tr>\n",
       "    <tr>\n",
       "      <th>610</th>\n",
       "      <td>APPLE</td>\n",
       "      <td>M1</td>\n",
       "      <td>M1</td>\n",
       "      <td>10th</td>\n",
       "      <td>8</td>\n",
       "      <td>512</td>\n",
       "      <td>0</td>\n",
       "      <td>0</td>\n",
       "      <td>0</td>\n",
       "      <td>104990</td>\n",
       "    </tr>\n",
       "    <tr>\n",
       "      <th>354</th>\n",
       "      <td>DELL</td>\n",
       "      <td>Intel</td>\n",
       "      <td>Core i5</td>\n",
       "      <td>10th</td>\n",
       "      <td>8</td>\n",
       "      <td>512</td>\n",
       "      <td>0</td>\n",
       "      <td>4</td>\n",
       "      <td>0</td>\n",
       "      <td>79990</td>\n",
       "    </tr>\n",
       "    <tr>\n",
       "      <th>37</th>\n",
       "      <td>ASUS</td>\n",
       "      <td>Intel</td>\n",
       "      <td>Core i3</td>\n",
       "      <td>11th</td>\n",
       "      <td>8</td>\n",
       "      <td>256</td>\n",
       "      <td>0</td>\n",
       "      <td>0</td>\n",
       "      <td>0</td>\n",
       "      <td>45990</td>\n",
       "    </tr>\n",
       "    <tr>\n",
       "      <th>679</th>\n",
       "      <td>DELL</td>\n",
       "      <td>AMD</td>\n",
       "      <td>Ryzen 5</td>\n",
       "      <td>11th</td>\n",
       "      <td>8</td>\n",
       "      <td>512</td>\n",
       "      <td>0</td>\n",
       "      <td>0</td>\n",
       "      <td>0</td>\n",
       "      <td>47490</td>\n",
       "    </tr>\n",
       "  </tbody>\n",
       "</table>\n",
       "</div>"
      ],
      "text/plain": [
       "      brand processor_brand processor_name processor_gnrtn  ram_gb   ssd  hdd  \\\n",
       "550  Lenovo           Intel        Core i7            11th      16  1024    0   \n",
       "610   APPLE              M1             M1            10th       8   512    0   \n",
       "354    DELL           Intel        Core i5            10th       8   512    0   \n",
       "37     ASUS           Intel        Core i3            11th       8   256    0   \n",
       "679    DELL             AMD        Ryzen 5            11th       8   512    0   \n",
       "\n",
       "     graphic_card_gb  Touchscreen   Price  \n",
       "550                6            0  151098  \n",
       "610                0            0  104990  \n",
       "354                4            0   79990  \n",
       "37                 0            0   45990  \n",
       "679                0            0   47490  "
      ]
     },
     "execution_count": 197,
     "metadata": {},
     "output_type": "execute_result"
    }
   ],
   "source": [
    "D = df\n",
    "D.sample(5)"
   ]
  },
  {
   "cell_type": "code",
   "execution_count": 204,
   "id": "3f064bab",
   "metadata": {},
   "outputs": [
    {
     "data": {
      "text/html": [
       "<div>\n",
       "<style scoped>\n",
       "    .dataframe tbody tr th:only-of-type {\n",
       "        vertical-align: middle;\n",
       "    }\n",
       "\n",
       "    .dataframe tbody tr th {\n",
       "        vertical-align: top;\n",
       "    }\n",
       "\n",
       "    .dataframe thead th {\n",
       "        text-align: right;\n",
       "    }\n",
       "</style>\n",
       "<table border=\"1\" class=\"dataframe\">\n",
       "  <thead>\n",
       "    <tr style=\"text-align: right;\">\n",
       "      <th></th>\n",
       "      <th>processor_name</th>\n",
       "    </tr>\n",
       "  </thead>\n",
       "  <tbody>\n",
       "    <tr>\n",
       "      <th>0</th>\n",
       "      <td>Core i3</td>\n",
       "    </tr>\n",
       "    <tr>\n",
       "      <th>1</th>\n",
       "      <td>Core i3</td>\n",
       "    </tr>\n",
       "    <tr>\n",
       "      <th>2</th>\n",
       "      <td>Core i3</td>\n",
       "    </tr>\n",
       "    <tr>\n",
       "      <th>3</th>\n",
       "      <td>Core i5</td>\n",
       "    </tr>\n",
       "    <tr>\n",
       "      <th>4</th>\n",
       "      <td>Celeron Dual</td>\n",
       "    </tr>\n",
       "    <tr>\n",
       "      <th>...</th>\n",
       "      <td>...</td>\n",
       "    </tr>\n",
       "    <tr>\n",
       "      <th>818</th>\n",
       "      <td>Ryzen 9</td>\n",
       "    </tr>\n",
       "    <tr>\n",
       "      <th>819</th>\n",
       "      <td>Ryzen 9</td>\n",
       "    </tr>\n",
       "    <tr>\n",
       "      <th>820</th>\n",
       "      <td>Ryzen 9</td>\n",
       "    </tr>\n",
       "    <tr>\n",
       "      <th>821</th>\n",
       "      <td>Ryzen 9</td>\n",
       "    </tr>\n",
       "    <tr>\n",
       "      <th>822</th>\n",
       "      <td>Ryzen 5</td>\n",
       "    </tr>\n",
       "  </tbody>\n",
       "</table>\n",
       "<p>785 rows × 1 columns</p>\n",
       "</div>"
      ],
      "text/plain": [
       "    processor_name\n",
       "0          Core i3\n",
       "1          Core i3\n",
       "2          Core i3\n",
       "3          Core i5\n",
       "4     Celeron Dual\n",
       "..             ...\n",
       "818        Ryzen 9\n",
       "819        Ryzen 9\n",
       "820        Ryzen 9\n",
       "821        Ryzen 9\n",
       "822        Ryzen 5\n",
       "\n",
       "[785 rows x 1 columns]"
      ]
     },
     "execution_count": 204,
     "metadata": {},
     "output_type": "execute_result"
    }
   ],
   "source": [
    "D.loc[:,[\"processor_name\"]].isin(D[\"M1\"])"
   ]
  },
  {
   "cell_type": "markdown",
   "id": "b8270bb8",
   "metadata": {},
   "source": [
    "#### Label Encoding"
   ]
  },
  {
   "cell_type": "code",
   "execution_count": 207,
   "id": "e08a20d6",
   "metadata": {},
   "outputs": [],
   "source": [
    "# graphic_card_gb\n",
    "D[\"graphic_card_gb\"].value_counts()\n",
    "D[\"graphic_card_gb\"].replace({\"0 GB\":0,\"4 GB\":4,\"2 GB\":2,\"6 GB\":6,\"8 GB\":8},inplace=True)\n",
    "\n",
    "# ram_gb\n",
    "D[\"ram_gb\"].value_counts()\n",
    "D[\"ram_gb\"].replace({\"4 GB\":4,\"16 GB\":16,\"32 GB\":32,\"8 GB\":8},inplace=True)\n",
    "\n",
    "# hdd\n",
    "D[\"hdd\"].value_counts()\n",
    "D[\"hdd\"].replace({\"0 GB\":0,\"1024 GB\":1024,\"512 GB\":512,\"2048 GB\":2048},inplace=True)\n",
    "\n",
    "# ssd\n",
    "D[\"ssd\"].value_counts()\n",
    "D[\"ssd\"].replace({\"512 GB\":512,\"256 GB\":256,\"0 GB\":0,\"1024 GB\":1024,\"128 GB \":128,\n",
    "                  \"2048 GB\":2048,\"3072 GB\":2048,\"128 GB\":128},inplace=True)\n",
    "\n",
    "# Touchscreen\n",
    "D[\"Touchscreen\"].value_counts()\n",
    "D[\"Touchscreen\"].replace({\"Yes\":1,\"No\":0},inplace=True)\n",
    "\n"
   ]
  },
  {
   "cell_type": "code",
   "execution_count": 208,
   "id": "e95467e8",
   "metadata": {},
   "outputs": [
    {
     "data": {
      "text/plain": [
       "processor_gnrtn\n",
       "11th    537\n",
       "10th    196\n",
       "8th      35\n",
       "7th       7\n",
       "9th       6\n",
       "12th      3\n",
       "4th       1\n",
       "Name: count, dtype: int64"
      ]
     },
     "execution_count": 208,
     "metadata": {},
     "output_type": "execute_result"
    }
   ],
   "source": [
    "D.sample(5)\n",
    "D[\"processor_gnrtn\"].value_counts()"
   ]
  },
  {
   "cell_type": "code",
   "execution_count": 136,
   "id": "46160b97",
   "metadata": {},
   "outputs": [
    {
     "data": {
      "text/plain": [
       "(785, 10)"
      ]
     },
     "execution_count": 136,
     "metadata": {},
     "output_type": "execute_result"
    }
   ],
   "source": [
    "D.shape"
   ]
  },
  {
   "cell_type": "code",
   "execution_count": 209,
   "id": "70dad5f8",
   "metadata": {},
   "outputs": [],
   "source": [
    "# Remove Duplicates\n",
    "\n",
    "D.duplicated().sum()  # 22\n",
    "D = D.drop_duplicates()"
   ]
  },
  {
   "cell_type": "code",
   "execution_count": 215,
   "id": "d43bc6cc",
   "metadata": {},
   "outputs": [
    {
     "data": {
      "text/html": [
       "<div>\n",
       "<style scoped>\n",
       "    .dataframe tbody tr th:only-of-type {\n",
       "        vertical-align: middle;\n",
       "    }\n",
       "\n",
       "    .dataframe tbody tr th {\n",
       "        vertical-align: top;\n",
       "    }\n",
       "\n",
       "    .dataframe thead th {\n",
       "        text-align: right;\n",
       "    }\n",
       "</style>\n",
       "<table border=\"1\" class=\"dataframe\">\n",
       "  <thead>\n",
       "    <tr style=\"text-align: right;\">\n",
       "      <th></th>\n",
       "      <th>brand</th>\n",
       "      <th>processor_brand</th>\n",
       "      <th>processor_name</th>\n",
       "      <th>processor_gnrtn</th>\n",
       "      <th>ram_gb</th>\n",
       "      <th>ssd</th>\n",
       "      <th>hdd</th>\n",
       "      <th>graphic_card_gb</th>\n",
       "      <th>Touchscreen</th>\n",
       "      <th>Price</th>\n",
       "    </tr>\n",
       "  </thead>\n",
       "  <tbody>\n",
       "    <tr>\n",
       "      <th>0</th>\n",
       "      <td>ASUS</td>\n",
       "      <td>Intel</td>\n",
       "      <td>Core i3</td>\n",
       "      <td>10th</td>\n",
       "      <td>4</td>\n",
       "      <td>0</td>\n",
       "      <td>1024</td>\n",
       "      <td>0</td>\n",
       "      <td>0</td>\n",
       "      <td>34649</td>\n",
       "    </tr>\n",
       "    <tr>\n",
       "      <th>1</th>\n",
       "      <td>Lenovo</td>\n",
       "      <td>Intel</td>\n",
       "      <td>Core i3</td>\n",
       "      <td>10th</td>\n",
       "      <td>4</td>\n",
       "      <td>0</td>\n",
       "      <td>1024</td>\n",
       "      <td>0</td>\n",
       "      <td>0</td>\n",
       "      <td>38999</td>\n",
       "    </tr>\n",
       "    <tr>\n",
       "      <th>2</th>\n",
       "      <td>Lenovo</td>\n",
       "      <td>Intel</td>\n",
       "      <td>Core i3</td>\n",
       "      <td>10th</td>\n",
       "      <td>4</td>\n",
       "      <td>0</td>\n",
       "      <td>1024</td>\n",
       "      <td>0</td>\n",
       "      <td>0</td>\n",
       "      <td>39999</td>\n",
       "    </tr>\n",
       "    <tr>\n",
       "      <th>3</th>\n",
       "      <td>ASUS</td>\n",
       "      <td>Intel</td>\n",
       "      <td>Core i5</td>\n",
       "      <td>10th</td>\n",
       "      <td>8</td>\n",
       "      <td>512</td>\n",
       "      <td>0</td>\n",
       "      <td>2</td>\n",
       "      <td>0</td>\n",
       "      <td>69990</td>\n",
       "    </tr>\n",
       "    <tr>\n",
       "      <th>4</th>\n",
       "      <td>ASUS</td>\n",
       "      <td>Intel</td>\n",
       "      <td>Celeron Dual</td>\n",
       "      <td>11th</td>\n",
       "      <td>4</td>\n",
       "      <td>0</td>\n",
       "      <td>512</td>\n",
       "      <td>0</td>\n",
       "      <td>0</td>\n",
       "      <td>26990</td>\n",
       "    </tr>\n",
       "    <tr>\n",
       "      <th>...</th>\n",
       "      <td>...</td>\n",
       "      <td>...</td>\n",
       "      <td>...</td>\n",
       "      <td>...</td>\n",
       "      <td>...</td>\n",
       "      <td>...</td>\n",
       "      <td>...</td>\n",
       "      <td>...</td>\n",
       "      <td>...</td>\n",
       "      <td>...</td>\n",
       "    </tr>\n",
       "    <tr>\n",
       "      <th>757</th>\n",
       "      <td>ASUS</td>\n",
       "      <td>AMD</td>\n",
       "      <td>Ryzen 9</td>\n",
       "      <td>11th</td>\n",
       "      <td>4</td>\n",
       "      <td>1024</td>\n",
       "      <td>0</td>\n",
       "      <td>0</td>\n",
       "      <td>0</td>\n",
       "      <td>135990</td>\n",
       "    </tr>\n",
       "    <tr>\n",
       "      <th>758</th>\n",
       "      <td>ASUS</td>\n",
       "      <td>AMD</td>\n",
       "      <td>Ryzen 9</td>\n",
       "      <td>11th</td>\n",
       "      <td>4</td>\n",
       "      <td>1024</td>\n",
       "      <td>0</td>\n",
       "      <td>0</td>\n",
       "      <td>0</td>\n",
       "      <td>144990</td>\n",
       "    </tr>\n",
       "    <tr>\n",
       "      <th>759</th>\n",
       "      <td>ASUS</td>\n",
       "      <td>AMD</td>\n",
       "      <td>Ryzen 9</td>\n",
       "      <td>11th</td>\n",
       "      <td>4</td>\n",
       "      <td>1024</td>\n",
       "      <td>0</td>\n",
       "      <td>4</td>\n",
       "      <td>0</td>\n",
       "      <td>149990</td>\n",
       "    </tr>\n",
       "    <tr>\n",
       "      <th>760</th>\n",
       "      <td>ASUS</td>\n",
       "      <td>AMD</td>\n",
       "      <td>Ryzen 9</td>\n",
       "      <td>11th</td>\n",
       "      <td>4</td>\n",
       "      <td>1024</td>\n",
       "      <td>0</td>\n",
       "      <td>4</td>\n",
       "      <td>0</td>\n",
       "      <td>142990</td>\n",
       "    </tr>\n",
       "    <tr>\n",
       "      <th>761</th>\n",
       "      <td>Lenovo</td>\n",
       "      <td>AMD</td>\n",
       "      <td>Ryzen 5</td>\n",
       "      <td>10th</td>\n",
       "      <td>8</td>\n",
       "      <td>512</td>\n",
       "      <td>0</td>\n",
       "      <td>0</td>\n",
       "      <td>0</td>\n",
       "      <td>57490</td>\n",
       "    </tr>\n",
       "  </tbody>\n",
       "</table>\n",
       "<p>762 rows × 10 columns</p>\n",
       "</div>"
      ],
      "text/plain": [
       "      brand processor_brand processor_name processor_gnrtn  ram_gb   ssd  \\\n",
       "0      ASUS           Intel        Core i3            10th       4     0   \n",
       "1    Lenovo           Intel        Core i3            10th       4     0   \n",
       "2    Lenovo           Intel        Core i3            10th       4     0   \n",
       "3      ASUS           Intel        Core i5            10th       8   512   \n",
       "4      ASUS           Intel   Celeron Dual            11th       4     0   \n",
       "..      ...             ...            ...             ...     ...   ...   \n",
       "757    ASUS             AMD        Ryzen 9            11th       4  1024   \n",
       "758    ASUS             AMD        Ryzen 9            11th       4  1024   \n",
       "759    ASUS             AMD        Ryzen 9            11th       4  1024   \n",
       "760    ASUS             AMD        Ryzen 9            11th       4  1024   \n",
       "761  Lenovo             AMD        Ryzen 5            10th       8   512   \n",
       "\n",
       "      hdd  graphic_card_gb  Touchscreen   Price  \n",
       "0    1024                0            0   34649  \n",
       "1    1024                0            0   38999  \n",
       "2    1024                0            0   39999  \n",
       "3       0                2            0   69990  \n",
       "4     512                0            0   26990  \n",
       "..    ...              ...          ...     ...  \n",
       "757     0                0            0  135990  \n",
       "758     0                0            0  144990  \n",
       "759     0                4            0  149990  \n",
       "760     0                4            0  142990  \n",
       "761     0                0            0   57490  \n",
       "\n",
       "[762 rows x 10 columns]"
      ]
     },
     "execution_count": 215,
     "metadata": {},
     "output_type": "execute_result"
    }
   ],
   "source": [
    "D.shape\n",
    "D"
   ]
  },
  {
   "cell_type": "code",
   "execution_count": 213,
   "id": "c17cdf6c",
   "metadata": {},
   "outputs": [
    {
     "data": {
      "text/html": [
       "<div>\n",
       "<style scoped>\n",
       "    .dataframe tbody tr th:only-of-type {\n",
       "        vertical-align: middle;\n",
       "    }\n",
       "\n",
       "    .dataframe tbody tr th {\n",
       "        vertical-align: top;\n",
       "    }\n",
       "\n",
       "    .dataframe thead th {\n",
       "        text-align: right;\n",
       "    }\n",
       "</style>\n",
       "<table border=\"1\" class=\"dataframe\">\n",
       "  <thead>\n",
       "    <tr style=\"text-align: right;\">\n",
       "      <th></th>\n",
       "      <th>ram_gb</th>\n",
       "      <th>ssd</th>\n",
       "      <th>hdd</th>\n",
       "      <th>graphic_card_gb</th>\n",
       "      <th>Touchscreen</th>\n",
       "      <th>Price</th>\n",
       "    </tr>\n",
       "  </thead>\n",
       "  <tbody>\n",
       "    <tr>\n",
       "      <th>ram_gb</th>\n",
       "      <td>1.000000</td>\n",
       "      <td>0.396987</td>\n",
       "      <td>-0.177503</td>\n",
       "      <td>0.290534</td>\n",
       "      <td>0.067926</td>\n",
       "      <td>0.520998</td>\n",
       "    </tr>\n",
       "    <tr>\n",
       "      <th>ssd</th>\n",
       "      <td>0.396987</td>\n",
       "      <td>1.000000</td>\n",
       "      <td>-0.611642</td>\n",
       "      <td>0.335196</td>\n",
       "      <td>0.172911</td>\n",
       "      <td>0.611111</td>\n",
       "    </tr>\n",
       "    <tr>\n",
       "      <th>hdd</th>\n",
       "      <td>-0.177503</td>\n",
       "      <td>-0.611642</td>\n",
       "      <td>1.000000</td>\n",
       "      <td>-0.066032</td>\n",
       "      <td>-0.197401</td>\n",
       "      <td>-0.256707</td>\n",
       "    </tr>\n",
       "    <tr>\n",
       "      <th>graphic_card_gb</th>\n",
       "      <td>0.290534</td>\n",
       "      <td>0.335196</td>\n",
       "      <td>-0.066032</td>\n",
       "      <td>1.000000</td>\n",
       "      <td>-0.122520</td>\n",
       "      <td>0.466433</td>\n",
       "    </tr>\n",
       "    <tr>\n",
       "      <th>Touchscreen</th>\n",
       "      <td>0.067926</td>\n",
       "      <td>0.172911</td>\n",
       "      <td>-0.197401</td>\n",
       "      <td>-0.122520</td>\n",
       "      <td>1.000000</td>\n",
       "      <td>0.184977</td>\n",
       "    </tr>\n",
       "    <tr>\n",
       "      <th>Price</th>\n",
       "      <td>0.520998</td>\n",
       "      <td>0.611111</td>\n",
       "      <td>-0.256707</td>\n",
       "      <td>0.466433</td>\n",
       "      <td>0.184977</td>\n",
       "      <td>1.000000</td>\n",
       "    </tr>\n",
       "  </tbody>\n",
       "</table>\n",
       "</div>"
      ],
      "text/plain": [
       "                   ram_gb       ssd       hdd  graphic_card_gb  Touchscreen  \\\n",
       "ram_gb           1.000000  0.396987 -0.177503         0.290534     0.067926   \n",
       "ssd              0.396987  1.000000 -0.611642         0.335196     0.172911   \n",
       "hdd             -0.177503 -0.611642  1.000000        -0.066032    -0.197401   \n",
       "graphic_card_gb  0.290534  0.335196 -0.066032         1.000000    -0.122520   \n",
       "Touchscreen      0.067926  0.172911 -0.197401        -0.122520     1.000000   \n",
       "Price            0.520998  0.611111 -0.256707         0.466433     0.184977   \n",
       "\n",
       "                    Price  \n",
       "ram_gb           0.520998  \n",
       "ssd              0.611111  \n",
       "hdd             -0.256707  \n",
       "graphic_card_gb  0.466433  \n",
       "Touchscreen      0.184977  \n",
       "Price            1.000000  "
      ]
     },
     "execution_count": 213,
     "metadata": {},
     "output_type": "execute_result"
    }
   ],
   "source": [
    "D.corr(numeric_only=True)"
   ]
  },
  {
   "cell_type": "code",
   "execution_count": 214,
   "id": "5da78c19",
   "metadata": {},
   "outputs": [],
   "source": [
    "# Reset Index\n",
    "D = D.reset_index(drop = True)"
   ]
  },
  {
   "cell_type": "code",
   "execution_count": 141,
   "id": "c215d685",
   "metadata": {},
   "outputs": [],
   "source": [
    "DF = D"
   ]
  },
  {
   "cell_type": "markdown",
   "id": "53d5f5b1",
   "metadata": {},
   "source": [
    "#### One Hot Encoding"
   ]
  },
  {
   "cell_type": "code",
   "execution_count": 216,
   "id": "43d7e777",
   "metadata": {},
   "outputs": [
    {
     "data": {
      "text/html": [
       "<div>\n",
       "<style scoped>\n",
       "    .dataframe tbody tr th:only-of-type {\n",
       "        vertical-align: middle;\n",
       "    }\n",
       "\n",
       "    .dataframe tbody tr th {\n",
       "        vertical-align: top;\n",
       "    }\n",
       "\n",
       "    .dataframe thead th {\n",
       "        text-align: right;\n",
       "    }\n",
       "</style>\n",
       "<table border=\"1\" class=\"dataframe\">\n",
       "  <thead>\n",
       "    <tr style=\"text-align: right;\">\n",
       "      <th></th>\n",
       "      <th>brand</th>\n",
       "      <th>processor_brand</th>\n",
       "      <th>processor_name</th>\n",
       "      <th>processor_gnrtn</th>\n",
       "      <th>ram_gb</th>\n",
       "      <th>ssd</th>\n",
       "      <th>hdd</th>\n",
       "      <th>graphic_card_gb</th>\n",
       "      <th>Touchscreen</th>\n",
       "      <th>Price</th>\n",
       "    </tr>\n",
       "  </thead>\n",
       "  <tbody>\n",
       "    <tr>\n",
       "      <th>0</th>\n",
       "      <td>ASUS</td>\n",
       "      <td>Intel</td>\n",
       "      <td>Core i3</td>\n",
       "      <td>10th</td>\n",
       "      <td>4</td>\n",
       "      <td>0</td>\n",
       "      <td>1024</td>\n",
       "      <td>0</td>\n",
       "      <td>0</td>\n",
       "      <td>34649</td>\n",
       "    </tr>\n",
       "    <tr>\n",
       "      <th>1</th>\n",
       "      <td>Lenovo</td>\n",
       "      <td>Intel</td>\n",
       "      <td>Core i3</td>\n",
       "      <td>10th</td>\n",
       "      <td>4</td>\n",
       "      <td>0</td>\n",
       "      <td>1024</td>\n",
       "      <td>0</td>\n",
       "      <td>0</td>\n",
       "      <td>38999</td>\n",
       "    </tr>\n",
       "    <tr>\n",
       "      <th>2</th>\n",
       "      <td>Lenovo</td>\n",
       "      <td>Intel</td>\n",
       "      <td>Core i3</td>\n",
       "      <td>10th</td>\n",
       "      <td>4</td>\n",
       "      <td>0</td>\n",
       "      <td>1024</td>\n",
       "      <td>0</td>\n",
       "      <td>0</td>\n",
       "      <td>39999</td>\n",
       "    </tr>\n",
       "    <tr>\n",
       "      <th>3</th>\n",
       "      <td>ASUS</td>\n",
       "      <td>Intel</td>\n",
       "      <td>Core i5</td>\n",
       "      <td>10th</td>\n",
       "      <td>8</td>\n",
       "      <td>512</td>\n",
       "      <td>0</td>\n",
       "      <td>2</td>\n",
       "      <td>0</td>\n",
       "      <td>69990</td>\n",
       "    </tr>\n",
       "    <tr>\n",
       "      <th>4</th>\n",
       "      <td>ASUS</td>\n",
       "      <td>Intel</td>\n",
       "      <td>Celeron Dual</td>\n",
       "      <td>11th</td>\n",
       "      <td>4</td>\n",
       "      <td>0</td>\n",
       "      <td>512</td>\n",
       "      <td>0</td>\n",
       "      <td>0</td>\n",
       "      <td>26990</td>\n",
       "    </tr>\n",
       "    <tr>\n",
       "      <th>...</th>\n",
       "      <td>...</td>\n",
       "      <td>...</td>\n",
       "      <td>...</td>\n",
       "      <td>...</td>\n",
       "      <td>...</td>\n",
       "      <td>...</td>\n",
       "      <td>...</td>\n",
       "      <td>...</td>\n",
       "      <td>...</td>\n",
       "      <td>...</td>\n",
       "    </tr>\n",
       "    <tr>\n",
       "      <th>757</th>\n",
       "      <td>ASUS</td>\n",
       "      <td>AMD</td>\n",
       "      <td>Ryzen 9</td>\n",
       "      <td>11th</td>\n",
       "      <td>4</td>\n",
       "      <td>1024</td>\n",
       "      <td>0</td>\n",
       "      <td>0</td>\n",
       "      <td>0</td>\n",
       "      <td>135990</td>\n",
       "    </tr>\n",
       "    <tr>\n",
       "      <th>758</th>\n",
       "      <td>ASUS</td>\n",
       "      <td>AMD</td>\n",
       "      <td>Ryzen 9</td>\n",
       "      <td>11th</td>\n",
       "      <td>4</td>\n",
       "      <td>1024</td>\n",
       "      <td>0</td>\n",
       "      <td>0</td>\n",
       "      <td>0</td>\n",
       "      <td>144990</td>\n",
       "    </tr>\n",
       "    <tr>\n",
       "      <th>759</th>\n",
       "      <td>ASUS</td>\n",
       "      <td>AMD</td>\n",
       "      <td>Ryzen 9</td>\n",
       "      <td>11th</td>\n",
       "      <td>4</td>\n",
       "      <td>1024</td>\n",
       "      <td>0</td>\n",
       "      <td>4</td>\n",
       "      <td>0</td>\n",
       "      <td>149990</td>\n",
       "    </tr>\n",
       "    <tr>\n",
       "      <th>760</th>\n",
       "      <td>ASUS</td>\n",
       "      <td>AMD</td>\n",
       "      <td>Ryzen 9</td>\n",
       "      <td>11th</td>\n",
       "      <td>4</td>\n",
       "      <td>1024</td>\n",
       "      <td>0</td>\n",
       "      <td>4</td>\n",
       "      <td>0</td>\n",
       "      <td>142990</td>\n",
       "    </tr>\n",
       "    <tr>\n",
       "      <th>761</th>\n",
       "      <td>Lenovo</td>\n",
       "      <td>AMD</td>\n",
       "      <td>Ryzen 5</td>\n",
       "      <td>10th</td>\n",
       "      <td>8</td>\n",
       "      <td>512</td>\n",
       "      <td>0</td>\n",
       "      <td>0</td>\n",
       "      <td>0</td>\n",
       "      <td>57490</td>\n",
       "    </tr>\n",
       "  </tbody>\n",
       "</table>\n",
       "<p>762 rows × 10 columns</p>\n",
       "</div>"
      ],
      "text/plain": [
       "      brand processor_brand processor_name processor_gnrtn  ram_gb   ssd  \\\n",
       "0      ASUS           Intel        Core i3            10th       4     0   \n",
       "1    Lenovo           Intel        Core i3            10th       4     0   \n",
       "2    Lenovo           Intel        Core i3            10th       4     0   \n",
       "3      ASUS           Intel        Core i5            10th       8   512   \n",
       "4      ASUS           Intel   Celeron Dual            11th       4     0   \n",
       "..      ...             ...            ...             ...     ...   ...   \n",
       "757    ASUS             AMD        Ryzen 9            11th       4  1024   \n",
       "758    ASUS             AMD        Ryzen 9            11th       4  1024   \n",
       "759    ASUS             AMD        Ryzen 9            11th       4  1024   \n",
       "760    ASUS             AMD        Ryzen 9            11th       4  1024   \n",
       "761  Lenovo             AMD        Ryzen 5            10th       8   512   \n",
       "\n",
       "      hdd  graphic_card_gb  Touchscreen   Price  \n",
       "0    1024                0            0   34649  \n",
       "1    1024                0            0   38999  \n",
       "2    1024                0            0   39999  \n",
       "3       0                2            0   69990  \n",
       "4     512                0            0   26990  \n",
       "..    ...              ...          ...     ...  \n",
       "757     0                0            0  135990  \n",
       "758     0                0            0  144990  \n",
       "759     0                4            0  149990  \n",
       "760     0                4            0  142990  \n",
       "761     0                0            0   57490  \n",
       "\n",
       "[762 rows x 10 columns]"
      ]
     },
     "execution_count": 216,
     "metadata": {},
     "output_type": "execute_result"
    }
   ],
   "source": [
    "\n",
    "D[\"brand\"].value_counts()  # 8\n",
    "D[\"processor_brand\"].value_counts()   # 3\n",
    "D[\"processor_name\"].value_counts()    # 11\n",
    "D[\"processor_gnrtn\"].value_counts()   # 7\n",
    "D"
   ]
  },
  {
   "cell_type": "code",
   "execution_count": 144,
   "id": "67ef39e5",
   "metadata": {},
   "outputs": [],
   "source": [
    "DF = pd.get_dummies(D,columns=[\"brand\",\"processor_brand\",\"processor_name\",\"processor_gnrtn\"],dtype=int)"
   ]
  },
  {
   "cell_type": "code",
   "execution_count": null,
   "id": "8f6d437b",
   "metadata": {},
   "outputs": [],
   "source": []
  },
  {
   "cell_type": "code",
   "execution_count": null,
   "id": "36588130",
   "metadata": {},
   "outputs": [],
   "source": []
  },
  {
   "cell_type": "code",
   "execution_count": null,
   "id": "263fb230",
   "metadata": {},
   "outputs": [],
   "source": []
  },
  {
   "cell_type": "code",
   "execution_count": null,
   "id": "6db7b744",
   "metadata": {},
   "outputs": [],
   "source": []
  },
  {
   "cell_type": "code",
   "execution_count": null,
   "id": "75103861",
   "metadata": {},
   "outputs": [],
   "source": []
  },
  {
   "cell_type": "code",
   "execution_count": 196,
   "id": "1748242c",
   "metadata": {},
   "outputs": [
    {
     "data": {
      "text/plain": [
       "(762, 35)"
      ]
     },
     "execution_count": 196,
     "metadata": {},
     "output_type": "execute_result"
    }
   ],
   "source": [
    "DF.shape"
   ]
  },
  {
   "cell_type": "code",
   "execution_count": 146,
   "id": "451791e8",
   "metadata": {},
   "outputs": [
    {
     "data": {
      "text/plain": [
       "Touchscreen\n",
       "0    693\n",
       "1     92\n",
       "Name: count, dtype: int64"
      ]
     },
     "execution_count": 146,
     "metadata": {},
     "output_type": "execute_result"
    }
   ],
   "source": [
    "df[\"Touchscreen\"].value_counts()"
   ]
  },
  {
   "cell_type": "code",
   "execution_count": 147,
   "id": "8fe45975",
   "metadata": {},
   "outputs": [
    {
     "data": {
      "text/plain": [
       "Index(['ram_gb', 'ssd', 'hdd', 'graphic_card_gb', 'Touchscreen', 'Price',\n",
       "       'brand_APPLE', 'brand_ASUS', 'brand_Avita', 'brand_DELL', 'brand_HP',\n",
       "       'brand_Lenovo', 'brand_MSI', 'brand_acer', 'processor_brand_AMD',\n",
       "       'processor_brand_Intel', 'processor_brand_M1',\n",
       "       'processor_name_Celeron Dual', 'processor_name_Core i3',\n",
       "       'processor_name_Core i5', 'processor_name_Core i7',\n",
       "       'processor_name_Core i9', 'processor_name_M1',\n",
       "       'processor_name_Pentium Quad', 'processor_name_Ryzen 3',\n",
       "       'processor_name_Ryzen 5', 'processor_name_Ryzen 7',\n",
       "       'processor_name_Ryzen 9', 'processor_gnrtn_10th',\n",
       "       'processor_gnrtn_11th', 'processor_gnrtn_12th', 'processor_gnrtn_4th',\n",
       "       'processor_gnrtn_7th', 'processor_gnrtn_8th', 'processor_gnrtn_9th'],\n",
       "      dtype='object')"
      ]
     },
     "execution_count": 147,
     "metadata": {},
     "output_type": "execute_result"
    }
   ],
   "source": [
    "DF.sample(2)  # 32\n",
    "DF.columns"
   ]
  },
  {
   "cell_type": "code",
   "execution_count": null,
   "id": "383fe52b",
   "metadata": {},
   "outputs": [],
   "source": []
  },
  {
   "cell_type": "code",
   "execution_count": null,
   "id": "af68a474",
   "metadata": {},
   "outputs": [],
   "source": []
  },
  {
   "cell_type": "markdown",
   "id": "186974d5",
   "metadata": {},
   "source": [
    "### split Data"
   ]
  },
  {
   "cell_type": "code",
   "execution_count": 169,
   "id": "0d11e8b8",
   "metadata": {},
   "outputs": [
    {
     "data": {
      "text/plain": [
       "0       34649\n",
       "1       38999\n",
       "2       39999\n",
       "3       69990\n",
       "4       26990\n",
       "        ...  \n",
       "757    135990\n",
       "758    144990\n",
       "759    149990\n",
       "760    142990\n",
       "761     57490\n",
       "Name: Price, Length: 762, dtype: int64"
      ]
     },
     "execution_count": 169,
     "metadata": {},
     "output_type": "execute_result"
    }
   ],
   "source": [
    "x = DF.drop([\"Price\"],axis=1) # price\n",
    "y = DF.loc[:,\"Price\"]\n",
    "y"
   ]
  },
  {
   "cell_type": "code",
   "execution_count": null,
   "id": "7fc6cea0",
   "metadata": {},
   "outputs": [],
   "source": []
  },
  {
   "cell_type": "code",
   "execution_count": 149,
   "id": "86fc789e",
   "metadata": {},
   "outputs": [],
   "source": [
    "from sklearn.model_selection import train_test_split"
   ]
  },
  {
   "cell_type": "code",
   "execution_count": 154,
   "id": "c4972632",
   "metadata": {},
   "outputs": [],
   "source": [
    "x_train, x_test, y_train, y_test = train_test_split(x,y,test_size=0.2,random_state=7)"
   ]
  },
  {
   "cell_type": "code",
   "execution_count": 155,
   "id": "8c366f40",
   "metadata": {},
   "outputs": [
    {
     "data": {
      "text/plain": [
       "(609,)"
      ]
     },
     "execution_count": 155,
     "metadata": {},
     "output_type": "execute_result"
    }
   ],
   "source": [
    "x_train.shape\n",
    "y_train.shape"
   ]
  },
  {
   "cell_type": "code",
   "execution_count": 156,
   "id": "b9c8aa9b",
   "metadata": {},
   "outputs": [
    {
     "data": {
      "text/plain": [
       "(153,)"
      ]
     },
     "execution_count": 156,
     "metadata": {},
     "output_type": "execute_result"
    }
   ],
   "source": [
    "x_test.shape\n",
    "y_test.shape"
   ]
  },
  {
   "cell_type": "code",
   "execution_count": 157,
   "id": "dcd0e4e8",
   "metadata": {},
   "outputs": [],
   "source": [
    "from sklearn.linear_model import LinearRegression\n",
    "lr = LinearRegression()"
   ]
  },
  {
   "cell_type": "code",
   "execution_count": 158,
   "id": "b0398530",
   "metadata": {},
   "outputs": [
    {
     "data": {
      "text/html": [
       "<style>#sk-container-id-1 {color: black;}#sk-container-id-1 pre{padding: 0;}#sk-container-id-1 div.sk-toggleable {background-color: white;}#sk-container-id-1 label.sk-toggleable__label {cursor: pointer;display: block;width: 100%;margin-bottom: 0;padding: 0.3em;box-sizing: border-box;text-align: center;}#sk-container-id-1 label.sk-toggleable__label-arrow:before {content: \"▸\";float: left;margin-right: 0.25em;color: #696969;}#sk-container-id-1 label.sk-toggleable__label-arrow:hover:before {color: black;}#sk-container-id-1 div.sk-estimator:hover label.sk-toggleable__label-arrow:before {color: black;}#sk-container-id-1 div.sk-toggleable__content {max-height: 0;max-width: 0;overflow: hidden;text-align: left;background-color: #f0f8ff;}#sk-container-id-1 div.sk-toggleable__content pre {margin: 0.2em;color: black;border-radius: 0.25em;background-color: #f0f8ff;}#sk-container-id-1 input.sk-toggleable__control:checked~div.sk-toggleable__content {max-height: 200px;max-width: 100%;overflow: auto;}#sk-container-id-1 input.sk-toggleable__control:checked~label.sk-toggleable__label-arrow:before {content: \"▾\";}#sk-container-id-1 div.sk-estimator input.sk-toggleable__control:checked~label.sk-toggleable__label {background-color: #d4ebff;}#sk-container-id-1 div.sk-label input.sk-toggleable__control:checked~label.sk-toggleable__label {background-color: #d4ebff;}#sk-container-id-1 input.sk-hidden--visually {border: 0;clip: rect(1px 1px 1px 1px);clip: rect(1px, 1px, 1px, 1px);height: 1px;margin: -1px;overflow: hidden;padding: 0;position: absolute;width: 1px;}#sk-container-id-1 div.sk-estimator {font-family: monospace;background-color: #f0f8ff;border: 1px dotted black;border-radius: 0.25em;box-sizing: border-box;margin-bottom: 0.5em;}#sk-container-id-1 div.sk-estimator:hover {background-color: #d4ebff;}#sk-container-id-1 div.sk-parallel-item::after {content: \"\";width: 100%;border-bottom: 1px solid gray;flex-grow: 1;}#sk-container-id-1 div.sk-label:hover label.sk-toggleable__label {background-color: #d4ebff;}#sk-container-id-1 div.sk-serial::before {content: \"\";position: absolute;border-left: 1px solid gray;box-sizing: border-box;top: 0;bottom: 0;left: 50%;z-index: 0;}#sk-container-id-1 div.sk-serial {display: flex;flex-direction: column;align-items: center;background-color: white;padding-right: 0.2em;padding-left: 0.2em;position: relative;}#sk-container-id-1 div.sk-item {position: relative;z-index: 1;}#sk-container-id-1 div.sk-parallel {display: flex;align-items: stretch;justify-content: center;background-color: white;position: relative;}#sk-container-id-1 div.sk-item::before, #sk-container-id-1 div.sk-parallel-item::before {content: \"\";position: absolute;border-left: 1px solid gray;box-sizing: border-box;top: 0;bottom: 0;left: 50%;z-index: -1;}#sk-container-id-1 div.sk-parallel-item {display: flex;flex-direction: column;z-index: 1;position: relative;background-color: white;}#sk-container-id-1 div.sk-parallel-item:first-child::after {align-self: flex-end;width: 50%;}#sk-container-id-1 div.sk-parallel-item:last-child::after {align-self: flex-start;width: 50%;}#sk-container-id-1 div.sk-parallel-item:only-child::after {width: 0;}#sk-container-id-1 div.sk-dashed-wrapped {border: 1px dashed gray;margin: 0 0.4em 0.5em 0.4em;box-sizing: border-box;padding-bottom: 0.4em;background-color: white;}#sk-container-id-1 div.sk-label label {font-family: monospace;font-weight: bold;display: inline-block;line-height: 1.2em;}#sk-container-id-1 div.sk-label-container {text-align: center;}#sk-container-id-1 div.sk-container {/* jupyter's `normalize.less` sets `[hidden] { display: none; }` but bootstrap.min.css set `[hidden] { display: none !important; }` so we also need the `!important` here to be able to override the default hidden behavior on the sphinx rendered scikit-learn.org. See: https://github.com/scikit-learn/scikit-learn/issues/21755 */display: inline-block !important;position: relative;}#sk-container-id-1 div.sk-text-repr-fallback {display: none;}</style><div id=\"sk-container-id-1\" class=\"sk-top-container\"><div class=\"sk-text-repr-fallback\"><pre>LinearRegression()</pre><b>In a Jupyter environment, please rerun this cell to show the HTML representation or trust the notebook. <br />On GitHub, the HTML representation is unable to render, please try loading this page with nbviewer.org.</b></div><div class=\"sk-container\" hidden><div class=\"sk-item\"><div class=\"sk-estimator sk-toggleable\"><input class=\"sk-toggleable__control sk-hidden--visually\" id=\"sk-estimator-id-1\" type=\"checkbox\" checked><label for=\"sk-estimator-id-1\" class=\"sk-toggleable__label sk-toggleable__label-arrow\">LinearRegression</label><div class=\"sk-toggleable__content\"><pre>LinearRegression()</pre></div></div></div></div></div>"
      ],
      "text/plain": [
       "LinearRegression()"
      ]
     },
     "execution_count": 158,
     "metadata": {},
     "output_type": "execute_result"
    }
   ],
   "source": [
    "lr.fit(x_train,y_train)"
   ]
  },
  {
   "cell_type": "markdown",
   "id": "25896221",
   "metadata": {},
   "source": [
    "#### Manual Testing"
   ]
  },
  {
   "cell_type": "code",
   "execution_count": 159,
   "id": "883e0489",
   "metadata": {},
   "outputs": [
    {
     "data": {
      "text/plain": [
       "365    74990\n",
       "609    41999\n",
       "727    77988\n",
       "Name: Price, dtype: int64"
      ]
     },
     "execution_count": 159,
     "metadata": {},
     "output_type": "execute_result"
    }
   ],
   "source": [
    "x_test[1:2]\n",
    "y_test[10:13]"
   ]
  },
  {
   "cell_type": "code",
   "execution_count": 160,
   "id": "25fad9af",
   "metadata": {},
   "outputs": [],
   "source": [
    "y_pred = lr.predict(x_test)"
   ]
  },
  {
   "cell_type": "code",
   "execution_count": 161,
   "id": "19a3e40c",
   "metadata": {},
   "outputs": [
    {
     "data": {
      "text/plain": [
       "array([80434.73, 51678.93, 86216.46])"
      ]
     },
     "execution_count": 161,
     "metadata": {},
     "output_type": "execute_result"
    }
   ],
   "source": [
    "y_pred[10:13].round(2)"
   ]
  },
  {
   "cell_type": "markdown",
   "id": "953974dd",
   "metadata": {},
   "source": [
    "### Gradient Descent Algorithm"
   ]
  },
  {
   "cell_type": "raw",
   "id": "71a5885e",
   "metadata": {},
   "source": [
    "Y = M1X1 + M2X2 + ... + MnXn + C  >> Muliple Linear Regression\n",
    "\n",
    "Y = Price\n",
    "M1 = Waightage of X1 to Predict Y\n",
    "M2 = Waightage of X2 to Predict Y\n",
    "C  = Offcet"
   ]
  },
  {
   "cell_type": "code",
   "execution_count": 162,
   "id": "d47903b3",
   "metadata": {},
   "outputs": [
    {
     "name": "stdout",
     "output_type": "stream",
     "text": [
      "['ram_gb' 'ssd' 'hdd' 'graphic_card_gb' 'Touchscreen' 'brand_APPLE'\n",
      " 'brand_ASUS' 'brand_Avita' 'brand_DELL' 'brand_HP' 'brand_Lenovo'\n",
      " 'brand_MSI' 'brand_acer' 'processor_brand_AMD' 'processor_brand_Intel'\n",
      " 'processor_brand_M1' 'processor_name_Celeron Dual'\n",
      " 'processor_name_Core i3' 'processor_name_Core i5'\n",
      " 'processor_name_Core i7' 'processor_name_Core i9' 'processor_name_M1'\n",
      " 'processor_name_Pentium Quad' 'processor_name_Ryzen 3'\n",
      " 'processor_name_Ryzen 5' 'processor_name_Ryzen 7'\n",
      " 'processor_name_Ryzen 9' 'processor_gnrtn_10th' 'processor_gnrtn_11th'\n",
      " 'processor_gnrtn_12th' 'processor_gnrtn_4th' 'processor_gnrtn_7th'\n",
      " 'processor_gnrtn_8th' 'processor_gnrtn_9th']\n",
      "----------------------------------------------------------------------\n",
      " 'M'  Linear Coefficient (Slome) \n",
      "[ 9.47567574e+02  4.01387387e+01  7.55901428e+00  3.89731314e+03\n",
      "  2.08633588e+04  7.81251509e+04 -1.02485291e+04 -3.17787640e+04\n",
      " -8.44892668e+03 -5.36757973e+03 -9.02048563e+03 -1.15332793e+03\n",
      " -1.21075378e+04  5.83841532e+02  1.10840754e+04 -1.16679170e+04\n",
      " -3.54028315e+04 -3.59392657e+04 -1.70250817e+04  4.60120182e+03\n",
      "  1.23774368e+05 -1.16679170e+04 -2.89243158e+04 -1.89840701e+04\n",
      " -1.24309100e+04 -8.94864564e+01  3.20883082e+04  9.93681864e+01\n",
      " -1.42342944e+04  4.24356127e+04 -1.19540250e+04 -6.56426542e+03\n",
      "  3.18010163e+03 -1.29624978e+04]\n",
      "----------------------------------------------------------------------\n",
      " 'C' lenier Intersept \n",
      "64084.545649645675\n",
      "----------------------------------------------------------------------\n"
     ]
    }
   ],
   "source": [
    "\n",
    "x = lr.feature_names_in_\n",
    "print(x)\n",
    "print(\"-\"*70)\n",
    "m = lr.coef_\n",
    "print(\" 'M'  Linear Coefficient (Slome) \")\n",
    "print(m)\n",
    "print(\"-\"*70)\n",
    "x = lr.intercept_\n",
    "print(\" 'C' lenier Intersept \")\n",
    "print(x)\n",
    "print(\"-\"*70)"
   ]
  },
  {
   "cell_type": "markdown",
   "id": "e0700527",
   "metadata": {},
   "source": [
    "### Evalution"
   ]
  },
  {
   "cell_type": "code",
   "execution_count": 163,
   "id": "bffec068",
   "metadata": {},
   "outputs": [],
   "source": [
    "from sklearn.metrics import r2_score ,mean_absolute_error"
   ]
  },
  {
   "cell_type": "markdown",
   "id": "384760d6",
   "metadata": {},
   "source": [
    "#### Testing Data"
   ]
  },
  {
   "cell_type": "code",
   "execution_count": 164,
   "id": "9fc0438d",
   "metadata": {},
   "outputs": [
    {
     "name": "stdout",
     "output_type": "stream",
     "text": [
      "MAE : 14950.167209909872\n",
      "Coeff. of Determination : 67.41 %\n"
     ]
    }
   ],
   "source": [
    "y_pred = lr.predict(x_test)\n",
    "\n",
    "mae = mean_absolute_error(y_test,y_pred)\n",
    "print(\"MAE :\",mae)\n",
    "\n",
    "r2 = r2_score(y_test,y_pred)\n",
    "print(\"Coeff. of Determination :\",(r2*100).round(2),\"%\")"
   ]
  },
  {
   "cell_type": "markdown",
   "id": "8674f5e8",
   "metadata": {},
   "source": [
    "### Testing Data : 67.41 %"
   ]
  },
  {
   "cell_type": "markdown",
   "id": "c24d199f",
   "metadata": {},
   "source": [
    "### Training Data : 71.51%"
   ]
  },
  {
   "cell_type": "code",
   "execution_count": 165,
   "id": "fcaed12c",
   "metadata": {},
   "outputs": [
    {
     "name": "stdout",
     "output_type": "stream",
     "text": [
      "MAE : 15354.715614296141\n",
      "Coeff. of Determination : 71.51 %\n"
     ]
    }
   ],
   "source": [
    "y_pred_train = lr.predict(x_train)\n",
    "\n",
    "mae = mean_absolute_error(y_train,y_pred_train)\n",
    "print(\"MAE :\",mae)\n",
    "\n",
    "r2 = r2_score(y_train,y_pred_train)\n",
    "print(\"Coeff. of Determination :\",(r2*100).round(2),\"%\")"
   ]
  },
  {
   "cell_type": "code",
   "execution_count": null,
   "id": "e72b5d21",
   "metadata": {},
   "outputs": [],
   "source": []
  },
  {
   "cell_type": "markdown",
   "id": "6ef4cfb5",
   "metadata": {},
   "source": [
    "### Load Model"
   ]
  },
  {
   "cell_type": "code",
   "execution_count": 166,
   "id": "61576aba",
   "metadata": {},
   "outputs": [],
   "source": [
    "import pickle\n",
    "\n",
    "with open(\"model.pkl\",\"wb\") as s:\n",
    "    pickle.dump(lr,s)"
   ]
  },
  {
   "cell_type": "markdown",
   "id": "d0606696",
   "metadata": {},
   "source": [
    "### Load Data"
   ]
  },
  {
   "cell_type": "code",
   "execution_count": 180,
   "id": "b390eb31",
   "metadata": {},
   "outputs": [
    {
     "data": {
      "text/plain": [
       "34"
      ]
     },
     "execution_count": 180,
     "metadata": {},
     "output_type": "execute_result"
    }
   ],
   "source": [
    "col = lr.feature_names_in_.tolist()\n",
    "len(col)\n",
    "# col"
   ]
  },
  {
   "cell_type": "code",
   "execution_count": 170,
   "id": "98c35722",
   "metadata": {},
   "outputs": [],
   "source": [
    "# graphic_card_gb\n",
    "graphic_card_gb_data = {\"0 GB\":0,\"4 GB\":4,\"2 GB\":2,\"6 GB\":6,\"8 GB\":8}\n",
    "\n",
    "# ram_gb\n",
    "ram_gb_data = {\"4 GB\":4,\"16 GB\":16,\"32 GB\":32,\"8 GB\":8}\n",
    "\n",
    "# hdd\n",
    "hdd = {\"0 GB\":0,\"1024 GB\":1024,\"512 GB\":512,\"2048 GB\":2048}\n",
    "\n",
    "# ssd\n",
    "ssd_data = {\"512 GB\":512,\"256 GB\":256,\"0 GB\":0,\"1024 GB\":1024,\"128 GB \":128,\n",
    "                  \"2048 GB\":2048,\"3072 GB\":2048,\"128 GB\":128}\n",
    "\n",
    "# Touchscreen\n",
    "Touchscreen_data = {\"Yes\":1,\"No\":0}\n"
   ]
  },
  {
   "cell_type": "code",
   "execution_count": null,
   "id": "7250a52f",
   "metadata": {},
   "outputs": [],
   "source": []
  },
  {
   "cell_type": "code",
   "execution_count": 171,
   "id": "dabc866f",
   "metadata": {},
   "outputs": [],
   "source": [
    "# Touchscreen\n",
    "Touchscreen_data = {\"Yes\":1,\"No\":0}\n",
    "\n",
    "# os\n",
    "os_data = {\"Windows\":1,\"DOS\":2,\"Mac\":3}"
   ]
  },
  {
   "cell_type": "code",
   "execution_count": 183,
   "id": "ec4ff877",
   "metadata": {},
   "outputs": [],
   "source": [
    "A = {\"Touchscreen\":Touchscreen_data,\"col\":col}\n",
    "# A"
   ]
  },
  {
   "cell_type": "code",
   "execution_count": 184,
   "id": "ada14796",
   "metadata": {},
   "outputs": [],
   "source": [
    "import json\n",
    "\n",
    "with open(\"pro_data.json\",\"w\") as L:\n",
    "    json.dump(A,L)"
   ]
  },
  {
   "cell_type": "code",
   "execution_count": 185,
   "id": "29c51ff4",
   "metadata": {},
   "outputs": [
    {
     "data": {
      "text/plain": [
       "(762, 35)"
      ]
     },
     "execution_count": 185,
     "metadata": {},
     "output_type": "execute_result"
    }
   ],
   "source": [
    "DF.shape"
   ]
  },
  {
   "cell_type": "code",
   "execution_count": 2,
   "id": "6421b1d5",
   "metadata": {},
   "outputs": [],
   "source": [
    "# DF.corr()[[\"Price\"]]"
   ]
  },
  {
   "cell_type": "code",
   "execution_count": null,
   "id": "f82f61d8",
   "metadata": {},
   "outputs": [],
   "source": [
    "\n",
    "['ram_gb' 'ssd' 'hdd' 'os' 'graphic_card_gb' 'Touchscreen' 'brand_APPLE'\n",
    " 'brand_ASUS' 'brand_Avita' 'brand_DELL' 'brand_HP' 'brand_Lenovo'\n",
    " 'brand_MSI' 'brand_acer' 'ram_type_DDR3' 'ram_type_DDR4' 'ram_type_DDR5'\n",
    " 'ram_type_LPDDR3' 'ram_type_LPDDR4' 'ram_type_LPDDR4X'\n",
    " 'processor_brand_AMD' 'processor_brand_Intel' 'processor_brand_M1'\n",
    " 'processor_name_Celeron Dual' 'processor_name_Core i3'\n",
    " 'processor_name_Core i5' 'processor_name_Core i7'\n",
    " 'processor_name_Core i9' 'processor_name_M1'\n",
    " 'processor_name_Pentium Quad' 'processor_name_Ryzen 3'\n",
    " 'processor_name_Ryzen 5' 'processor_name_Ryzen 7'\n",
    " 'processor_name_Ryzen 9' 'processor_gnrtn_10th' 'processor_gnrtn_11th'\n",
    " 'processor_gnrtn_12th' 'processor_gnrtn_4th' 'processor_gnrtn_7th'\n",
    " 'processor_gnrtn_8th' 'processor_gnrtn_9th']\n"
   ]
  },
  {
   "cell_type": "code",
   "execution_count": 195,
   "id": "9874d787",
   "metadata": {},
   "outputs": [
    {
     "name": "stdout",
     "output_type": "stream",
     "text": [
      "[[   8.  250. 1000.    2.    0.    0.    0.    0.    0.    0.    0.    0.\n",
      "     1.    0.    1.    0.    0.    1.    0.    0.    0.    0.    0.    0.\n",
      "     0.    0.    0.    0.    0.    0.    0.    1.    0.    0.]]\n"
     ]
    },
    {
     "data": {
      "text/plain": [
       "53526.0"
      ]
     },
     "execution_count": 195,
     "metadata": {},
     "output_type": "execute_result"
    }
   ],
   "source": [
    "\n",
    "import warnings\n",
    "warnings.filterwarnings(\"ignore\")\n",
    "import pickle\n",
    "import json\n",
    "import numpy as np\n",
    "import pandas as pd\n",
    "\n",
    "class Laptop_Price():\n",
    "    def __init__(self,ram_gb,ssd,hdd,graphic_card_gb,Touchscreen,brand,\n",
    "                 processor_brand,processor_name,processor_gnrtn):\n",
    "               \n",
    "        self.ram_gb = ram_gb\n",
    "        self.ssd = ssd\n",
    "        self.hdd = hdd     \n",
    "        self.graphic_card_gb = graphic_card_gb\n",
    "        self.Touchscreen = Touchscreen\n",
    "        self.brand = \"brand_\" + brand\n",
    "        self.processor_brand = \"processor_brand_\" + processor_brand\n",
    "        self.processor_name = \"processor_name_\" + processor_name\n",
    "        self.processor_gnrtn = \"processor_gnrtn_\" + processor_gnrtn\n",
    "        \n",
    "    def load_data(self):\n",
    "        with open(\"model.pkl\",\"rb\") as r:\n",
    "            self.model = pickle.load(r)\n",
    "            \n",
    "        with open(\"pro_data.json\",\"r\") as e:\n",
    "            self.data = json.load(e)\n",
    "            \n",
    "    def lap_price(self):\n",
    "        self.load_data()\n",
    "               \n",
    "        brand_index = self.data[\"col\"].index(self.brand) \n",
    "        processor_brand_index = self.data[\"col\"].index(self.processor_brand)\n",
    "        processor_name_index = self.data[\"col\"].index(self.processor_name) \n",
    "        processor_gnrtn_index = self.data[\"col\"].index(self.processor_gnrtn)\n",
    "\n",
    "        array = np.zeros([1,len(self.data[\"col\"])])\n",
    "\n",
    "        array[0][0] = self.ram_gb\n",
    "        array[0][1] = self.ssd\n",
    "        array[0][2] = self.hdd\n",
    "        array[0][3] = self.graphic_card_gb\n",
    "        array[0][4] = self.Touchscreen\n",
    "        \n",
    "        array[0,brand_index] = 1\n",
    "        array[0,processor_brand_index] = 1\n",
    "        array[0,processor_name_index] = 1\n",
    "        array[0,processor_gnrtn_index] = 1\n",
    "        \n",
    "        print(array)\n",
    "        price = self.model.predict(array)[0].round()\n",
    "        return price\n",
    "    \n",
    "obj = Laptop_Price(8,250,1000,2,0,\"acer\",\"Intel\",\"Core i3\",\"7th\")\n",
    "obj.lap_price()\n",
    "\n",
    "# SUGGESTION **\n",
    "# OS\n",
    "# Touchscreen"
   ]
  },
  {
   "cell_type": "code",
   "execution_count": null,
   "id": "c358b80f",
   "metadata": {},
   "outputs": [],
   "source": []
  }
 ],
 "metadata": {
  "kernelspec": {
   "display_name": "Python 3 (ipykernel)",
   "language": "python",
   "name": "python3"
  },
  "language_info": {
   "codemirror_mode": {
    "name": "ipython",
    "version": 3
   },
   "file_extension": ".py",
   "mimetype": "text/x-python",
   "name": "python",
   "nbconvert_exporter": "python",
   "pygments_lexer": "ipython3",
   "version": "3.11.4"
  }
 },
 "nbformat": 4,
 "nbformat_minor": 5
}
